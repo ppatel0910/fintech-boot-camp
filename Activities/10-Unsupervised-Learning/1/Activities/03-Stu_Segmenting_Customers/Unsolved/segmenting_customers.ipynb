{
 "cells": [
  {
   "cell_type": "markdown",
   "metadata": {},
   "source": [
    "# Segmenting Customers\n",
    "\n",
    "You have been asked to review how the customer ratings data looks when modeled with 3 and 4 clusters.\n",
    "\n",
    "Using the information contained in this notebook, apply the K-means algrothim to the service_ratings data using both 3 and 4 clusters to segment the customer information."
   ]
  },
  {
   "cell_type": "code",
   "execution_count": 11,
   "metadata": {
    "tags": []
   },
   "outputs": [],
   "source": [
    "# Import the modules\n",
    "import pandas as pd\n",
    "from pathlib import Path\n",
    "import hvplot.pandas\n",
    "\n",
    "# Import the K-means algorithm\n",
    "from sklearn.cluster import KMeans"
   ]
  },
  {
   "cell_type": "code",
   "execution_count": 7,
   "metadata": {
    "tags": []
   },
   "outputs": [
    {
     "data": {
      "text/html": [
       "<div>\n",
       "<style scoped>\n",
       "    .dataframe tbody tr th:only-of-type {\n",
       "        vertical-align: middle;\n",
       "    }\n",
       "\n",
       "    .dataframe tbody tr th {\n",
       "        vertical-align: top;\n",
       "    }\n",
       "\n",
       "    .dataframe thead th {\n",
       "        text-align: right;\n",
       "    }\n",
       "</style>\n",
       "<table border=\"1\" class=\"dataframe\">\n",
       "  <thead>\n",
       "    <tr style=\"text-align: right;\">\n",
       "      <th></th>\n",
       "      <th>mobile_app_rating</th>\n",
       "      <th>personal_banker_rating</th>\n",
       "    </tr>\n",
       "  </thead>\n",
       "  <tbody>\n",
       "    <tr>\n",
       "      <th>0</th>\n",
       "      <td>3.50</td>\n",
       "      <td>2.40</td>\n",
       "    </tr>\n",
       "    <tr>\n",
       "      <th>1</th>\n",
       "      <td>3.65</td>\n",
       "      <td>3.14</td>\n",
       "    </tr>\n",
       "    <tr>\n",
       "      <th>2</th>\n",
       "      <td>2.90</td>\n",
       "      <td>2.75</td>\n",
       "    </tr>\n",
       "    <tr>\n",
       "      <th>3</th>\n",
       "      <td>2.93</td>\n",
       "      <td>3.36</td>\n",
       "    </tr>\n",
       "    <tr>\n",
       "      <th>4</th>\n",
       "      <td>2.89</td>\n",
       "      <td>2.62</td>\n",
       "    </tr>\n",
       "  </tbody>\n",
       "</table>\n",
       "</div>"
      ],
      "text/plain": [
       "   mobile_app_rating  personal_banker_rating\n",
       "0               3.50                    2.40\n",
       "1               3.65                    3.14\n",
       "2               2.90                    2.75\n",
       "3               2.93                    3.36\n",
       "4               2.89                    2.62"
      ]
     },
     "execution_count": 7,
     "metadata": {},
     "output_type": "execute_result"
    }
   ],
   "source": [
    "# Read in the CSV file as a Pandas DataFrame\n",
    "service_ratings_df = pd.read_csv(\n",
    "    Path(\"../Resources/service_ratings.csv\")\n",
    ")\n",
    "\n",
    "# Review the DataFrame\n",
    "service_ratings_df.head()"
   ]
  },
  {
   "cell_type": "code",
   "execution_count": 8,
   "metadata": {
    "tags": []
   },
   "outputs": [
    {
     "data": {},
     "metadata": {},
     "output_type": "display_data"
    },
    {
     "data": {
      "application/vnd.holoviews_exec.v0+json": "",
      "text/html": [
       "<div id='p1061'>\n",
       "  <div id=\"cfb26da5-a097-4990-be17-954b3a71cd98\" data-root-id=\"p1061\" style=\"display: contents;\"></div>\n",
       "</div>\n",
       "<script type=\"application/javascript\">(function(root) {\n",
       "  var docs_json = {\"8de97d4c-a1c5-4dfc-a18a-6dab05b834d5\":{\"version\":\"3.2.1\",\"title\":\"Bokeh Application\",\"roots\":[{\"type\":\"object\",\"name\":\"Row\",\"id\":\"p1061\",\"attributes\":{\"name\":\"Row00994\",\"tags\":[\"embedded\"],\"stylesheets\":[\"\\n:host(.pn-loading.pn-arc):before, .pn-loading.pn-arc:before {\\n  background-image: url(\\\"data:image/svg+xml;base64,PHN2ZyB4bWxucz0iaHR0cDovL3d3dy53My5vcmcvMjAwMC9zdmciIHN0eWxlPSJtYXJnaW46IGF1dG87IGJhY2tncm91bmQ6IG5vbmU7IGRpc3BsYXk6IGJsb2NrOyBzaGFwZS1yZW5kZXJpbmc6IGF1dG87IiB2aWV3Qm94PSIwIDAgMTAwIDEwMCIgcHJlc2VydmVBc3BlY3RSYXRpbz0ieE1pZFlNaWQiPiAgPGNpcmNsZSBjeD0iNTAiIGN5PSI1MCIgZmlsbD0ibm9uZSIgc3Ryb2tlPSIjYzNjM2MzIiBzdHJva2Utd2lkdGg9IjEwIiByPSIzNSIgc3Ryb2tlLWRhc2hhcnJheT0iMTY0LjkzMzYxNDMxMzQ2NDE1IDU2Ljk3Nzg3MTQzNzgyMTM4Ij4gICAgPGFuaW1hdGVUcmFuc2Zvcm0gYXR0cmlidXRlTmFtZT0idHJhbnNmb3JtIiB0eXBlPSJyb3RhdGUiIHJlcGVhdENvdW50PSJpbmRlZmluaXRlIiBkdXI9IjFzIiB2YWx1ZXM9IjAgNTAgNTA7MzYwIDUwIDUwIiBrZXlUaW1lcz0iMDsxIj48L2FuaW1hdGVUcmFuc2Zvcm0+ICA8L2NpcmNsZT48L3N2Zz4=\\\");\\n  background-size: auto calc(min(50%, 400px));\\n}\",{\"type\":\"object\",\"name\":\"ImportedStyleSheet\",\"id\":\"p1064\",\"attributes\":{\"url\":\"https://cdn.holoviz.org/panel/1.2.1/dist/css/loading.css\"}},{\"type\":\"object\",\"name\":\"ImportedStyleSheet\",\"id\":\"p1116\",\"attributes\":{\"url\":\"https://cdn.holoviz.org/panel/1.2.1/dist/css/listpanel.css\"}},{\"type\":\"object\",\"name\":\"ImportedStyleSheet\",\"id\":\"p1062\",\"attributes\":{\"url\":\"https://cdn.holoviz.org/panel/1.2.1/dist/bundled/theme/default.css\"}},{\"type\":\"object\",\"name\":\"ImportedStyleSheet\",\"id\":\"p1063\",\"attributes\":{\"url\":\"https://cdn.holoviz.org/panel/1.2.1/dist/bundled/theme/native.css\"}}],\"min_width\":700,\"margin\":0,\"sizing_mode\":\"stretch_width\",\"align\":\"start\",\"children\":[{\"type\":\"object\",\"name\":\"Spacer\",\"id\":\"p1065\",\"attributes\":{\"name\":\"HSpacer01005\",\"stylesheets\":[\"\\n:host(.pn-loading.pn-arc):before, .pn-loading.pn-arc:before {\\n  background-image: url(\\\"data:image/svg+xml;base64,PHN2ZyB4bWxucz0iaHR0cDovL3d3dy53My5vcmcvMjAwMC9zdmciIHN0eWxlPSJtYXJnaW46IGF1dG87IGJhY2tncm91bmQ6IG5vbmU7IGRpc3BsYXk6IGJsb2NrOyBzaGFwZS1yZW5kZXJpbmc6IGF1dG87IiB2aWV3Qm94PSIwIDAgMTAwIDEwMCIgcHJlc2VydmVBc3BlY3RSYXRpbz0ieE1pZFlNaWQiPiAgPGNpcmNsZSBjeD0iNTAiIGN5PSI1MCIgZmlsbD0ibm9uZSIgc3Ryb2tlPSIjYzNjM2MzIiBzdHJva2Utd2lkdGg9IjEwIiByPSIzNSIgc3Ryb2tlLWRhc2hhcnJheT0iMTY0LjkzMzYxNDMxMzQ2NDE1IDU2Ljk3Nzg3MTQzNzgyMTM4Ij4gICAgPGFuaW1hdGVUcmFuc2Zvcm0gYXR0cmlidXRlTmFtZT0idHJhbnNmb3JtIiB0eXBlPSJyb3RhdGUiIHJlcGVhdENvdW50PSJpbmRlZmluaXRlIiBkdXI9IjFzIiB2YWx1ZXM9IjAgNTAgNTA7MzYwIDUwIDUwIiBrZXlUaW1lcz0iMDsxIj48L2FuaW1hdGVUcmFuc2Zvcm0+ICA8L2NpcmNsZT48L3N2Zz4=\\\");\\n  background-size: auto calc(min(50%, 400px));\\n}\",{\"id\":\"p1064\"},{\"id\":\"p1062\"},{\"id\":\"p1063\"}],\"margin\":0,\"sizing_mode\":\"stretch_width\",\"align\":\"start\"}},{\"type\":\"object\",\"name\":\"Figure\",\"id\":\"p1073\",\"attributes\":{\"width\":700,\"height\":300,\"margin\":[5,10],\"sizing_mode\":\"fixed\",\"align\":\"start\",\"x_range\":{\"type\":\"object\",\"name\":\"Range1d\",\"id\":\"p1066\",\"attributes\":{\"tags\":[[[\"mobile_app_rating\",\"mobile_app_rating\",null]],[]],\"start\":0.7175714285714285,\"end\":4.832428571428571,\"reset_start\":0.7175714285714285,\"reset_end\":4.832428571428571}},\"y_range\":{\"type\":\"object\",\"name\":\"Range1d\",\"id\":\"p1067\",\"attributes\":{\"tags\":[[[\"personal_banker_rating\",\"personal_banker_rating\",null]],{\"type\":\"map\",\"entries\":[[\"invert_yaxis\",false],[\"autorange\",false]]}],\"start\":0.06699999999999995,\"end\":5.263,\"reset_start\":0.06699999999999995,\"reset_end\":5.263}},\"x_scale\":{\"type\":\"object\",\"name\":\"LinearScale\",\"id\":\"p1083\"},\"y_scale\":{\"type\":\"object\",\"name\":\"LinearScale\",\"id\":\"p1084\"},\"title\":{\"type\":\"object\",\"name\":\"Title\",\"id\":\"p1076\",\"attributes\":{\"text_color\":\"black\",\"text_font_size\":\"12pt\"}},\"renderers\":[{\"type\":\"object\",\"name\":\"GlyphRenderer\",\"id\":\"p1109\",\"attributes\":{\"data_source\":{\"type\":\"object\",\"name\":\"ColumnDataSource\",\"id\":\"p1100\",\"attributes\":{\"selected\":{\"type\":\"object\",\"name\":\"Selection\",\"id\":\"p1101\",\"attributes\":{\"indices\":[],\"line_indices\":[]}},\"selection_policy\":{\"type\":\"object\",\"name\":\"UnionRenderers\",\"id\":\"p1102\"},\"data\":{\"type\":\"map\",\"entries\":[[\"mobile_app_rating\",{\"type\":\"ndarray\",\"array\":{\"type\":\"bytes\",\"data\":\"AAAAAAAADEAzMzMzMzMNQDMzMzMzMwdAcT0K16NwB0AfhetRuB4HQOF6FK5H4QRAexSuR+F6CkAUrkfhehQOQAAAAAAAAAhAKVyPwvUo7D9mZmZmZmYKQFyPwvUoXAdAAAAAAAAAEUCkcD0K16MKQK5H4XoUrg9AAAAAAAAADkAAAAAAAAAGQEjhehSuRwtAcT0K16NwB0CkcD0K16MCQFK4HoXrURFAXI/C9ShcDUAAAAAAAAAIQHE9CtejcA1A9ihcj8L1BkB7FK5H4XoOQAAAAAAAAARAzczMzMzMCkBcj8L1KFwBQLgehetRuBBAcT0K16NwDUC4HoXrUbgIQOF6FK5H4RBAMzMzMzMzC0AfhetRuB4LQFyPwvUoXANAAAAAAAAACEDNzMzMzMwEQAAAAAAAABJAcT0K16NwB0AfhetRuB4JQD0K16NwPRJAXI/C9ShcEEBSuB6F61EKQB+F61G4Hg9ASOF6FK5HB0AAAAAAAAAIQAAAAAAAABJAMzMzMzMzC0CF61G4HoULQHsUrkfheghA4XoUrkfhDkA9CtejcD0OQHE9CtejcA1AAAAAAAAACkD2KFyPwvUMQDMzMzMzMwdAmpmZmZmZCUAK16NwPQoHQBSuR+F6FApAhetRuB6FA0A9CtejcD0MQKRwPQrXowZAzczMzMzMCkBcj8L1KFwHQD0K16NwPQZAcT0K16NwC0Bcj8L1KFwNQB+F61G4HgNAKVyPwvUoCkAAAAAAAAAQQAAAAAAAAABAXI/C9ShcBUAfhetRuB4NQB+F61G4HgdAAAAAAAAADED2KFyPwvUMQHsUrkfheghASOF6FK5HC0DsUbgehesLQIXrUbgehQtAcT0K16NwEEAAAAAAAAACQJqZmZmZmQ1AAAAAAAAAEECkcD0K16MKQAAAAAAAAPA/rkfhehSuEkAzMzMzMzMPQAAAAAAAAAZAAAAAAAAAEkCkcD0K16MEQFK4HoXrUQpAAAAAAAAADEAAAAAAAAAOQI/C9ShcjxBAAAAAAAAAEEBmZmZmZmYMQPYoXI/C9QRArkfhehSuCUDsUbgehesNQKRwPQrXowhAMzMzMzMzC0DhehSuR+EGQJqZmZmZmQ1ASOF6FK5HD0D2KFyPwvUGQAAAAAAAAABA9ihcj8L1CkAAAAAAAAAOQI/C9ShcjwhA16NwPQrXCUBI4XoUrkcLQGZmZmZmZgxAmpmZmZmZCUCuR+F6FK4PQGZmZmZmZgJASOF6FK5H+T8zMzMzMzMHQFyPwvUoXA9AAAAAAAAADEDD9Shcj8IJQM3MzMzMzAhAUrgehetRCECPwvUoXI8EQOF6FK5H4QZApHA9CtejCkCPwvUoXI8OQKRwPQrXowZAj8L1KFyPBkCkcD0K16MGQFyPwvUoXA1AAAAAAAAADEDD9Shcj8ILQI/C9ShcjwhAH4XrUbgeC0AAAAAAAAAAQB+F61G4HgtAAAAAAAAADEDsUbgehesJQK5H4XoUrgtAKVyPwvUoCEBxPQrXo3AHQLgehetRuApAAAAAAAAADEC4HoXrUbgKQKRwPQrXowJAmpmZmZmZCUDhehSuR+EOQAAAAAAAAAhAAAAAAAAA/D8AAAAAAAAGQBSuR+F6FBFAPQrXo3A9EEAfhetRuB4NQLgehetRuAxAhetRuB6FCUDhehSuR+EKQM3MzMzMzBBAexSuR+F6DkBSuB6F61EIQMP1KFyPwhBArkfhehSuDUB7FK5H4XoIQFyPwvUoXA1AUrgehetRCEBmZmZmZmYGQAAAAAAAAAhASOF6FK5HBUAAAAAAAAAQQFK4HoXrURJAAAAAAAAACEAAAAAAAAAMQAAAAAAAAApACtejcD0KC0AAAAAAAAAAQArXo3A9Cg1ArkfhehSuC0CF61G4HoULQDMzMzMzMwNAAAAAAAAACkAAAAAAAAAMQLgehetRuAxA\"},\"shape\":[183],\"dtype\":\"float64\",\"order\":\"little\"}],[\"personal_banker_rating\",{\"type\":\"ndarray\",\"array\":{\"type\":\"bytes\",\"data\":\"MzMzMzMzA0AfhetRuB4JQAAAAAAAAAZA4XoUrkfhCkD2KFyPwvUEQBSuR+F6FARA9ihcj8L1CECPwvUoXI8IQFyPwvUoXAlAAAAAAAAACECkcD0K16MGQFyPwvUoXAFAAAAAAAAACECamZmZmZkFQAAAAAAAAABA9ihcj8L1CEAzMzMzMzMFQLgehetRuAhAcT0K16NwC0DD9Shcj8IFQAAAAAAAAARAKVyPwvUoBkAfhetRuB4HQHE9CtejcAdAKVyPwvUoCEAK16NwPQoDQD0K16NwPRBAXI/C9ShcCUAAAAAAAAAIQAAAAAAAAOA/H4XrUbgeCUAAAAAAAAAGQAAAAAAAAAhAAAAAAAAAAEBxPQrXo3AJQNejcD0K1wdAXI/C9ShcBUCPwvUoXI8EQGZmZmZmZgRAuB6F61G4DEApXI/C9SgIQFyPwvUoXAlAAAAAAAAABEAAAAAAAAAIQKRwPQrXowZA7FG4HoXrB0AAAAAAAAAEQAAAAAAAAAhAAAAAAAAACEBcj8L1KFwJQFK4HoXrUQhAAAAAAAAABEAAAAAAAAAIQIXrUbgehQlAXI/C9ShcBUBmZmZmZmYGQLgehetRuAZAAAAAAAAAAECkcD0K16MKQMP1KFyPwgdAMzMzMzMzB0DNzMzMzMwGQAAAAAAAAAhApHA9CtejBkCPwvUoXI8IQAAAAAAAAAhAAAAAAAAA8D8AAAAAAAAAQLgehetRuARAPQrXo3A9CEAAAAAAAAAAQAAAAAAAAA5AAAAAAAAABkAAAAAAAAAIQGZmZmZmZg5AAAAAAAAACEAAAAAAAAAAQM3MzMzMzAZACtejcD0KBUCF61G4HoUJQAAAAAAAAAhAAAAAAAAAAEAAAAAAAAAKQAAAAAAAAAhApHA9CtejBkAAAAAAAAAEQAAAAAAAABJAMzMzMzMzB0AAAAAAAADgP9ejcD0K1xBAXI/C9ShcCUAAAAAAAAAEQM3MzMzMzAZApHA9CtejBkD2KFyPwvX4P83MzMzMzAZAAAAAAAAAAEBmZmZmZmYGQAAAAAAAAAhA9ihcj8L1BEAzMzMzMzMDQMP1KFyPwgNApHA9CtejCECuR+F6FK4DQAAAAAAAAARAAAAAAAAABEBcj8L1KFwNQHsUrkfhegxAhetRuB6FCUAAAAAAAAAIQHE9CtejcAVAAAAAAAAABEAzMzMzMzMHQAAAAAAAAAhAXI/C9ShcAUAAAAAAAAAIQAAAAAAAAAxA4XoUrkfhBkAAAAAAAAAEQArXo3A9CglApHA9CtejAkC4HoXrUbgGQOF6FK5H4QZA4XoUrkfhCEBmZmZmZmYAQMP1KFyPwgVAXI/C9ShcB0AAAAAAAAAIQHE9CtejcAVAFK5H4XoUBkAK16NwPQoDQAAAAAAAAAhAAAAAAAAACEBcj8L1KFwFQHE9CtejcAdA9ihcj8L1/D9cj8L1KFwFQDMzMzMzMwdAXI/C9ShcCUDNzMzMzMwIQAAAAAAAAAZAzczMzMzMCEBmZmZmZmYKQClcj8L1KAhAH4XrUbgeB0B7FK5H4XoGQAAAAAAAAAhApHA9CtejAkAAAAAAAAAIQI/C9ShcjwRAAAAAAAAAEEBcj8L1KFwJQAAAAAAAAABASOF6FK5HBUBcj8L1KFwFQAAAAAAAAAhASOF6FK5H/T+PwvUoXI8IQFyPwvUoXAlAuB6F61G4CEBcj8L1KFwFQDMzMzMzMwdAXI/C9ShcAUDNzMzMzMwEQAAAAAAAAAhACtejcD0KB0CF61G4HoUFQFK4HoXrUQZAXI/C9ShcC0AzMzMzMzMDQFyPwvUoXAlAZmZmZmZmBkBmZmZmZmYCQK5H4XoUrgVArkfhehSuBUBSuB6F61ETQKRwPQrXowRAmpmZmZmZA0AAAAAAAAAIQGZmZmZmZgZACtejcD0KB0AzMzMzMzMDQGZmZmZmZg5A\"},\"shape\":[183],\"dtype\":\"float64\",\"order\":\"little\"}]]}}},\"view\":{\"type\":\"object\",\"name\":\"CDSView\",\"id\":\"p1110\",\"attributes\":{\"filter\":{\"type\":\"object\",\"name\":\"AllIndices\",\"id\":\"p1111\"}}},\"glyph\":{\"type\":\"object\",\"name\":\"Scatter\",\"id\":\"p1106\",\"attributes\":{\"tags\":[\"apply_ranges\"],\"x\":{\"type\":\"field\",\"field\":\"mobile_app_rating\"},\"y\":{\"type\":\"field\",\"field\":\"personal_banker_rating\"},\"size\":{\"type\":\"value\",\"value\":5.477225575051661},\"line_color\":{\"type\":\"value\",\"value\":\"#30a2da\"},\"fill_color\":{\"type\":\"value\",\"value\":\"#30a2da\"},\"hatch_color\":{\"type\":\"value\",\"value\":\"#30a2da\"}}},\"selection_glyph\":{\"type\":\"object\",\"name\":\"Scatter\",\"id\":\"p1112\",\"attributes\":{\"tags\":[\"apply_ranges\"],\"x\":{\"type\":\"field\",\"field\":\"mobile_app_rating\"},\"y\":{\"type\":\"field\",\"field\":\"personal_banker_rating\"},\"size\":{\"type\":\"value\",\"value\":5.477225575051661},\"angle\":{\"type\":\"value\",\"value\":0.0},\"line_color\":{\"type\":\"value\",\"value\":\"#30a2da\"},\"line_alpha\":{\"type\":\"value\",\"value\":1.0},\"line_width\":{\"type\":\"value\",\"value\":1},\"line_join\":{\"type\":\"value\",\"value\":\"bevel\"},\"line_cap\":{\"type\":\"value\",\"value\":\"butt\"},\"line_dash\":{\"type\":\"value\",\"value\":[]},\"line_dash_offset\":{\"type\":\"value\",\"value\":0},\"fill_color\":{\"type\":\"value\",\"value\":\"#30a2da\"},\"fill_alpha\":{\"type\":\"value\",\"value\":1.0},\"hatch_color\":{\"type\":\"value\",\"value\":\"#30a2da\"},\"hatch_alpha\":{\"type\":\"value\",\"value\":1.0},\"hatch_scale\":{\"type\":\"value\",\"value\":12.0},\"hatch_pattern\":{\"type\":\"value\",\"value\":null},\"hatch_weight\":{\"type\":\"value\",\"value\":1.0},\"marker\":{\"type\":\"value\",\"value\":\"circle\"}}},\"nonselection_glyph\":{\"type\":\"object\",\"name\":\"Scatter\",\"id\":\"p1107\",\"attributes\":{\"tags\":[\"apply_ranges\"],\"x\":{\"type\":\"field\",\"field\":\"mobile_app_rating\"},\"y\":{\"type\":\"field\",\"field\":\"personal_banker_rating\"},\"size\":{\"type\":\"value\",\"value\":5.477225575051661},\"line_color\":{\"type\":\"value\",\"value\":\"#30a2da\"},\"line_alpha\":{\"type\":\"value\",\"value\":0.1},\"fill_color\":{\"type\":\"value\",\"value\":\"#30a2da\"},\"fill_alpha\":{\"type\":\"value\",\"value\":0.1},\"hatch_color\":{\"type\":\"value\",\"value\":\"#30a2da\"},\"hatch_alpha\":{\"type\":\"value\",\"value\":0.1}}},\"muted_glyph\":{\"type\":\"object\",\"name\":\"Scatter\",\"id\":\"p1108\",\"attributes\":{\"tags\":[\"apply_ranges\"],\"x\":{\"type\":\"field\",\"field\":\"mobile_app_rating\"},\"y\":{\"type\":\"field\",\"field\":\"personal_banker_rating\"},\"size\":{\"type\":\"value\",\"value\":5.477225575051661},\"line_color\":{\"type\":\"value\",\"value\":\"#30a2da\"},\"line_alpha\":{\"type\":\"value\",\"value\":0.2},\"fill_color\":{\"type\":\"value\",\"value\":\"#30a2da\"},\"fill_alpha\":{\"type\":\"value\",\"value\":0.2},\"hatch_color\":{\"type\":\"value\",\"value\":\"#30a2da\"},\"hatch_alpha\":{\"type\":\"value\",\"value\":0.2}}}}}],\"toolbar\":{\"type\":\"object\",\"name\":\"Toolbar\",\"id\":\"p1082\",\"attributes\":{\"tools\":[{\"type\":\"object\",\"name\":\"WheelZoomTool\",\"id\":\"p1071\",\"attributes\":{\"tags\":[\"hv_created\"],\"zoom_together\":\"none\"}},{\"type\":\"object\",\"name\":\"HoverTool\",\"id\":\"p1072\",\"attributes\":{\"tags\":[\"hv_created\"],\"renderers\":[{\"id\":\"p1109\"}],\"tooltips\":[[\"mobile_app_rating\",\"@{mobile_app_rating}\"],[\"personal_banker_rating\",\"@{personal_banker_rating}\"]]}},{\"type\":\"object\",\"name\":\"SaveTool\",\"id\":\"p1095\"},{\"type\":\"object\",\"name\":\"PanTool\",\"id\":\"p1096\"},{\"type\":\"object\",\"name\":\"BoxZoomTool\",\"id\":\"p1097\",\"attributes\":{\"overlay\":{\"type\":\"object\",\"name\":\"BoxAnnotation\",\"id\":\"p1098\",\"attributes\":{\"syncable\":false,\"level\":\"overlay\",\"visible\":false,\"left_units\":\"canvas\",\"right_units\":\"canvas\",\"bottom_units\":\"canvas\",\"top_units\":\"canvas\",\"line_color\":\"black\",\"line_alpha\":1.0,\"line_width\":2,\"line_dash\":[4,4],\"fill_color\":\"lightgrey\",\"fill_alpha\":0.5}}}},{\"type\":\"object\",\"name\":\"ResetTool\",\"id\":\"p1099\"}],\"active_drag\":{\"id\":\"p1096\"},\"active_scroll\":{\"id\":\"p1071\"}}},\"left\":[{\"type\":\"object\",\"name\":\"LinearAxis\",\"id\":\"p1090\",\"attributes\":{\"ticker\":{\"type\":\"object\",\"name\":\"BasicTicker\",\"id\":\"p1091\",\"attributes\":{\"mantissas\":[1,2,5]}},\"formatter\":{\"type\":\"object\",\"name\":\"BasicTickFormatter\",\"id\":\"p1092\"},\"axis_label\":\"personal_banker_rating\",\"major_label_policy\":{\"type\":\"object\",\"name\":\"AllLabels\",\"id\":\"p1093\"}}}],\"below\":[{\"type\":\"object\",\"name\":\"LinearAxis\",\"id\":\"p1085\",\"attributes\":{\"ticker\":{\"type\":\"object\",\"name\":\"BasicTicker\",\"id\":\"p1086\",\"attributes\":{\"mantissas\":[1,2,5]}},\"formatter\":{\"type\":\"object\",\"name\":\"BasicTickFormatter\",\"id\":\"p1087\"},\"axis_label\":\"mobile_app_rating\",\"major_label_policy\":{\"type\":\"object\",\"name\":\"AllLabels\",\"id\":\"p1088\"}}}],\"center\":[{\"type\":\"object\",\"name\":\"Grid\",\"id\":\"p1089\",\"attributes\":{\"axis\":{\"id\":\"p1085\"},\"grid_line_color\":null}},{\"type\":\"object\",\"name\":\"Grid\",\"id\":\"p1094\",\"attributes\":{\"dimension\":1,\"axis\":{\"id\":\"p1090\"},\"grid_line_color\":null}}],\"min_border_top\":10,\"min_border_bottom\":10,\"min_border_left\":10,\"min_border_right\":10,\"output_backend\":\"webgl\"}},{\"type\":\"object\",\"name\":\"Spacer\",\"id\":\"p1114\",\"attributes\":{\"name\":\"HSpacer01008\",\"stylesheets\":[\"\\n:host(.pn-loading.pn-arc):before, .pn-loading.pn-arc:before {\\n  background-image: url(\\\"data:image/svg+xml;base64,PHN2ZyB4bWxucz0iaHR0cDovL3d3dy53My5vcmcvMjAwMC9zdmciIHN0eWxlPSJtYXJnaW46IGF1dG87IGJhY2tncm91bmQ6IG5vbmU7IGRpc3BsYXk6IGJsb2NrOyBzaGFwZS1yZW5kZXJpbmc6IGF1dG87IiB2aWV3Qm94PSIwIDAgMTAwIDEwMCIgcHJlc2VydmVBc3BlY3RSYXRpbz0ieE1pZFlNaWQiPiAgPGNpcmNsZSBjeD0iNTAiIGN5PSI1MCIgZmlsbD0ibm9uZSIgc3Ryb2tlPSIjYzNjM2MzIiBzdHJva2Utd2lkdGg9IjEwIiByPSIzNSIgc3Ryb2tlLWRhc2hhcnJheT0iMTY0LjkzMzYxNDMxMzQ2NDE1IDU2Ljk3Nzg3MTQzNzgyMTM4Ij4gICAgPGFuaW1hdGVUcmFuc2Zvcm0gYXR0cmlidXRlTmFtZT0idHJhbnNmb3JtIiB0eXBlPSJyb3RhdGUiIHJlcGVhdENvdW50PSJpbmRlZmluaXRlIiBkdXI9IjFzIiB2YWx1ZXM9IjAgNTAgNTA7MzYwIDUwIDUwIiBrZXlUaW1lcz0iMDsxIj48L2FuaW1hdGVUcmFuc2Zvcm0+ICA8L2NpcmNsZT48L3N2Zz4=\\\");\\n  background-size: auto calc(min(50%, 400px));\\n}\",{\"id\":\"p1064\"},{\"id\":\"p1062\"},{\"id\":\"p1063\"}],\"margin\":0,\"sizing_mode\":\"stretch_width\",\"align\":\"start\"}}]}}],\"defs\":[{\"type\":\"model\",\"name\":\"ReactiveHTML1\"},{\"type\":\"model\",\"name\":\"FlexBox1\",\"properties\":[{\"name\":\"align_content\",\"kind\":\"Any\",\"default\":\"flex-start\"},{\"name\":\"align_items\",\"kind\":\"Any\",\"default\":\"flex-start\"},{\"name\":\"flex_direction\",\"kind\":\"Any\",\"default\":\"row\"},{\"name\":\"flex_wrap\",\"kind\":\"Any\",\"default\":\"wrap\"},{\"name\":\"justify_content\",\"kind\":\"Any\",\"default\":\"flex-start\"}]},{\"type\":\"model\",\"name\":\"FloatPanel1\",\"properties\":[{\"name\":\"config\",\"kind\":\"Any\",\"default\":{\"type\":\"map\"}},{\"name\":\"contained\",\"kind\":\"Any\",\"default\":true},{\"name\":\"position\",\"kind\":\"Any\",\"default\":\"right-top\"},{\"name\":\"offsetx\",\"kind\":\"Any\",\"default\":null},{\"name\":\"offsety\",\"kind\":\"Any\",\"default\":null},{\"name\":\"theme\",\"kind\":\"Any\",\"default\":\"primary\"},{\"name\":\"status\",\"kind\":\"Any\",\"default\":\"normalized\"}]},{\"type\":\"model\",\"name\":\"GridStack1\",\"properties\":[{\"name\":\"mode\",\"kind\":\"Any\",\"default\":\"warn\"},{\"name\":\"ncols\",\"kind\":\"Any\",\"default\":null},{\"name\":\"nrows\",\"kind\":\"Any\",\"default\":null},{\"name\":\"allow_resize\",\"kind\":\"Any\",\"default\":true},{\"name\":\"allow_drag\",\"kind\":\"Any\",\"default\":true},{\"name\":\"state\",\"kind\":\"Any\",\"default\":[]}]},{\"type\":\"model\",\"name\":\"drag1\",\"properties\":[{\"name\":\"slider_width\",\"kind\":\"Any\",\"default\":5},{\"name\":\"slider_color\",\"kind\":\"Any\",\"default\":\"black\"},{\"name\":\"value\",\"kind\":\"Any\",\"default\":50}]},{\"type\":\"model\",\"name\":\"click1\",\"properties\":[{\"name\":\"terminal_output\",\"kind\":\"Any\",\"default\":\"\"},{\"name\":\"debug_name\",\"kind\":\"Any\",\"default\":\"\"},{\"name\":\"clears\",\"kind\":\"Any\",\"default\":0}]},{\"type\":\"model\",\"name\":\"FastWrapper1\",\"properties\":[{\"name\":\"object\",\"kind\":\"Any\",\"default\":null},{\"name\":\"style\",\"kind\":\"Any\",\"default\":null}]},{\"type\":\"model\",\"name\":\"NotificationAreaBase1\",\"properties\":[{\"name\":\"js_events\",\"kind\":\"Any\",\"default\":{\"type\":\"map\"}},{\"name\":\"position\",\"kind\":\"Any\",\"default\":\"bottom-right\"},{\"name\":\"_clear\",\"kind\":\"Any\",\"default\":0}]},{\"type\":\"model\",\"name\":\"NotificationArea1\",\"properties\":[{\"name\":\"js_events\",\"kind\":\"Any\",\"default\":{\"type\":\"map\"}},{\"name\":\"notifications\",\"kind\":\"Any\",\"default\":[]},{\"name\":\"position\",\"kind\":\"Any\",\"default\":\"bottom-right\"},{\"name\":\"_clear\",\"kind\":\"Any\",\"default\":0},{\"name\":\"types\",\"kind\":\"Any\",\"default\":[{\"type\":\"map\",\"entries\":[[\"type\",\"warning\"],[\"background\",\"#ffc107\"],[\"icon\",{\"type\":\"map\",\"entries\":[[\"className\",\"fas fa-exclamation-triangle\"],[\"tagName\",\"i\"],[\"color\",\"white\"]]}]]},{\"type\":\"map\",\"entries\":[[\"type\",\"info\"],[\"background\",\"#007bff\"],[\"icon\",{\"type\":\"map\",\"entries\":[[\"className\",\"fas fa-info-circle\"],[\"tagName\",\"i\"],[\"color\",\"white\"]]}]]}]}]},{\"type\":\"model\",\"name\":\"Notification\",\"properties\":[{\"name\":\"background\",\"kind\":\"Any\",\"default\":null},{\"name\":\"duration\",\"kind\":\"Any\",\"default\":3000},{\"name\":\"icon\",\"kind\":\"Any\",\"default\":null},{\"name\":\"message\",\"kind\":\"Any\",\"default\":\"\"},{\"name\":\"notification_type\",\"kind\":\"Any\",\"default\":null},{\"name\":\"_destroyed\",\"kind\":\"Any\",\"default\":false}]},{\"type\":\"model\",\"name\":\"TemplateActions1\",\"properties\":[{\"name\":\"open_modal\",\"kind\":\"Any\",\"default\":0},{\"name\":\"close_modal\",\"kind\":\"Any\",\"default\":0}]},{\"type\":\"model\",\"name\":\"BootstrapTemplateActions1\",\"properties\":[{\"name\":\"open_modal\",\"kind\":\"Any\",\"default\":0},{\"name\":\"close_modal\",\"kind\":\"Any\",\"default\":0}]},{\"type\":\"model\",\"name\":\"MaterialTemplateActions1\",\"properties\":[{\"name\":\"open_modal\",\"kind\":\"Any\",\"default\":0},{\"name\":\"close_modal\",\"kind\":\"Any\",\"default\":0}]}]}};\n",
       "  var render_items = [{\"docid\":\"8de97d4c-a1c5-4dfc-a18a-6dab05b834d5\",\"roots\":{\"p1061\":\"cfb26da5-a097-4990-be17-954b3a71cd98\"},\"root_ids\":[\"p1061\"]}];\n",
       "  var docs = Object.values(docs_json)\n",
       "  if (!docs) {\n",
       "    return\n",
       "  }\n",
       "  const py_version = docs[0].version.replace('rc', '-rc.').replace('.dev', '-dev.')\n",
       "  const is_dev = py_version.indexOf(\"+\") !== -1 || py_version.indexOf(\"-\") !== -1\n",
       "  function embed_document(root) {\n",
       "    var Bokeh = get_bokeh(root)\n",
       "    Bokeh.embed.embed_items_notebook(docs_json, render_items);\n",
       "    for (const render_item of render_items) {\n",
       "      for (const root_id of render_item.root_ids) {\n",
       "\tconst id_el = document.getElementById(root_id)\n",
       "\tif (id_el.children.length && (id_el.children[0].className === 'bk-root')) {\n",
       "\t  const root_el = id_el.children[0]\n",
       "\t  root_el.id = root_el.id + '-rendered'\n",
       "\t}\n",
       "      }\n",
       "    }\n",
       "  }\n",
       "  function get_bokeh(root) {\n",
       "    if (root.Bokeh === undefined) {\n",
       "      return null\n",
       "    } else if (root.Bokeh.version !== py_version && !is_dev) {\n",
       "      if (root.Bokeh.versions === undefined || !root.Bokeh.versions.has(py_version)) {\n",
       "\treturn null\n",
       "      }\n",
       "      return root.Bokeh.versions.get(py_version);\n",
       "    } else if (root.Bokeh.version === py_version) {\n",
       "      return root.Bokeh\n",
       "    }\n",
       "    return null\n",
       "  }\n",
       "  function is_loaded(root) {\n",
       "    var Bokeh = get_bokeh(root)\n",
       "    return (Bokeh != null && Bokeh.Panel !== undefined)\n",
       "  }\n",
       "  if (is_loaded(root)) {\n",
       "    embed_document(root);\n",
       "  } else {\n",
       "    var attempts = 0;\n",
       "    var timer = setInterval(function(root) {\n",
       "      if (is_loaded(root)) {\n",
       "        clearInterval(timer);\n",
       "        embed_document(root);\n",
       "      } else if (document.readyState == \"complete\") {\n",
       "        attempts++;\n",
       "        if (attempts > 200) {\n",
       "          clearInterval(timer);\n",
       "\t  var Bokeh = get_bokeh(root)\n",
       "\t  if (Bokeh == null || Bokeh.Panel == null) {\n",
       "            console.warn(\"Panel: ERROR: Unable to run Panel code because Bokeh or Panel library is missing\");\n",
       "\t  } else {\n",
       "\t    console.warn(\"Panel: WARNING: Attempting to render but not all required libraries could be resolved.\")\n",
       "\t    embed_document(root)\n",
       "\t  }\n",
       "        }\n",
       "      }\n",
       "    }, 25, root)\n",
       "  }\n",
       "})(window);</script>"
      ],
      "text/plain": [
       ":Scatter   [mobile_app_rating]   (personal_banker_rating)"
      ]
     },
     "execution_count": 8,
     "metadata": {
      "application/vnd.holoviews_exec.v0+json": {
       "id": "p1061"
      }
     },
     "output_type": "execute_result"
    }
   ],
   "source": [
    "# Visualize a scatter plot of the data\n",
    "service_ratings_df.hvplot.scatter(\n",
    "    x=\"mobile_app_rating\", \n",
    "    y=\"personal_banker_rating\"\n",
    ")"
   ]
  },
  {
   "cell_type": "markdown",
   "metadata": {},
   "source": [
    "## Run the k-means model with 3 clusters"
   ]
  },
  {
   "cell_type": "code",
   "execution_count": 12,
   "metadata": {
    "tags": []
   },
   "outputs": [
    {
     "data": {
      "text/html": [
       "<style>#sk-container-id-1 {color: black;}#sk-container-id-1 pre{padding: 0;}#sk-container-id-1 div.sk-toggleable {background-color: white;}#sk-container-id-1 label.sk-toggleable__label {cursor: pointer;display: block;width: 100%;margin-bottom: 0;padding: 0.3em;box-sizing: border-box;text-align: center;}#sk-container-id-1 label.sk-toggleable__label-arrow:before {content: \"▸\";float: left;margin-right: 0.25em;color: #696969;}#sk-container-id-1 label.sk-toggleable__label-arrow:hover:before {color: black;}#sk-container-id-1 div.sk-estimator:hover label.sk-toggleable__label-arrow:before {color: black;}#sk-container-id-1 div.sk-toggleable__content {max-height: 0;max-width: 0;overflow: hidden;text-align: left;background-color: #f0f8ff;}#sk-container-id-1 div.sk-toggleable__content pre {margin: 0.2em;color: black;border-radius: 0.25em;background-color: #f0f8ff;}#sk-container-id-1 input.sk-toggleable__control:checked~div.sk-toggleable__content {max-height: 200px;max-width: 100%;overflow: auto;}#sk-container-id-1 input.sk-toggleable__control:checked~label.sk-toggleable__label-arrow:before {content: \"▾\";}#sk-container-id-1 div.sk-estimator input.sk-toggleable__control:checked~label.sk-toggleable__label {background-color: #d4ebff;}#sk-container-id-1 div.sk-label input.sk-toggleable__control:checked~label.sk-toggleable__label {background-color: #d4ebff;}#sk-container-id-1 input.sk-hidden--visually {border: 0;clip: rect(1px 1px 1px 1px);clip: rect(1px, 1px, 1px, 1px);height: 1px;margin: -1px;overflow: hidden;padding: 0;position: absolute;width: 1px;}#sk-container-id-1 div.sk-estimator {font-family: monospace;background-color: #f0f8ff;border: 1px dotted black;border-radius: 0.25em;box-sizing: border-box;margin-bottom: 0.5em;}#sk-container-id-1 div.sk-estimator:hover {background-color: #d4ebff;}#sk-container-id-1 div.sk-parallel-item::after {content: \"\";width: 100%;border-bottom: 1px solid gray;flex-grow: 1;}#sk-container-id-1 div.sk-label:hover label.sk-toggleable__label {background-color: #d4ebff;}#sk-container-id-1 div.sk-serial::before {content: \"\";position: absolute;border-left: 1px solid gray;box-sizing: border-box;top: 0;bottom: 0;left: 50%;z-index: 0;}#sk-container-id-1 div.sk-serial {display: flex;flex-direction: column;align-items: center;background-color: white;padding-right: 0.2em;padding-left: 0.2em;position: relative;}#sk-container-id-1 div.sk-item {position: relative;z-index: 1;}#sk-container-id-1 div.sk-parallel {display: flex;align-items: stretch;justify-content: center;background-color: white;position: relative;}#sk-container-id-1 div.sk-item::before, #sk-container-id-1 div.sk-parallel-item::before {content: \"\";position: absolute;border-left: 1px solid gray;box-sizing: border-box;top: 0;bottom: 0;left: 50%;z-index: -1;}#sk-container-id-1 div.sk-parallel-item {display: flex;flex-direction: column;z-index: 1;position: relative;background-color: white;}#sk-container-id-1 div.sk-parallel-item:first-child::after {align-self: flex-end;width: 50%;}#sk-container-id-1 div.sk-parallel-item:last-child::after {align-self: flex-start;width: 50%;}#sk-container-id-1 div.sk-parallel-item:only-child::after {width: 0;}#sk-container-id-1 div.sk-dashed-wrapped {border: 1px dashed gray;margin: 0 0.4em 0.5em 0.4em;box-sizing: border-box;padding-bottom: 0.4em;background-color: white;}#sk-container-id-1 div.sk-label label {font-family: monospace;font-weight: bold;display: inline-block;line-height: 1.2em;}#sk-container-id-1 div.sk-label-container {text-align: center;}#sk-container-id-1 div.sk-container {/* jupyter's `normalize.less` sets `[hidden] { display: none; }` but bootstrap.min.css set `[hidden] { display: none !important; }` so we also need the `!important` here to be able to override the default hidden behavior on the sphinx rendered scikit-learn.org. See: https://github.com/scikit-learn/scikit-learn/issues/21755 */display: inline-block !important;position: relative;}#sk-container-id-1 div.sk-text-repr-fallback {display: none;}</style><div id=\"sk-container-id-1\" class=\"sk-top-container\"><div class=\"sk-text-repr-fallback\"><pre>KMeans(n_clusters=3, random_state=1)</pre><b>In a Jupyter environment, please rerun this cell to show the HTML representation or trust the notebook. <br />On GitHub, the HTML representation is unable to render, please try loading this page with nbviewer.org.</b></div><div class=\"sk-container\" hidden><div class=\"sk-item\"><div class=\"sk-estimator sk-toggleable\"><input class=\"sk-toggleable__control sk-hidden--visually\" id=\"sk-estimator-id-1\" type=\"checkbox\" checked><label for=\"sk-estimator-id-1\" class=\"sk-toggleable__label sk-toggleable__label-arrow\">KMeans</label><div class=\"sk-toggleable__content\"><pre>KMeans(n_clusters=3, random_state=1)</pre></div></div></div></div></div>"
      ],
      "text/plain": [
       "KMeans(n_clusters=3, random_state=1)"
      ]
     },
     "execution_count": 12,
     "metadata": {},
     "output_type": "execute_result"
    }
   ],
   "source": [
    "# Create and initialize the K-means model instance for 3 clusters\n",
    "model = KMeans(n_clusters = 3, random_state = 1)\n",
    "\n",
    "# Print the model\n",
    "model"
   ]
  },
  {
   "cell_type": "code",
   "execution_count": 13,
   "metadata": {
    "tags": []
   },
   "outputs": [
    {
     "name": "stderr",
     "output_type": "stream",
     "text": [
      "C:\\Users\\ppate\\anaconda3\\Lib\\site-packages\\sklearn\\cluster\\_kmeans.py:1416: FutureWarning: The default value of `n_init` will change from 10 to 'auto' in 1.4. Set the value of `n_init` explicitly to suppress the warning\n",
      "  super()._check_params_vs_input(X, default_n_init=10)\n",
      "C:\\Users\\ppate\\anaconda3\\Lib\\site-packages\\sklearn\\cluster\\_kmeans.py:1440: UserWarning: KMeans is known to have a memory leak on Windows with MKL, when there are less chunks than available threads. You can avoid it by setting the environment variable OMP_NUM_THREADS=1.\n",
      "  warnings.warn(\n"
     ]
    },
    {
     "data": {
      "text/html": [
       "<style>#sk-container-id-2 {color: black;}#sk-container-id-2 pre{padding: 0;}#sk-container-id-2 div.sk-toggleable {background-color: white;}#sk-container-id-2 label.sk-toggleable__label {cursor: pointer;display: block;width: 100%;margin-bottom: 0;padding: 0.3em;box-sizing: border-box;text-align: center;}#sk-container-id-2 label.sk-toggleable__label-arrow:before {content: \"▸\";float: left;margin-right: 0.25em;color: #696969;}#sk-container-id-2 label.sk-toggleable__label-arrow:hover:before {color: black;}#sk-container-id-2 div.sk-estimator:hover label.sk-toggleable__label-arrow:before {color: black;}#sk-container-id-2 div.sk-toggleable__content {max-height: 0;max-width: 0;overflow: hidden;text-align: left;background-color: #f0f8ff;}#sk-container-id-2 div.sk-toggleable__content pre {margin: 0.2em;color: black;border-radius: 0.25em;background-color: #f0f8ff;}#sk-container-id-2 input.sk-toggleable__control:checked~div.sk-toggleable__content {max-height: 200px;max-width: 100%;overflow: auto;}#sk-container-id-2 input.sk-toggleable__control:checked~label.sk-toggleable__label-arrow:before {content: \"▾\";}#sk-container-id-2 div.sk-estimator input.sk-toggleable__control:checked~label.sk-toggleable__label {background-color: #d4ebff;}#sk-container-id-2 div.sk-label input.sk-toggleable__control:checked~label.sk-toggleable__label {background-color: #d4ebff;}#sk-container-id-2 input.sk-hidden--visually {border: 0;clip: rect(1px 1px 1px 1px);clip: rect(1px, 1px, 1px, 1px);height: 1px;margin: -1px;overflow: hidden;padding: 0;position: absolute;width: 1px;}#sk-container-id-2 div.sk-estimator {font-family: monospace;background-color: #f0f8ff;border: 1px dotted black;border-radius: 0.25em;box-sizing: border-box;margin-bottom: 0.5em;}#sk-container-id-2 div.sk-estimator:hover {background-color: #d4ebff;}#sk-container-id-2 div.sk-parallel-item::after {content: \"\";width: 100%;border-bottom: 1px solid gray;flex-grow: 1;}#sk-container-id-2 div.sk-label:hover label.sk-toggleable__label {background-color: #d4ebff;}#sk-container-id-2 div.sk-serial::before {content: \"\";position: absolute;border-left: 1px solid gray;box-sizing: border-box;top: 0;bottom: 0;left: 50%;z-index: 0;}#sk-container-id-2 div.sk-serial {display: flex;flex-direction: column;align-items: center;background-color: white;padding-right: 0.2em;padding-left: 0.2em;position: relative;}#sk-container-id-2 div.sk-item {position: relative;z-index: 1;}#sk-container-id-2 div.sk-parallel {display: flex;align-items: stretch;justify-content: center;background-color: white;position: relative;}#sk-container-id-2 div.sk-item::before, #sk-container-id-2 div.sk-parallel-item::before {content: \"\";position: absolute;border-left: 1px solid gray;box-sizing: border-box;top: 0;bottom: 0;left: 50%;z-index: -1;}#sk-container-id-2 div.sk-parallel-item {display: flex;flex-direction: column;z-index: 1;position: relative;background-color: white;}#sk-container-id-2 div.sk-parallel-item:first-child::after {align-self: flex-end;width: 50%;}#sk-container-id-2 div.sk-parallel-item:last-child::after {align-self: flex-start;width: 50%;}#sk-container-id-2 div.sk-parallel-item:only-child::after {width: 0;}#sk-container-id-2 div.sk-dashed-wrapped {border: 1px dashed gray;margin: 0 0.4em 0.5em 0.4em;box-sizing: border-box;padding-bottom: 0.4em;background-color: white;}#sk-container-id-2 div.sk-label label {font-family: monospace;font-weight: bold;display: inline-block;line-height: 1.2em;}#sk-container-id-2 div.sk-label-container {text-align: center;}#sk-container-id-2 div.sk-container {/* jupyter's `normalize.less` sets `[hidden] { display: none; }` but bootstrap.min.css set `[hidden] { display: none !important; }` so we also need the `!important` here to be able to override the default hidden behavior on the sphinx rendered scikit-learn.org. See: https://github.com/scikit-learn/scikit-learn/issues/21755 */display: inline-block !important;position: relative;}#sk-container-id-2 div.sk-text-repr-fallback {display: none;}</style><div id=\"sk-container-id-2\" class=\"sk-top-container\"><div class=\"sk-text-repr-fallback\"><pre>KMeans(n_clusters=3, random_state=1)</pre><b>In a Jupyter environment, please rerun this cell to show the HTML representation or trust the notebook. <br />On GitHub, the HTML representation is unable to render, please try loading this page with nbviewer.org.</b></div><div class=\"sk-container\" hidden><div class=\"sk-item\"><div class=\"sk-estimator sk-toggleable\"><input class=\"sk-toggleable__control sk-hidden--visually\" id=\"sk-estimator-id-2\" type=\"checkbox\" checked><label for=\"sk-estimator-id-2\" class=\"sk-toggleable__label sk-toggleable__label-arrow\">KMeans</label><div class=\"sk-toggleable__content\"><pre>KMeans(n_clusters=3, random_state=1)</pre></div></div></div></div></div>"
      ],
      "text/plain": [
       "KMeans(n_clusters=3, random_state=1)"
      ]
     },
     "execution_count": 13,
     "metadata": {},
     "output_type": "execute_result"
    }
   ],
   "source": [
    "# Fit the data to the instance of the model\n",
    "model.fit(service_ratings_df)"
   ]
  },
  {
   "cell_type": "code",
   "execution_count": 15,
   "metadata": {
    "tags": []
   },
   "outputs": [
    {
     "name": "stdout",
     "output_type": "stream",
     "text": [
      "[0 2 1 1 1 1 2 2 1 1 2 0 2 2 0 2 1 2 1 1 2 2 1 2 1 0 1 2 1 0 2 1 2 0 2 1 1\n",
      " 1 2 1 1 2 2 2 2 1 1 2 2 2 1 2 2 2 2 2 1 0 1 2 1 2 1 2 1 1 0 0 1 2 0 1 1 2\n",
      " 1 2 0 1 2 2 2 0 1 2 2 2 1 2 0 1 2 1 2 2 0 2 0 2 1 2 0 1 2 1 2 2 1 1 2 2 1\n",
      " 2 2 2 0 2 1 1 1 2 0 2 1 1 1 1 2 2 1 1 1 2 2 2 1 0 1 2 2 2 2 1 1 2 2 2 1 0\n",
      " 2 1 1 1 0 2 2 2 0 2 2 2 1 2 0 1 2 1 1 1 1 0 2 1 0 2 2 1 2 2 2 1 2 0 2]\n"
     ]
    }
   ],
   "source": [
    "# Make predictions about the data clusters using the trained model\n",
    "service_ratings_predictions = model.predict(service_ratings_df)\n",
    "\n",
    "# Print the predictions\n",
    "print(service_ratings_predictions)"
   ]
  },
  {
   "cell_type": "code",
   "execution_count": 22,
   "metadata": {
    "tags": []
   },
   "outputs": [
    {
     "ename": "IndexError",
     "evalue": "only integers, slices (`:`), ellipsis (`...`), numpy.newaxis (`None`) and integer or boolean arrays are valid indices",
     "output_type": "error",
     "traceback": [
      "\u001b[1;31m---------------------------------------------------------------------------\u001b[0m",
      "\u001b[1;31mIndexError\u001b[0m                                Traceback (most recent call last)",
      "Cell \u001b[1;32mIn[22], line 5\u001b[0m\n\u001b[0;32m      2\u001b[0m service_ratings_predictions_df \u001b[38;5;241m=\u001b[39m service_ratings_predictions\u001b[38;5;241m.\u001b[39mcopy()\n\u001b[0;32m      4\u001b[0m \u001b[38;5;66;03m# Add a column to the DataFrame that contains the customer_segment information\u001b[39;00m\n\u001b[1;32m----> 5\u001b[0m service_ratings_predictions_df[\u001b[38;5;124m'\u001b[39m\u001b[38;5;124mservice_ratings_predictions\u001b[39m\u001b[38;5;124m'\u001b[39m] \u001b[38;5;241m=\u001b[39m service_ratings_predictions\n",
      "\u001b[1;31mIndexError\u001b[0m: only integers, slices (`:`), ellipsis (`...`), numpy.newaxis (`None`) and integer or boolean arrays are valid indices"
     ]
    }
   ],
   "source": [
    "# Create a copy of the DataFrame and name it as service_ratings_predictions_df\n",
    "service_ratings_predictions_df = service_ratings_predictions.copy()\n",
    "\n",
    "# Add a column to the DataFrame that contains the customer_segment information\n",
    "service_ratings_predictions_df['service_ratings_predictions'] = service_ratings_predictions \n",
    "\n",
    "# Review the DataFrame\n",
    "#service_ratings_predictions_df"
   ]
  },
  {
   "cell_type": "code",
   "execution_count": 8,
   "metadata": {},
   "outputs": [
    {
     "data": {},
     "metadata": {},
     "output_type": "display_data"
    },
    {
     "data": {
      "application/vnd.holoviews_exec.v0+json": "",
      "text/html": [
       "<div id='1106'>\n",
       "\n",
       "\n",
       "\n",
       "\n",
       "\n",
       "  <div class=\"bk-root\" id=\"1f698eb6-3754-4545-9a15-aa5b9b159553\" data-root-id=\"1106\"></div>\n",
       "</div>\n",
       "<script type=\"application/javascript\">(function(root) {\n",
       "  function embed_document(root) {\n",
       "  var docs_json = {\"9580e7de-ab13-4420-8c44-4c5164883f16\":{\"roots\":{\"references\":[{\"attributes\":{\"axis_label\":\"mobile_app_rating\",\"bounds\":\"auto\",\"formatter\":{\"id\":\"1144\"},\"major_label_orientation\":\"horizontal\",\"ticker\":{\"id\":\"1123\"}},\"id\":\"1122\",\"type\":\"LinearAxis\"},{\"attributes\":{\"bottom_units\":\"screen\",\"fill_alpha\":0.5,\"fill_color\":\"lightgrey\",\"left_units\":\"screen\",\"level\":\"overlay\",\"line_alpha\":1.0,\"line_color\":\"black\",\"line_dash\":[4,4],\"line_width\":2,\"right_units\":\"screen\",\"top_units\":\"screen\"},\"id\":\"1135\",\"type\":\"BoxAnnotation\"},{\"attributes\":{\"data\":{\"customer_segment_3\":[1,1,1,1,1,1,1,1,1,1,1,1,1,1,1,1,1,1,1,1,1,1,1,1,1,1,1,1,1,1,1,1,1,1,1,1,1,1,1,1,1,1,1,1,1,1,1,1,1,1,1,1,1,1,1,1,1,1,1,1,1,1,1,1,1,1,1,1,1,1,1,1,1,1,1,1,1,1,1,1,1,1,1,1,1,1,1],\"mobile_app_rating\":{\"__ndarray__\":\"MzMzMzMzDUB7FK5H4XoKQBSuR+F6FA5AZmZmZmZmCkAAAAAAAAARQKRwPQrXowpAAAAAAAAADkBI4XoUrkcLQFK4HoXrURFAXI/C9ShcDUBxPQrXo3ANQM3MzMzMzApAcT0K16NwDUDhehSuR+EQQB+F61G4HgtAAAAAAAAAEkA9CtejcD0SQFyPwvUoXBBAUrgehetRCkAfhetRuB4PQAAAAAAAABJAMzMzMzMzC0CF61G4HoULQOF6FK5H4Q5APQrXo3A9DkBxPQrXo3ANQAAAAAAAAApA9ihcj8L1DEAUrkfhehQKQD0K16NwPQxAzczMzMzMCkApXI/C9SgKQB+F61G4Hg1AAAAAAAAADEBI4XoUrkcLQOxRuB6F6wtAhetRuB6FC0CamZmZmZkNQAAAAAAAABBApHA9CtejCkCuR+F6FK4SQAAAAAAAABJAUrgehetRCkAAAAAAAAAMQI/C9ShcjxBAZmZmZmZmDECuR+F6FK4JQDMzMzMzMwtAmpmZmZmZDUBI4XoUrkcPQPYoXI/C9QpAAAAAAAAADkDXo3A9CtcJQEjhehSuRwtAZmZmZmZmDECuR+F6FK4PQFyPwvUoXA9Aw/UoXI/CCUCkcD0K16MKQI/C9Shcjw5AXI/C9ShcDUAAAAAAAAAMQMP1KFyPwgtAH4XrUbgeC0AAAAAAAAAMQOxRuB6F6wlArkfhehSuC0C4HoXrUbgKQAAAAAAAAAxAuB6F61G4CkDhehSuR+EOQD0K16NwPRBAH4XrUbgeDUC4HoXrUbgMQOF6FK5H4QpAzczMzMzMEEB7FK5H4XoOQMP1KFyPwhBAXI/C9ShcDUBSuB6F61ESQAAAAAAAAApACtejcD0KC0AK16NwPQoNQK5H4XoUrgtAhetRuB6FC0AAAAAAAAAKQLgehetRuAxA\",\"dtype\":\"float64\",\"order\":\"little\",\"shape\":[87]},\"personal_banker_rating\":{\"__ndarray__\":\"H4XrUbgeCUD2KFyPwvUIQI/C9ShcjwhApHA9CtejBkAAAAAAAAAIQJqZmZmZmQVA9ihcj8L1CEC4HoXrUbgIQAAAAAAAAARAKVyPwvUoBkBxPQrXo3AHQFyPwvUoXAlAH4XrUbgeCUAAAAAAAAAIQHE9CtejcAlAZmZmZmZmBEBcj8L1KFwJQAAAAAAAAARAAAAAAAAACECkcD0K16MGQAAAAAAAAAhAAAAAAAAACEBcj8L1KFwJQAAAAAAAAARAAAAAAAAACECF61G4HoUJQFyPwvUoXAVAZmZmZmZmBkDD9Shcj8IHQM3MzMzMzAZApHA9CtejBkA9CtejcD0IQAAAAAAAAAhAAAAAAAAACEAK16NwPQoFQIXrUbgehQlAAAAAAAAACEAAAAAAAAAIQKRwPQrXowZAAAAAAAAABEAzMzMzMzMHQFyPwvUoXAlAzczMzMzMBkCkcD0K16MGQM3MzMzMzAZAZmZmZmZmBkD2KFyPwvUEQKRwPQrXowhAAAAAAAAABEAAAAAAAAAEQIXrUbgehQlAAAAAAAAACEAAAAAAAAAEQDMzMzMzMwdAAAAAAAAACEAAAAAAAAAIQArXo3A9CglAuB6F61G4BkBcj8L1KFwHQAAAAAAAAAhAAAAAAAAACEAAAAAAAAAIQFyPwvUoXAVAMzMzMzMzB0Bcj8L1KFwJQM3MzMzMzAhAAAAAAAAABkApXI/C9SgIQB+F61G4HgdAexSuR+F6BkAAAAAAAAAIQEjhehSuRwVAXI/C9ShcBUAAAAAAAAAIQI/C9ShcjwhAXI/C9ShcCUC4HoXrUbgIQDMzMzMzMwdAAAAAAAAACEBcj8L1KFwJQK5H4XoUrgVArkfhehSuBUCkcD0K16MEQJqZmZmZmQNAAAAAAAAACEAK16NwPQoHQGZmZmZmZg5A\",\"dtype\":\"float64\",\"order\":\"little\",\"shape\":[87]}},\"selected\":{\"id\":\"1166\"},\"selection_policy\":{\"id\":\"1181\"}},\"id\":\"1165\",\"type\":\"ColumnDataSource\"},{\"attributes\":{},\"id\":\"1144\",\"type\":\"BasicTickFormatter\"},{\"attributes\":{\"align\":null,\"below\":[{\"id\":\"1122\"}],\"center\":[{\"id\":\"1125\"},{\"id\":\"1129\"}],\"left\":[{\"id\":\"1126\"}],\"margin\":null,\"min_border_bottom\":10,\"min_border_left\":10,\"min_border_right\":10,\"min_border_top\":10,\"plot_height\":300,\"plot_width\":700,\"renderers\":[{\"id\":\"1153\"},{\"id\":\"1171\"},{\"id\":\"1190\"}],\"right\":[{\"id\":\"1163\"}],\"sizing_mode\":\"fixed\",\"title\":{\"id\":\"1114\"},\"toolbar\":{\"id\":\"1136\"},\"x_range\":{\"id\":\"1108\"},\"x_scale\":{\"id\":\"1118\"},\"y_range\":{\"id\":\"1109\"},\"y_scale\":{\"id\":\"1120\"}},\"id\":\"1113\",\"subtype\":\"Figure\",\"type\":\"Plot\"},{\"attributes\":{\"label\":{\"value\":\"0\"},\"renderers\":[{\"id\":\"1153\"}]},\"id\":\"1164\",\"type\":\"LegendItem\"},{\"attributes\":{},\"id\":\"1148\",\"type\":\"Selection\"},{\"attributes\":{\"data_source\":{\"id\":\"1184\"},\"glyph\":{\"id\":\"1187\"},\"hover_glyph\":null,\"muted_glyph\":{\"id\":\"1189\"},\"nonselection_glyph\":{\"id\":\"1188\"},\"selection_glyph\":null,\"view\":{\"id\":\"1191\"}},\"id\":\"1190\",\"type\":\"GlyphRenderer\"},{\"attributes\":{\"fill_alpha\":{\"value\":0.2},\"fill_color\":{\"value\":\"#1f77b3\"},\"line_alpha\":{\"value\":0.2},\"line_color\":{\"value\":\"#1f77b3\"},\"size\":{\"units\":\"screen\",\"value\":5.477225575051661},\"x\":{\"field\":\"mobile_app_rating\"},\"y\":{\"field\":\"personal_banker_rating\"}},\"id\":\"1152\",\"type\":\"Scatter\"},{\"attributes\":{\"fill_alpha\":{\"value\":0.2},\"fill_color\":{\"value\":\"#ff7e0e\"},\"line_alpha\":{\"value\":0.2},\"line_color\":{\"value\":\"#ff7e0e\"},\"size\":{\"units\":\"screen\",\"value\":5.477225575051661},\"x\":{\"field\":\"mobile_app_rating\"},\"y\":{\"field\":\"personal_banker_rating\"}},\"id\":\"1170\",\"type\":\"Scatter\"},{\"attributes\":{},\"id\":\"1181\",\"type\":\"UnionRenderers\"},{\"attributes\":{\"margin\":[5,5,5,5],\"name\":\"HSpacer01756\",\"sizing_mode\":\"stretch_width\"},\"id\":\"1313\",\"type\":\"Spacer\"},{\"attributes\":{\"click_policy\":\"mute\",\"items\":[{\"id\":\"1164\"},{\"id\":\"1183\"},{\"id\":\"1204\"}],\"location\":[0,0],\"title\":\"customer_segment_3\"},\"id\":\"1163\",\"type\":\"Legend\"},{\"attributes\":{\"fill_alpha\":{\"value\":0.2},\"fill_color\":{\"value\":\"#2ba02b\"},\"line_alpha\":{\"value\":0.2},\"line_color\":{\"value\":\"#2ba02b\"},\"size\":{\"units\":\"screen\",\"value\":5.477225575051661},\"x\":{\"field\":\"mobile_app_rating\"},\"y\":{\"field\":\"personal_banker_rating\"}},\"id\":\"1189\",\"type\":\"Scatter\"},{\"attributes\":{},\"id\":\"1131\",\"type\":\"PanTool\"},{\"attributes\":{},\"id\":\"1123\",\"type\":\"BasicTicker\"},{\"attributes\":{\"active_drag\":\"auto\",\"active_inspect\":\"auto\",\"active_multi\":null,\"active_scroll\":\"auto\",\"active_tap\":\"auto\",\"tools\":[{\"id\":\"1110\"},{\"id\":\"1130\"},{\"id\":\"1131\"},{\"id\":\"1132\"},{\"id\":\"1133\"},{\"id\":\"1134\"}]},\"id\":\"1136\",\"type\":\"Toolbar\"},{\"attributes\":{},\"id\":\"1127\",\"type\":\"BasicTicker\"},{\"attributes\":{},\"id\":\"1120\",\"type\":\"LinearScale\"},{\"attributes\":{\"axis_label\":\"personal_banker_rating\",\"bounds\":\"auto\",\"formatter\":{\"id\":\"1146\"},\"major_label_orientation\":\"horizontal\",\"ticker\":{\"id\":\"1127\"}},\"id\":\"1126\",\"type\":\"LinearAxis\"},{\"attributes\":{\"fill_color\":{\"value\":\"#ff7e0e\"},\"line_color\":{\"value\":\"#ff7e0e\"},\"size\":{\"units\":\"screen\",\"value\":5.477225575051661},\"x\":{\"field\":\"mobile_app_rating\"},\"y\":{\"field\":\"personal_banker_rating\"}},\"id\":\"1168\",\"type\":\"Scatter\"},{\"attributes\":{\"label\":{\"value\":\"2\"},\"renderers\":[{\"id\":\"1190\"}]},\"id\":\"1204\",\"type\":\"LegendItem\"},{\"attributes\":{},\"id\":\"1146\",\"type\":\"BasicTickFormatter\"},{\"attributes\":{\"data_source\":{\"id\":\"1147\"},\"glyph\":{\"id\":\"1150\"},\"hover_glyph\":null,\"muted_glyph\":{\"id\":\"1152\"},\"nonselection_glyph\":{\"id\":\"1151\"},\"selection_glyph\":null,\"view\":{\"id\":\"1154\"}},\"id\":\"1153\",\"type\":\"GlyphRenderer\"},{\"attributes\":{},\"id\":\"1132\",\"type\":\"WheelZoomTool\"},{\"attributes\":{},\"id\":\"1202\",\"type\":\"UnionRenderers\"},{\"attributes\":{},\"id\":\"1118\",\"type\":\"LinearScale\"},{\"attributes\":{\"data\":{\"customer_segment_3\":[0,0,0,0,0,0,0,0,0,0,0,0,0,0,0,0,0,0,0,0,0,0,0,0,0,0],\"mobile_app_rating\":{\"__ndarray__\":\"AAAAAAAADEBcj8L1KFwHQK5H4XoUrg9AexSuR+F6DkC4HoXrUbgQQDMzMzMzMwtAmpmZmZmZCUBxPQrXo3ALQFyPwvUoXA1AAAAAAAAAEED2KFyPwvUMQHE9CtejcBBAMzMzMzMzD0AAAAAAAAAOQAAAAAAAABBA7FG4HoXrDUCamZmZmZkJQAAAAAAAAAxAH4XrUbgeC0CamZmZmZkJQBSuR+F6FBFAhetRuB6FCUCuR+F6FK4NQAAAAAAAABBAAAAAAAAADEAAAAAAAAAMQA==\",\"dtype\":\"float64\",\"order\":\"little\",\"shape\":[26]},\"personal_banker_rating\":{\"__ndarray__\":\"MzMzMzMzA0Bcj8L1KFwBQAAAAAAAAABACtejcD0KA0AAAAAAAADgPwAAAAAAAABAAAAAAAAAAEAAAAAAAADwPwAAAAAAAABAAAAAAAAAAEAAAAAAAAAAQAAAAAAAAABAAAAAAAAA4D/2KFyPwvX4PwAAAAAAAABAMzMzMzMzA0Bcj8L1KFwBQKRwPQrXowJA9ihcj8L1/D+kcD0K16MCQAAAAAAAAABASOF6FK5H/T9cj8L1KFwBQDMzMzMzMwNAZmZmZmZmAkAzMzMzMzMDQA==\",\"dtype\":\"float64\",\"order\":\"little\",\"shape\":[26]}},\"selected\":{\"id\":\"1148\"},\"selection_policy\":{\"id\":\"1161\"}},\"id\":\"1147\",\"type\":\"ColumnDataSource\"},{\"attributes\":{},\"id\":\"1185\",\"type\":\"Selection\"},{\"attributes\":{\"axis\":{\"id\":\"1126\"},\"dimension\":1,\"grid_line_color\":null,\"ticker\":null},\"id\":\"1129\",\"type\":\"Grid\"},{\"attributes\":{\"label\":{\"value\":\"1\"},\"renderers\":[{\"id\":\"1171\"}]},\"id\":\"1183\",\"type\":\"LegendItem\"},{\"attributes\":{\"source\":{\"id\":\"1147\"}},\"id\":\"1154\",\"type\":\"CDSView\"},{\"attributes\":{\"fill_alpha\":{\"value\":0.1},\"fill_color\":{\"value\":\"#2ba02b\"},\"line_alpha\":{\"value\":0.1},\"line_color\":{\"value\":\"#2ba02b\"},\"size\":{\"units\":\"screen\",\"value\":5.477225575051661},\"x\":{\"field\":\"mobile_app_rating\"},\"y\":{\"field\":\"personal_banker_rating\"}},\"id\":\"1188\",\"type\":\"Scatter\"},{\"attributes\":{\"callback\":null,\"renderers\":[{\"id\":\"1153\"},{\"id\":\"1171\"},{\"id\":\"1190\"}],\"tags\":[\"hv_created\"],\"tooltips\":[[\"customer_segment_3\",\"@{customer_segment_3}\"],[\"mobile_app_rating\",\"@{mobile_app_rating}\"],[\"personal_banker_rating\",\"@{personal_banker_rating}\"]]},\"id\":\"1110\",\"type\":\"HoverTool\"},{\"attributes\":{\"overlay\":{\"id\":\"1135\"}},\"id\":\"1133\",\"type\":\"BoxZoomTool\"},{\"attributes\":{\"data_source\":{\"id\":\"1165\"},\"glyph\":{\"id\":\"1168\"},\"hover_glyph\":null,\"muted_glyph\":{\"id\":\"1170\"},\"nonselection_glyph\":{\"id\":\"1169\"},\"selection_glyph\":null,\"view\":{\"id\":\"1172\"}},\"id\":\"1171\",\"type\":\"GlyphRenderer\"},{\"attributes\":{\"data\":{\"customer_segment_3\":[2,2,2,2,2,2,2,2,2,2,2,2,2,2,2,2,2,2,2,2,2,2,2,2,2,2,2,2,2,2,2,2,2,2,2,2,2,2,2,2,2,2,2,2,2,2,2,2,2,2,2,2,2,2,2,2,2,2,2,2,2,2,2,2,2,2,2,2,2,2],\"mobile_app_rating\":{\"__ndarray__\":\"MzMzMzMzB0BxPQrXo3AHQB+F61G4HgdA4XoUrkfhBEAAAAAAAAAIQClcj8L1KOw/AAAAAAAABkBxPQrXo3AHQKRwPQrXowJAAAAAAAAACED2KFyPwvUGQAAAAAAAAARAXI/C9ShcAUC4HoXrUbgIQFyPwvUoXANAAAAAAAAACEDNzMzMzMwEQHE9CtejcAdAH4XrUbgeCUBI4XoUrkcHQAAAAAAAAAhAexSuR+F6CEAzMzMzMzMHQArXo3A9CgdAhetRuB6FA0CkcD0K16MGQFyPwvUoXAdAPQrXo3A9BkAfhetRuB4DQAAAAAAAAABAXI/C9ShcBUAfhetRuB4HQHsUrkfheghAAAAAAAAAAkAAAAAAAADwPwAAAAAAAAZApHA9CtejBED2KFyPwvUEQKRwPQrXowhA4XoUrkfhBkD2KFyPwvUGQAAAAAAAAABAj8L1KFyPCEBmZmZmZmYCQEjhehSuR/k/MzMzMzMzB0DNzMzMzMwIQFK4HoXrUQhAj8L1KFyPBEDhehSuR+EGQKRwPQrXowZAj8L1KFyPBkCkcD0K16MGQI/C9ShcjwhAAAAAAAAAAEApXI/C9SgIQHE9CtejcAdApHA9CtejAkAAAAAAAAAIQAAAAAAAAPw/AAAAAAAABkBSuB6F61EIQHsUrkfheghAUrgehetRCEBmZmZmZmYGQAAAAAAAAAhASOF6FK5HBUAAAAAAAAAIQAAAAAAAAABAMzMzMzMzA0A=\",\"dtype\":\"float64\",\"order\":\"little\",\"shape\":[70]},\"personal_banker_rating\":{\"__ndarray__\":\"AAAAAAAABkDhehSuR+EKQPYoXI/C9QRAFK5H4XoUBEBcj8L1KFwJQAAAAAAAAAhAMzMzMzMzBUBxPQrXo3ALQMP1KFyPwgVAH4XrUbgeB0ApXI/C9SgIQD0K16NwPRBAAAAAAAAACEAAAAAAAAAGQNejcD0K1wdAXI/C9ShcBUCPwvUoXI8EQLgehetRuAxAKVyPwvUoCEDsUbgehesHQAAAAAAAAARAUrgehetRCEC4HoXrUbgGQKRwPQrXowpAMzMzMzMzB0AAAAAAAAAIQI/C9ShcjwhAAAAAAAAACEC4HoXrUbgEQAAAAAAAAA5AAAAAAAAABkBmZmZmZmYOQM3MzMzMzAZAAAAAAAAACkAAAAAAAAASQNejcD0K1xBAAAAAAAAABEAAAAAAAAAIQMP1KFyPwgNArkfhehSuA0Bcj8L1KFwNQHsUrkfhegxAcT0K16NwBUAAAAAAAAAMQOF6FK5H4QZAAAAAAAAABEDhehSuR+EGQOF6FK5H4QhAZmZmZmZmAEDD9Shcj8IFQHE9CtejcAVAFK5H4XoUBkAK16NwPQoDQHE9CtejcAdAXI/C9ShcBUDNzMzMzMwIQGZmZmZmZgpAAAAAAAAACECPwvUoXI8EQAAAAAAAABBAXI/C9ShcCUBcj8L1KFwFQM3MzMzMzARACtejcD0KB0CF61G4HoUFQFK4HoXrUQZAXI/C9ShcC0BmZmZmZmYGQFK4HoXrURNAZmZmZmZmBkA=\",\"dtype\":\"float64\",\"order\":\"little\",\"shape\":[70]}},\"selected\":{\"id\":\"1185\"},\"selection_policy\":{\"id\":\"1202\"}},\"id\":\"1184\",\"type\":\"ColumnDataSource\"},{\"attributes\":{\"text\":\"\",\"text_color\":{\"value\":\"black\"},\"text_font_size\":{\"value\":\"12pt\"}},\"id\":\"1114\",\"type\":\"Title\"},{\"attributes\":{\"end\":4.832428571428571,\"reset_end\":4.832428571428571,\"reset_start\":0.7175714285714285,\"start\":0.7175714285714285,\"tags\":[[[\"mobile_app_rating\",\"mobile_app_rating\",null]]]},\"id\":\"1108\",\"type\":\"Range1d\"},{\"attributes\":{},\"id\":\"1134\",\"type\":\"ResetTool\"},{\"attributes\":{\"source\":{\"id\":\"1184\"}},\"id\":\"1191\",\"type\":\"CDSView\"},{\"attributes\":{\"fill_color\":{\"value\":\"#1f77b3\"},\"line_color\":{\"value\":\"#1f77b3\"},\"size\":{\"units\":\"screen\",\"value\":5.477225575051661},\"x\":{\"field\":\"mobile_app_rating\"},\"y\":{\"field\":\"personal_banker_rating\"}},\"id\":\"1150\",\"type\":\"Scatter\"},{\"attributes\":{\"source\":{\"id\":\"1165\"}},\"id\":\"1172\",\"type\":\"CDSView\"},{\"attributes\":{},\"id\":\"1130\",\"type\":\"SaveTool\"},{\"attributes\":{\"fill_alpha\":{\"value\":0.1},\"fill_color\":{\"value\":\"#1f77b3\"},\"line_alpha\":{\"value\":0.1},\"line_color\":{\"value\":\"#1f77b3\"},\"size\":{\"units\":\"screen\",\"value\":5.477225575051661},\"x\":{\"field\":\"mobile_app_rating\"},\"y\":{\"field\":\"personal_banker_rating\"}},\"id\":\"1151\",\"type\":\"Scatter\"},{\"attributes\":{},\"id\":\"1161\",\"type\":\"UnionRenderers\"},{\"attributes\":{\"children\":[{\"id\":\"1107\"},{\"id\":\"1113\"},{\"id\":\"1313\"}],\"margin\":[0,0,0,0],\"name\":\"Row01751\",\"tags\":[\"embedded\"]},\"id\":\"1106\",\"type\":\"Row\"},{\"attributes\":{\"end\":5.263,\"reset_end\":5.263,\"reset_start\":0.06699999999999995,\"start\":0.06699999999999995,\"tags\":[[[\"personal_banker_rating\",\"personal_banker_rating\",null]]]},\"id\":\"1109\",\"type\":\"Range1d\"},{\"attributes\":{\"margin\":[5,5,5,5],\"name\":\"HSpacer01755\",\"sizing_mode\":\"stretch_width\"},\"id\":\"1107\",\"type\":\"Spacer\"},{\"attributes\":{\"fill_alpha\":{\"value\":0.1},\"fill_color\":{\"value\":\"#ff7e0e\"},\"line_alpha\":{\"value\":0.1},\"line_color\":{\"value\":\"#ff7e0e\"},\"size\":{\"units\":\"screen\",\"value\":5.477225575051661},\"x\":{\"field\":\"mobile_app_rating\"},\"y\":{\"field\":\"personal_banker_rating\"}},\"id\":\"1169\",\"type\":\"Scatter\"},{\"attributes\":{\"fill_color\":{\"value\":\"#2ba02b\"},\"line_color\":{\"value\":\"#2ba02b\"},\"size\":{\"units\":\"screen\",\"value\":5.477225575051661},\"x\":{\"field\":\"mobile_app_rating\"},\"y\":{\"field\":\"personal_banker_rating\"}},\"id\":\"1187\",\"type\":\"Scatter\"},{\"attributes\":{},\"id\":\"1166\",\"type\":\"Selection\"},{\"attributes\":{\"axis\":{\"id\":\"1122\"},\"grid_line_color\":null,\"ticker\":null},\"id\":\"1125\",\"type\":\"Grid\"}],\"root_ids\":[\"1106\"]},\"title\":\"Bokeh Application\",\"version\":\"2.1.1\"}};\n",
       "  var render_items = [{\"docid\":\"9580e7de-ab13-4420-8c44-4c5164883f16\",\"root_ids\":[\"1106\"],\"roots\":{\"1106\":\"1f698eb6-3754-4545-9a15-aa5b9b159553\"}}];\n",
       "  root.Bokeh.embed.embed_items_notebook(docs_json, render_items);\n",
       "  }\n",
       "if (root.Bokeh !== undefined) {\n",
       "    embed_document(root);\n",
       "  } else {\n",
       "    var attempts = 0;\n",
       "    var timer = setInterval(function(root) {\n",
       "      if (root.Bokeh !== undefined) {\n",
       "        clearInterval(timer);\n",
       "        embed_document(root);\n",
       "      } else if (document.readyState == \"complete\") {\n",
       "        attempts++;\n",
       "        if (attempts > 100) {\n",
       "          clearInterval(timer);\n",
       "          console.log(\"Bokeh: ERROR: Unable to run BokehJS code because BokehJS library is missing\");\n",
       "        }\n",
       "      }\n",
       "    }, 10, root)\n",
       "  }\n",
       "})(window);</script>"
      ],
      "text/plain": [
       ":NdOverlay   [customer_segment_3]\n",
       "   :Scatter   [mobile_app_rating]   (personal_banker_rating)"
      ]
     },
     "execution_count": 8,
     "metadata": {
      "application/vnd.holoviews_exec.v0+json": {
       "id": "1106"
      }
     },
     "output_type": "execute_result"
    }
   ],
   "source": [
    "# Plot the data points based on the customer rating\n",
    "# YOUR CODE HERE"
   ]
  },
  {
   "cell_type": "markdown",
   "metadata": {},
   "source": [
    "## Run the k-means model with 4 clusters"
   ]
  },
  {
   "cell_type": "code",
   "execution_count": 9,
   "metadata": {},
   "outputs": [
    {
     "data": {
      "text/plain": [
       "KMeans(n_clusters=4, random_state=1)"
      ]
     },
     "execution_count": 9,
     "metadata": {},
     "output_type": "execute_result"
    }
   ],
   "source": [
    "# Create and initialize the K-means model instance for 4 clusters\n",
    "# YOUR CODE HERE\n",
    "\n",
    "# Print the model\n",
    "# YOUR CODE HERE"
   ]
  },
  {
   "cell_type": "code",
   "execution_count": 10,
   "metadata": {},
   "outputs": [
    {
     "data": {
      "text/plain": [
       "KMeans(n_clusters=4, random_state=1)"
      ]
     },
     "execution_count": 10,
     "metadata": {},
     "output_type": "execute_result"
    }
   ],
   "source": [
    "# Fit the data to the instance of the model\n",
    "# YOUR CODE HERE"
   ]
  },
  {
   "cell_type": "code",
   "execution_count": 11,
   "metadata": {},
   "outputs": [
    {
     "name": "stdout",
     "output_type": "stream",
     "text": [
      "[3 1 0 0 0 0 0 1 0 2 0 0 1 0 3 1 0 1 0 0 1 1 0 1 0 3 2 1 2 3 1 0 1 3 1 0 0\n",
      " 0 1 0 0 1 1 0 1 0 0 1 1 1 0 1 1 1 0 1 0 3 0 0 0 1 0 0 0 0 3 3 0 0 3 2 0 1\n",
      " 2 1 3 0 1 1 1 3 2 1 1 0 2 1 3 2 1 0 0 1 3 1 3 1 0 0 3 0 1 0 1 1 2 2 1 1 0\n",
      " 0 1 1 3 1 2 2 0 1 3 0 0 0 0 0 0 1 0 0 0 1 1 1 0 3 0 1 1 0 1 0 0 1 1 0 0 0\n",
      " 1 0 2 0 3 1 1 1 3 1 1 1 0 1 3 0 1 0 0 0 2 3 1 0 3 0 0 2 1 3 1 0 0 3 1]\n"
     ]
    }
   ],
   "source": [
    "# Make predictions about the data clusters using the trained model\n",
    "# YOUR CODE HERE\n",
    "\n",
    "# Print the predictions\n",
    "# YOUR CODE HERE"
   ]
  },
  {
   "cell_type": "code",
   "execution_count": 12,
   "metadata": {},
   "outputs": [
    {
     "data": {
      "text/html": [
       "<div>\n",
       "<style scoped>\n",
       "    .dataframe tbody tr th:only-of-type {\n",
       "        vertical-align: middle;\n",
       "    }\n",
       "\n",
       "    .dataframe tbody tr th {\n",
       "        vertical-align: top;\n",
       "    }\n",
       "\n",
       "    .dataframe thead th {\n",
       "        text-align: right;\n",
       "    }\n",
       "</style>\n",
       "<table border=\"1\" class=\"dataframe\">\n",
       "  <thead>\n",
       "    <tr style=\"text-align: right;\">\n",
       "      <th></th>\n",
       "      <th>mobile_app_rating</th>\n",
       "      <th>personal_banker_rating</th>\n",
       "      <th>customer_segment_3</th>\n",
       "      <th>customer_segment_4</th>\n",
       "    </tr>\n",
       "  </thead>\n",
       "  <tbody>\n",
       "    <tr>\n",
       "      <th>0</th>\n",
       "      <td>3.50</td>\n",
       "      <td>2.40</td>\n",
       "      <td>0</td>\n",
       "      <td>3</td>\n",
       "    </tr>\n",
       "    <tr>\n",
       "      <th>1</th>\n",
       "      <td>3.65</td>\n",
       "      <td>3.14</td>\n",
       "      <td>1</td>\n",
       "      <td>1</td>\n",
       "    </tr>\n",
       "    <tr>\n",
       "      <th>2</th>\n",
       "      <td>2.90</td>\n",
       "      <td>2.75</td>\n",
       "      <td>2</td>\n",
       "      <td>0</td>\n",
       "    </tr>\n",
       "    <tr>\n",
       "      <th>3</th>\n",
       "      <td>2.93</td>\n",
       "      <td>3.36</td>\n",
       "      <td>2</td>\n",
       "      <td>0</td>\n",
       "    </tr>\n",
       "    <tr>\n",
       "      <th>4</th>\n",
       "      <td>2.89</td>\n",
       "      <td>2.62</td>\n",
       "      <td>2</td>\n",
       "      <td>0</td>\n",
       "    </tr>\n",
       "  </tbody>\n",
       "</table>\n",
       "</div>"
      ],
      "text/plain": [
       "   mobile_app_rating  personal_banker_rating  customer_segment_3  \\\n",
       "0               3.50                    2.40                   0   \n",
       "1               3.65                    3.14                   1   \n",
       "2               2.90                    2.75                   2   \n",
       "3               2.93                    3.36                   2   \n",
       "4               2.89                    2.62                   2   \n",
       "\n",
       "   customer_segment_4  \n",
       "0                   3  \n",
       "1                   1  \n",
       "2                   0  \n",
       "3                   0  \n",
       "4                   0  "
      ]
     },
     "execution_count": 12,
     "metadata": {},
     "output_type": "execute_result"
    }
   ],
   "source": [
    "# Add a column to the service_ratings_predictions_df DataFrame that contains the customer_segment information\n",
    "# YOUR CODE HERE\n",
    "\n",
    "# Review the DataFrame\n",
    "# YOUR CODE HERE"
   ]
  },
  {
   "cell_type": "code",
   "execution_count": 13,
   "metadata": {},
   "outputs": [
    {
     "data": {},
     "metadata": {},
     "output_type": "display_data"
    },
    {
     "data": {
      "application/vnd.holoviews_exec.v0+json": "",
      "text/html": [
       "<div id='1375'>\n",
       "\n",
       "\n",
       "\n",
       "\n",
       "\n",
       "  <div class=\"bk-root\" id=\"48801753-f1d2-4d09-b6de-7af9476053ff\" data-root-id=\"1375\"></div>\n",
       "</div>\n",
       "<script type=\"application/javascript\">(function(root) {\n",
       "  function embed_document(root) {\n",
       "  var docs_json = {\"7ba25575-4aaf-4c19-94cd-258ce32f0436\":{\"roots\":{\"references\":[{\"attributes\":{\"fill_alpha\":{\"value\":0.2},\"fill_color\":{\"value\":\"#1f77b3\"},\"line_alpha\":{\"value\":0.2},\"line_color\":{\"value\":\"#1f77b3\"},\"size\":{\"units\":\"screen\",\"value\":5.477225575051661},\"x\":{\"field\":\"mobile_app_rating\"},\"y\":{\"field\":\"personal_banker_rating\"}},\"id\":\"1422\",\"type\":\"Scatter\"},{\"attributes\":{\"axis\":{\"id\":\"1396\"},\"dimension\":1,\"grid_line_color\":null,\"ticker\":null},\"id\":\"1399\",\"type\":\"Grid\"},{\"attributes\":{\"axis_label\":\"mobile_app_rating\",\"bounds\":\"auto\",\"formatter\":{\"id\":\"1414\"},\"major_label_orientation\":\"horizontal\",\"ticker\":{\"id\":\"1393\"}},\"id\":\"1392\",\"type\":\"LinearAxis\"},{\"attributes\":{\"source\":{\"id\":\"1417\"}},\"id\":\"1424\",\"type\":\"CDSView\"},{\"attributes\":{},\"id\":\"1401\",\"type\":\"PanTool\"},{\"attributes\":{},\"id\":\"1495\",\"type\":\"UnionRenderers\"},{\"attributes\":{\"end\":4.832428571428571,\"reset_end\":4.832428571428571,\"reset_start\":0.7175714285714285,\"start\":0.7175714285714285,\"tags\":[[[\"mobile_app_rating\",\"mobile_app_rating\",null]]]},\"id\":\"1377\",\"type\":\"Range1d\"},{\"attributes\":{\"click_policy\":\"mute\",\"items\":[{\"id\":\"1434\"},{\"id\":\"1453\"},{\"id\":\"1474\"},{\"id\":\"1497\"}],\"location\":[0,0],\"title\":\"customer_segment_4\"},\"id\":\"1433\",\"type\":\"Legend\"},{\"attributes\":{\"fill_alpha\":{\"value\":0.1},\"fill_color\":{\"value\":\"#ff7e0e\"},\"line_alpha\":{\"value\":0.1},\"line_color\":{\"value\":\"#ff7e0e\"},\"size\":{\"units\":\"screen\",\"value\":5.477225575051661},\"x\":{\"field\":\"mobile_app_rating\"},\"y\":{\"field\":\"personal_banker_rating\"}},\"id\":\"1439\",\"type\":\"Scatter\"},{\"attributes\":{\"label\":{\"value\":\"0\"},\"renderers\":[{\"id\":\"1423\"}]},\"id\":\"1434\",\"type\":\"LegendItem\"},{\"attributes\":{\"fill_color\":{\"value\":\"#1f77b3\"},\"line_color\":{\"value\":\"#1f77b3\"},\"size\":{\"units\":\"screen\",\"value\":5.477225575051661},\"x\":{\"field\":\"mobile_app_rating\"},\"y\":{\"field\":\"personal_banker_rating\"}},\"id\":\"1420\",\"type\":\"Scatter\"},{\"attributes\":{},\"id\":\"1397\",\"type\":\"BasicTicker\"},{\"attributes\":{\"data_source\":{\"id\":\"1475\"},\"glyph\":{\"id\":\"1478\"},\"hover_glyph\":null,\"muted_glyph\":{\"id\":\"1480\"},\"nonselection_glyph\":{\"id\":\"1479\"},\"selection_glyph\":null,\"view\":{\"id\":\"1482\"}},\"id\":\"1481\",\"type\":\"GlyphRenderer\"},{\"attributes\":{\"axis_label\":\"personal_banker_rating\",\"bounds\":\"auto\",\"formatter\":{\"id\":\"1416\"},\"major_label_orientation\":\"horizontal\",\"ticker\":{\"id\":\"1397\"}},\"id\":\"1396\",\"type\":\"LinearAxis\"},{\"attributes\":{\"data_source\":{\"id\":\"1454\"},\"glyph\":{\"id\":\"1457\"},\"hover_glyph\":null,\"muted_glyph\":{\"id\":\"1459\"},\"nonselection_glyph\":{\"id\":\"1458\"},\"selection_glyph\":null,\"view\":{\"id\":\"1461\"}},\"id\":\"1460\",\"type\":\"GlyphRenderer\"},{\"attributes\":{\"data\":{\"customer_segment_4\":[0,0,0,0,0,0,0,0,0,0,0,0,0,0,0,0,0,0,0,0,0,0,0,0,0,0,0,0,0,0,0,0,0,0,0,0,0,0,0,0,0,0,0,0,0,0,0,0,0,0,0,0,0,0,0,0,0,0,0,0,0,0,0,0,0,0,0,0,0,0,0,0,0,0,0,0],\"mobile_app_rating\":{\"__ndarray__\":\"MzMzMzMzB0BxPQrXo3AHQB+F61G4HgdA4XoUrkfhBEB7FK5H4XoKQAAAAAAAAAhAZmZmZmZmCkBcj8L1KFwHQKRwPQrXowpAAAAAAAAABkBxPQrXo3AHQKRwPQrXowJAAAAAAAAACED2KFyPwvUGQLgehetRuAhAXI/C9ShcA0AAAAAAAAAIQM3MzMzMzARAcT0K16NwB0AfhetRuB4JQFK4HoXrUQpASOF6FK5HB0AAAAAAAAAIQHsUrkfheghAAAAAAAAACkAzMzMzMzMHQArXo3A9CgdAFK5H4XoUCkCF61G4HoUDQKRwPQrXowZAzczMzMzMCkBcj8L1KFwHQD0K16NwPQZAH4XrUbgeA0ApXI/C9SgKQFyPwvUoXAVAexSuR+F6CECkcD0K16MKQKRwPQrXowRAUrgehetRCkD2KFyPwvUEQK5H4XoUrglApHA9CtejCEDhehSuR+EGQI/C9ShcjwhA16NwPQrXCUAzMzMzMzMHQMP1KFyPwglAzczMzMzMCEBSuB6F61EIQI/C9ShcjwRA4XoUrkfhBkCkcD0K16MKQKRwPQrXowZAj8L1KFyPBkCkcD0K16MGQI/C9ShcjwhAAAAAAAAAAEDsUbgehesJQClcj8L1KAhAcT0K16NwB0C4HoXrUbgKQKRwPQrXowJAmpmZmZmZCUAAAAAAAAAIQAAAAAAAAAZAUrgehetRCEB7FK5H4XoIQFK4HoXrUQhAZmZmZmZmBkAAAAAAAAAIQAAAAAAAAAhAAAAAAAAACkAK16NwPQoLQDMzMzMzMwNAAAAAAAAACkA=\",\"dtype\":\"float64\",\"order\":\"little\",\"shape\":[76]},\"personal_banker_rating\":{\"__ndarray__\":\"AAAAAAAABkDhehSuR+EKQPYoXI/C9QRAFK5H4XoUBED2KFyPwvUIQFyPwvUoXAlApHA9CtejBkBcj8L1KFwBQJqZmZmZmQVAMzMzMzMzBUBxPQrXo3ALQMP1KFyPwgVAH4XrUbgeB0ApXI/C9SgIQAAAAAAAAAZA16NwPQrXB0Bcj8L1KFwFQI/C9ShcjwRAuB6F61G4DEApXI/C9SgIQAAAAAAAAAhA7FG4HoXrB0AAAAAAAAAEQFK4HoXrUQhAXI/C9ShcBUC4HoXrUbgGQKRwPQrXowpAw/UoXI/CB0AzMzMzMzMHQAAAAAAAAAhApHA9CtejBkCPwvUoXI8IQAAAAAAAAAhAuB6F61G4BEA9CtejcD0IQAAAAAAAAAZAzczMzMzMBkAAAAAAAAAEQAAAAAAAAARAzczMzMzMBkAAAAAAAAAIQPYoXI/C9QRAw/UoXI/CA0CuR+F6FK4DQHE9CtejcAVAAAAAAAAABEAAAAAAAAAEQLgehetRuAZA4XoUrkfhBkDhehSuR+EIQGZmZmZmZgBAw/UoXI/CBUBcj8L1KFwHQHE9CtejcAVAFK5H4XoUBkAK16NwPQoDQHE9CtejcAdAXI/C9ShcBUDNzMzMzMwIQM3MzMzMzAhAZmZmZmZmCkB7FK5H4XoGQAAAAAAAAAhApHA9CtejAkCPwvUoXI8EQFyPwvUoXAlAXI/C9ShcBUDNzMzMzMwEQArXo3A9CgdAhetRuB6FBUBSuB6F61EGQGZmZmZmZgZArkfhehSuBUCuR+F6FK4FQGZmZmZmZgZACtejcD0KB0A=\",\"dtype\":\"float64\",\"order\":\"little\",\"shape\":[76]}},\"selected\":{\"id\":\"1418\"},\"selection_policy\":{\"id\":\"1431\"}},\"id\":\"1417\",\"type\":\"ColumnDataSource\"},{\"attributes\":{\"source\":{\"id\":\"1454\"}},\"id\":\"1461\",\"type\":\"CDSView\"},{\"attributes\":{\"fill_color\":{\"value\":\"#d62628\"},\"line_color\":{\"value\":\"#d62628\"},\"size\":{\"units\":\"screen\",\"value\":5.477225575051661},\"x\":{\"field\":\"mobile_app_rating\"},\"y\":{\"field\":\"personal_banker_rating\"}},\"id\":\"1478\",\"type\":\"Scatter\"},{\"attributes\":{\"callback\":null,\"renderers\":[{\"id\":\"1423\"},{\"id\":\"1441\"},{\"id\":\"1460\"},{\"id\":\"1481\"}],\"tags\":[\"hv_created\"],\"tooltips\":[[\"customer_segment_4\",\"@{customer_segment_4}\"],[\"mobile_app_rating\",\"@{mobile_app_rating}\"],[\"personal_banker_rating\",\"@{personal_banker_rating}\"]]},\"id\":\"1379\",\"type\":\"HoverTool\"},{\"attributes\":{\"label\":{\"value\":\"1\"},\"renderers\":[{\"id\":\"1441\"}]},\"id\":\"1453\",\"type\":\"LegendItem\"},{\"attributes\":{},\"id\":\"1416\",\"type\":\"BasicTickFormatter\"},{\"attributes\":{\"fill_alpha\":{\"value\":0.2},\"fill_color\":{\"value\":\"#2ba02b\"},\"line_alpha\":{\"value\":0.2},\"line_color\":{\"value\":\"#2ba02b\"},\"size\":{\"units\":\"screen\",\"value\":5.477225575051661},\"x\":{\"field\":\"mobile_app_rating\"},\"y\":{\"field\":\"personal_banker_rating\"}},\"id\":\"1459\",\"type\":\"Scatter\"},{\"attributes\":{},\"id\":\"1418\",\"type\":\"Selection\"},{\"attributes\":{},\"id\":\"1402\",\"type\":\"WheelZoomTool\"},{\"attributes\":{\"data\":{\"customer_segment_4\":[1,1,1,1,1,1,1,1,1,1,1,1,1,1,1,1,1,1,1,1,1,1,1,1,1,1,1,1,1,1,1,1,1,1,1,1,1,1,1,1,1,1,1,1,1,1,1,1,1,1,1,1,1,1,1,1,1,1,1,1,1,1,1,1,1,1,1],\"mobile_app_rating\":{\"__ndarray__\":\"MzMzMzMzDUAUrkfhehQOQAAAAAAAABFAAAAAAAAADkBI4XoUrkcLQFK4HoXrURFAXI/C9ShcDUBxPQrXo3ANQM3MzMzMzApAcT0K16NwDUDhehSuR+EQQB+F61G4HgtAAAAAAAAAEkA9CtejcD0SQFyPwvUoXBBAH4XrUbgeD0AAAAAAAAASQDMzMzMzMwtAhetRuB6FC0DhehSuR+EOQD0K16NwPQ5AcT0K16NwDUD2KFyPwvUMQD0K16NwPQxAH4XrUbgeDUAAAAAAAAAMQEjhehSuRwtA7FG4HoXrC0CF61G4HoULQJqZmZmZmQ1AAAAAAAAAEECuR+F6FK4SQAAAAAAAABJAAAAAAAAADECPwvUoXI8QQGZmZmZmZgxAMzMzMzMzC0CamZmZmZkNQEjhehSuRw9A9ihcj8L1CkAAAAAAAAAOQEjhehSuRwtAZmZmZmZmDECuR+F6FK4PQFyPwvUoXA9Aj8L1KFyPDkBcj8L1KFwNQAAAAAAAAAxAw/UoXI/CC0AfhetRuB4LQAAAAAAAAAxArkfhehSuC0C4HoXrUbgKQAAAAAAAAAxA4XoUrkfhDkA9CtejcD0QQB+F61G4Hg1AuB6F61G4DEDhehSuR+EKQM3MzMzMzBBAexSuR+F6DkDD9Shcj8IQQFyPwvUoXA1AUrgehetREkAK16NwPQoNQIXrUbgehQtAuB6F61G4DEA=\",\"dtype\":\"float64\",\"order\":\"little\",\"shape\":[67]},\"personal_banker_rating\":{\"__ndarray__\":\"H4XrUbgeCUCPwvUoXI8IQAAAAAAAAAhA9ihcj8L1CEC4HoXrUbgIQAAAAAAAAARAKVyPwvUoBkBxPQrXo3AHQFyPwvUoXAlAH4XrUbgeCUAAAAAAAAAIQHE9CtejcAlAZmZmZmZmBEBcj8L1KFwJQAAAAAAAAARApHA9CtejBkAAAAAAAAAIQAAAAAAAAAhAXI/C9ShcCUAAAAAAAAAEQAAAAAAAAAhAhetRuB6FCUBmZmZmZmYGQM3MzMzMzAZAAAAAAAAACEAAAAAAAAAIQArXo3A9CgVAhetRuB6FCUAAAAAAAAAIQAAAAAAAAAhApHA9CtejBkAzMzMzMzMHQFyPwvUoXAlApHA9CtejBkDNzMzMzMwGQGZmZmZmZgZApHA9CtejCEAAAAAAAAAEQAAAAAAAAARAhetRuB6FCUAAAAAAAAAIQDMzMzMzMwdAAAAAAAAACEAAAAAAAAAIQArXo3A9CglAAAAAAAAACEAAAAAAAAAIQAAAAAAAAAhAXI/C9ShcBUAzMzMzMzMHQFyPwvUoXAlAAAAAAAAABkApXI/C9SgIQB+F61G4HgdAAAAAAAAACEBI4XoUrkcFQFyPwvUoXAVAAAAAAAAACECPwvUoXI8IQFyPwvUoXAlAuB6F61G4CEAzMzMzMzMHQAAAAAAAAAhAXI/C9ShcCUCkcD0K16MEQAAAAAAAAAhAZmZmZmZmDkA=\",\"dtype\":\"float64\",\"order\":\"little\",\"shape\":[67]}},\"selected\":{\"id\":\"1436\"},\"selection_policy\":{\"id\":\"1451\"}},\"id\":\"1435\",\"type\":\"ColumnDataSource\"},{\"attributes\":{},\"id\":\"1400\",\"type\":\"SaveTool\"},{\"attributes\":{},\"id\":\"1455\",\"type\":\"Selection\"},{\"attributes\":{\"fill_alpha\":{\"value\":0.1},\"fill_color\":{\"value\":\"#d62628\"},\"line_alpha\":{\"value\":0.1},\"line_color\":{\"value\":\"#d62628\"},\"size\":{\"units\":\"screen\",\"value\":5.477225575051661},\"x\":{\"field\":\"mobile_app_rating\"},\"y\":{\"field\":\"personal_banker_rating\"}},\"id\":\"1479\",\"type\":\"Scatter\"},{\"attributes\":{},\"id\":\"1414\",\"type\":\"BasicTickFormatter\"},{\"attributes\":{},\"id\":\"1388\",\"type\":\"LinearScale\"},{\"attributes\":{\"data_source\":{\"id\":\"1417\"},\"glyph\":{\"id\":\"1420\"},\"hover_glyph\":null,\"muted_glyph\":{\"id\":\"1422\"},\"nonselection_glyph\":{\"id\":\"1421\"},\"selection_glyph\":null,\"view\":{\"id\":\"1424\"}},\"id\":\"1423\",\"type\":\"GlyphRenderer\"},{\"attributes\":{},\"id\":\"1436\",\"type\":\"Selection\"},{\"attributes\":{\"end\":5.263,\"reset_end\":5.263,\"reset_start\":0.06699999999999995,\"start\":0.06699999999999995,\"tags\":[[[\"personal_banker_rating\",\"personal_banker_rating\",null]]]},\"id\":\"1378\",\"type\":\"Range1d\"},{\"attributes\":{\"fill_color\":{\"value\":\"#ff7e0e\"},\"line_color\":{\"value\":\"#ff7e0e\"},\"size\":{\"units\":\"screen\",\"value\":5.477225575051661},\"x\":{\"field\":\"mobile_app_rating\"},\"y\":{\"field\":\"personal_banker_rating\"}},\"id\":\"1438\",\"type\":\"Scatter\"},{\"attributes\":{\"source\":{\"id\":\"1475\"}},\"id\":\"1482\",\"type\":\"CDSView\"},{\"attributes\":{},\"id\":\"1390\",\"type\":\"LinearScale\"},{\"attributes\":{\"fill_alpha\":{\"value\":0.2},\"fill_color\":{\"value\":\"#ff7e0e\"},\"line_alpha\":{\"value\":0.2},\"line_color\":{\"value\":\"#ff7e0e\"},\"size\":{\"units\":\"screen\",\"value\":5.477225575051661},\"x\":{\"field\":\"mobile_app_rating\"},\"y\":{\"field\":\"personal_banker_rating\"}},\"id\":\"1440\",\"type\":\"Scatter\"},{\"attributes\":{\"source\":{\"id\":\"1435\"}},\"id\":\"1442\",\"type\":\"CDSView\"},{\"attributes\":{\"label\":{\"value\":\"2\"},\"renderers\":[{\"id\":\"1460\"}]},\"id\":\"1474\",\"type\":\"LegendItem\"},{\"attributes\":{\"overlay\":{\"id\":\"1405\"}},\"id\":\"1403\",\"type\":\"BoxZoomTool\"},{\"attributes\":{\"margin\":[5,5,5,5],\"name\":\"HSpacer02383\",\"sizing_mode\":\"stretch_width\"},\"id\":\"1376\",\"type\":\"Spacer\"},{\"attributes\":{},\"id\":\"1393\",\"type\":\"BasicTicker\"},{\"attributes\":{\"text\":\"\",\"text_color\":{\"value\":\"black\"},\"text_font_size\":{\"value\":\"12pt\"}},\"id\":\"1384\",\"type\":\"Title\"},{\"attributes\":{\"fill_color\":{\"value\":\"#2ba02b\"},\"line_color\":{\"value\":\"#2ba02b\"},\"size\":{\"units\":\"screen\",\"value\":5.477225575051661},\"x\":{\"field\":\"mobile_app_rating\"},\"y\":{\"field\":\"personal_banker_rating\"}},\"id\":\"1457\",\"type\":\"Scatter\"},{\"attributes\":{\"label\":{\"value\":\"3\"},\"renderers\":[{\"id\":\"1481\"}]},\"id\":\"1497\",\"type\":\"LegendItem\"},{\"attributes\":{},\"id\":\"1404\",\"type\":\"ResetTool\"},{\"attributes\":{},\"id\":\"1472\",\"type\":\"UnionRenderers\"},{\"attributes\":{\"data_source\":{\"id\":\"1435\"},\"glyph\":{\"id\":\"1438\"},\"hover_glyph\":null,\"muted_glyph\":{\"id\":\"1440\"},\"nonselection_glyph\":{\"id\":\"1439\"},\"selection_glyph\":null,\"view\":{\"id\":\"1442\"}},\"id\":\"1441\",\"type\":\"GlyphRenderer\"},{\"attributes\":{\"margin\":[5,5,5,5],\"name\":\"HSpacer02384\",\"sizing_mode\":\"stretch_width\"},\"id\":\"1624\",\"type\":\"Spacer\"},{\"attributes\":{},\"id\":\"1431\",\"type\":\"UnionRenderers\"},{\"attributes\":{},\"id\":\"1451\",\"type\":\"UnionRenderers\"},{\"attributes\":{\"children\":[{\"id\":\"1376\"},{\"id\":\"1383\"},{\"id\":\"1624\"}],\"margin\":[0,0,0,0],\"name\":\"Row02379\",\"tags\":[\"embedded\"]},\"id\":\"1375\",\"type\":\"Row\"},{\"attributes\":{\"fill_alpha\":{\"value\":0.1},\"fill_color\":{\"value\":\"#2ba02b\"},\"line_alpha\":{\"value\":0.1},\"line_color\":{\"value\":\"#2ba02b\"},\"size\":{\"units\":\"screen\",\"value\":5.477225575051661},\"x\":{\"field\":\"mobile_app_rating\"},\"y\":{\"field\":\"personal_banker_rating\"}},\"id\":\"1458\",\"type\":\"Scatter\"},{\"attributes\":{\"data\":{\"customer_segment_4\":[2,2,2,2,2,2,2,2,2,2,2,2,2,2,2],\"mobile_app_rating\":{\"__ndarray__\":\"KVyPwvUo7D8AAAAAAAAEQFyPwvUoXAFAAAAAAAAAAEAfhetRuB4HQAAAAAAAAAJAAAAAAAAA8D8AAAAAAAAGQPYoXI/C9QZAAAAAAAAAAEBmZmZmZmYCQEjhehSuR/k/AAAAAAAA/D9I4XoUrkcFQAAAAAAAAABA\",\"dtype\":\"float64\",\"order\":\"little\",\"shape\":[15]},\"personal_banker_rating\":{\"__ndarray__\":\"AAAAAAAACEA9CtejcD0QQAAAAAAAAAhAAAAAAAAADkBmZmZmZmYOQAAAAAAAAApAAAAAAAAAEkDXo3A9CtcQQFyPwvUoXA1AexSuR+F6DEAAAAAAAAAMQOF6FK5H4QZAAAAAAAAAEEBcj8L1KFwLQFK4HoXrURNA\",\"dtype\":\"float64\",\"order\":\"little\",\"shape\":[15]}},\"selected\":{\"id\":\"1455\"},\"selection_policy\":{\"id\":\"1472\"}},\"id\":\"1454\",\"type\":\"ColumnDataSource\"},{\"attributes\":{\"axis\":{\"id\":\"1392\"},\"grid_line_color\":null,\"ticker\":null},\"id\":\"1395\",\"type\":\"Grid\"},{\"attributes\":{\"active_drag\":\"auto\",\"active_inspect\":\"auto\",\"active_multi\":null,\"active_scroll\":\"auto\",\"active_tap\":\"auto\",\"tools\":[{\"id\":\"1379\"},{\"id\":\"1400\"},{\"id\":\"1401\"},{\"id\":\"1402\"},{\"id\":\"1403\"},{\"id\":\"1404\"}]},\"id\":\"1406\",\"type\":\"Toolbar\"},{\"attributes\":{\"data\":{\"customer_segment_4\":[3,3,3,3,3,3,3,3,3,3,3,3,3,3,3,3,3,3,3,3,3,3,3,3,3],\"mobile_app_rating\":{\"__ndarray__\":\"AAAAAAAADECuR+F6FK4PQHsUrkfheg5AuB6F61G4EEAzMzMzMzMLQJqZmZmZmQlAcT0K16NwC0Bcj8L1KFwNQAAAAAAAABBA9ihcj8L1DEBxPQrXo3AQQDMzMzMzMw9AAAAAAAAADkAAAAAAAAAQQOxRuB6F6w1AmpmZmZmZCUAAAAAAAAAMQB+F61G4HgtAFK5H4XoUEUCF61G4HoUJQK5H4XoUrg1AAAAAAAAAEEAAAAAAAAAMQK5H4XoUrgtAAAAAAAAADEA=\",\"dtype\":\"float64\",\"order\":\"little\",\"shape\":[25]},\"personal_banker_rating\":{\"__ndarray__\":\"MzMzMzMzA0AAAAAAAAAAQArXo3A9CgNAAAAAAAAA4D8AAAAAAAAAQAAAAAAAAABAAAAAAAAA8D8AAAAAAAAAQAAAAAAAAABAAAAAAAAAAEAAAAAAAAAAQAAAAAAAAOA/9ihcj8L1+D8AAAAAAAAAQDMzMzMzMwNAXI/C9ShcAUCkcD0K16MCQPYoXI/C9fw/AAAAAAAAAEBI4XoUrkf9P1yPwvUoXAFAMzMzMzMzA0BmZmZmZmYCQJqZmZmZmQNAMzMzMzMzA0A=\",\"dtype\":\"float64\",\"order\":\"little\",\"shape\":[25]}},\"selected\":{\"id\":\"1476\"},\"selection_policy\":{\"id\":\"1495\"}},\"id\":\"1475\",\"type\":\"ColumnDataSource\"},{\"attributes\":{},\"id\":\"1476\",\"type\":\"Selection\"},{\"attributes\":{\"fill_alpha\":{\"value\":0.1},\"fill_color\":{\"value\":\"#1f77b3\"},\"line_alpha\":{\"value\":0.1},\"line_color\":{\"value\":\"#1f77b3\"},\"size\":{\"units\":\"screen\",\"value\":5.477225575051661},\"x\":{\"field\":\"mobile_app_rating\"},\"y\":{\"field\":\"personal_banker_rating\"}},\"id\":\"1421\",\"type\":\"Scatter\"},{\"attributes\":{\"bottom_units\":\"screen\",\"fill_alpha\":0.5,\"fill_color\":\"lightgrey\",\"left_units\":\"screen\",\"level\":\"overlay\",\"line_alpha\":1.0,\"line_color\":\"black\",\"line_dash\":[4,4],\"line_width\":2,\"right_units\":\"screen\",\"top_units\":\"screen\"},\"id\":\"1405\",\"type\":\"BoxAnnotation\"},{\"attributes\":{\"align\":null,\"below\":[{\"id\":\"1392\"}],\"center\":[{\"id\":\"1395\"},{\"id\":\"1399\"}],\"left\":[{\"id\":\"1396\"}],\"margin\":null,\"min_border_bottom\":10,\"min_border_left\":10,\"min_border_right\":10,\"min_border_top\":10,\"plot_height\":300,\"plot_width\":700,\"renderers\":[{\"id\":\"1423\"},{\"id\":\"1441\"},{\"id\":\"1460\"},{\"id\":\"1481\"}],\"right\":[{\"id\":\"1433\"}],\"sizing_mode\":\"fixed\",\"title\":{\"id\":\"1384\"},\"toolbar\":{\"id\":\"1406\"},\"x_range\":{\"id\":\"1377\"},\"x_scale\":{\"id\":\"1388\"},\"y_range\":{\"id\":\"1378\"},\"y_scale\":{\"id\":\"1390\"}},\"id\":\"1383\",\"subtype\":\"Figure\",\"type\":\"Plot\"},{\"attributes\":{\"fill_alpha\":{\"value\":0.2},\"fill_color\":{\"value\":\"#d62628\"},\"line_alpha\":{\"value\":0.2},\"line_color\":{\"value\":\"#d62628\"},\"size\":{\"units\":\"screen\",\"value\":5.477225575051661},\"x\":{\"field\":\"mobile_app_rating\"},\"y\":{\"field\":\"personal_banker_rating\"}},\"id\":\"1480\",\"type\":\"Scatter\"}],\"root_ids\":[\"1375\"]},\"title\":\"Bokeh Application\",\"version\":\"2.1.1\"}};\n",
       "  var render_items = [{\"docid\":\"7ba25575-4aaf-4c19-94cd-258ce32f0436\",\"root_ids\":[\"1375\"],\"roots\":{\"1375\":\"48801753-f1d2-4d09-b6de-7af9476053ff\"}}];\n",
       "  root.Bokeh.embed.embed_items_notebook(docs_json, render_items);\n",
       "  }\n",
       "if (root.Bokeh !== undefined) {\n",
       "    embed_document(root);\n",
       "  } else {\n",
       "    var attempts = 0;\n",
       "    var timer = setInterval(function(root) {\n",
       "      if (root.Bokeh !== undefined) {\n",
       "        clearInterval(timer);\n",
       "        embed_document(root);\n",
       "      } else if (document.readyState == \"complete\") {\n",
       "        attempts++;\n",
       "        if (attempts > 100) {\n",
       "          clearInterval(timer);\n",
       "          console.log(\"Bokeh: ERROR: Unable to run BokehJS code because BokehJS library is missing\");\n",
       "        }\n",
       "      }\n",
       "    }, 10, root)\n",
       "  }\n",
       "})(window);</script>"
      ],
      "text/plain": [
       ":NdOverlay   [customer_segment_4]\n",
       "   :Scatter   [mobile_app_rating]   (personal_banker_rating)"
      ]
     },
     "execution_count": 13,
     "metadata": {
      "application/vnd.holoviews_exec.v0+json": {
       "id": "1375"
      }
     },
     "output_type": "execute_result"
    }
   ],
   "source": [
    "# Plot the data points based on the customer rating\n",
    "# YOUR CODE HERE"
   ]
  },
  {
   "cell_type": "markdown",
   "metadata": {},
   "source": [
    "## Answer the following question"
   ]
  },
  {
   "cell_type": "markdown",
   "metadata": {},
   "source": [
    "**Question:** Can any additional information be gleaned from the customer segmentation data when clusters of 3 and 4 are applied?\n",
    "\n",
    "**Answers:** # YOUR ANSWER HERE "
   ]
  }
 ],
 "metadata": {
  "kernelspec": {
   "display_name": "Python 3 (ipykernel)",
   "language": "python",
   "name": "python3"
  },
  "language_info": {
   "codemirror_mode": {
    "name": "ipython",
    "version": 3
   },
   "file_extension": ".py",
   "mimetype": "text/x-python",
   "name": "python",
   "nbconvert_exporter": "python",
   "pygments_lexer": "ipython3",
   "version": "3.11.4"
  }
 },
 "nbformat": 4,
 "nbformat_minor": 4
}
