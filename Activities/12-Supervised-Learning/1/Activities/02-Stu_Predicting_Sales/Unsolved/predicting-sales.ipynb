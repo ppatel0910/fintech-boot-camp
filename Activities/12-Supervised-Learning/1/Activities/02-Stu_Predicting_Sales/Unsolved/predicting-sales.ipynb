{
 "cells": [
  {
   "cell_type": "markdown",
   "metadata": {},
   "source": [
    "# Predicting Sales with Linear Regression\n",
    "\n",
    "## Background\n",
    "\n",
    "You and some friends created the ultimate child seat. It's a light and resistant seat that can be folded and stored in a backpack; it's the perfect solution for families traveling with children or people sharing their cars to take their kiddos to the school.\n",
    "\n",
    "You want to spread the word about your invention, so you decided to run a digital marketing campaign using online ads. After running the campaign for a few days displaying different ads per day, you want to create a model to predict the expected sales depending on the number of ads you decide to show on the internet.\n",
    "\n",
    "You realized that this is an excellent opportunity to use your linear regression skills to create a prediction model.\n",
    "\n",
    "## Instructions\n",
    "\n",
    "Follow the following steps to create a linear regression model to predict sales based on the historical data provided.\n",
    "\n",
    "1. Load and visualize the sales data.\n",
    "\n",
    "2. Prepare the data to fit the linear regression model.\n",
    "\n",
    "3. Build the linear regression model using the `LinearRegression` module of Scikit-learn.\n",
    "\n",
    "4. Plot the best fit line for the sales prediction model.\n",
    "\n",
    "5. Use the linear regression model to predict the sales with 100 ads manually.\n",
    "\n",
    "6. Make predictions using the `predict` function of the `LinearRegression` module.\n",
    "\n",
    "7. Use the original data (the `X` and `y` sets) to assess the linear regression model using the score, r2, mse, rmse, and standard deviation metrics."
   ]
  },
  {
   "cell_type": "code",
   "execution_count": 5,
   "metadata": {},
   "outputs": [],
   "source": [
    "# Import required libraries\n",
    "import numpy as np\n",
    "import pandas as pd\n",
    "import hvplot.pandas as plot\n",
    "from pathlib import Path\n",
    "from sklearn.linear_model import LinearRegression"
   ]
  },
  {
   "cell_type": "markdown",
   "metadata": {},
   "source": [
    "## Load and Visualize the Sales Data"
   ]
  },
  {
   "cell_type": "code",
   "execution_count": 6,
   "metadata": {},
   "outputs": [
    {
     "data": {
      "text/html": [
       "<div>\n",
       "<style scoped>\n",
       "    .dataframe tbody tr th:only-of-type {\n",
       "        vertical-align: middle;\n",
       "    }\n",
       "\n",
       "    .dataframe tbody tr th {\n",
       "        vertical-align: top;\n",
       "    }\n",
       "\n",
       "    .dataframe thead th {\n",
       "        text-align: right;\n",
       "    }\n",
       "</style>\n",
       "<table border=\"1\" class=\"dataframe\">\n",
       "  <thead>\n",
       "    <tr style=\"text-align: right;\">\n",
       "      <th></th>\n",
       "      <th>ads</th>\n",
       "      <th>sales</th>\n",
       "    </tr>\n",
       "  </thead>\n",
       "  <tbody>\n",
       "    <tr>\n",
       "      <th>0</th>\n",
       "      <td>21</td>\n",
       "      <td>8350</td>\n",
       "    </tr>\n",
       "    <tr>\n",
       "      <th>1</th>\n",
       "      <td>180</td>\n",
       "      <td>22820</td>\n",
       "    </tr>\n",
       "    <tr>\n",
       "      <th>2</th>\n",
       "      <td>50</td>\n",
       "      <td>12950</td>\n",
       "    </tr>\n",
       "    <tr>\n",
       "      <th>3</th>\n",
       "      <td>195</td>\n",
       "      <td>21105</td>\n",
       "    </tr>\n",
       "    <tr>\n",
       "      <th>4</th>\n",
       "      <td>96</td>\n",
       "      <td>15008</td>\n",
       "    </tr>\n",
       "    <tr>\n",
       "      <th>5</th>\n",
       "      <td>44</td>\n",
       "      <td>12390</td>\n",
       "    </tr>\n",
       "    <tr>\n",
       "      <th>6</th>\n",
       "      <td>171</td>\n",
       "      <td>20695</td>\n",
       "    </tr>\n",
       "    <tr>\n",
       "      <th>7</th>\n",
       "      <td>135</td>\n",
       "      <td>21121</td>\n",
       "    </tr>\n",
       "    <tr>\n",
       "      <th>8</th>\n",
       "      <td>120</td>\n",
       "      <td>17000</td>\n",
       "    </tr>\n",
       "    <tr>\n",
       "      <th>9</th>\n",
       "      <td>75</td>\n",
       "      <td>13150</td>\n",
       "    </tr>\n",
       "    <tr>\n",
       "      <th>10</th>\n",
       "      <td>106</td>\n",
       "      <td>15695</td>\n",
       "    </tr>\n",
       "    <tr>\n",
       "      <th>11</th>\n",
       "      <td>198</td>\n",
       "      <td>26050</td>\n",
       "    </tr>\n",
       "  </tbody>\n",
       "</table>\n",
       "</div>"
      ],
      "text/plain": [
       "    ads  sales\n",
       "0    21   8350\n",
       "1   180  22820\n",
       "2    50  12950\n",
       "3   195  21105\n",
       "4    96  15008\n",
       "5    44  12390\n",
       "6   171  20695\n",
       "7   135  21121\n",
       "8   120  17000\n",
       "9    75  13150\n",
       "10  106  15695\n",
       "11  198  26050"
      ]
     },
     "execution_count": 6,
     "metadata": {},
     "output_type": "execute_result"
    }
   ],
   "source": [
    "# Read the sales data\n",
    "file_path = Path(\"..\\Resources\\sales.csv\")\n",
    "df_sales = pd.read_csv(file_path)\n",
    "\n",
    "# Display sample data\n",
    "df_sales"
   ]
  },
  {
   "cell_type": "code",
   "execution_count": 9,
   "metadata": {},
   "outputs": [
    {
     "data": {
      "text/plain": [
       "<Axes: xlabel='ads', ylabel='sales'>"
      ]
     },
     "execution_count": 9,
     "metadata": {},
     "output_type": "execute_result"
    },
    {
     "data": {
      "image/png": "[encoded data removed]",
      "text/plain": [
       "<Figure size 640x480 with 1 Axes>"
      ]
     },
     "metadata": {},
     "output_type": "display_data"
    }
   ],
   "source": [
    "# Create a scatter plot with the sales information\n",
    "df_sales.plot.scatter(\n",
    "    x = \"ads\",\n",
    "    y = \"sales\")"
   ]
  },
  {
   "cell_type": "markdown",
   "metadata": {},
   "source": [
    "## Prepare the Data to Fit the Linear Regression Model"
   ]
  },
  {
   "cell_type": "code",
   "execution_count": 4,
   "metadata": {},
   "outputs": [
    {
     "data": {
      "text/plain": [
       "array([[ 21],\n",
       "       [180],\n",
       "       [ 50],\n",
       "       [195],\n",
       "       [ 96]])"
      ]
     },
     "execution_count": 4,
     "metadata": {},
     "output_type": "execute_result"
    }
   ],
   "source": [
    "# Create the X set by using the `reshape` function to format the ads data as a single column array.\n",
    "X = # YOUR CODE HERE\n",
    "\n",
    "# Display sample data\n",
    "X[:5]"
   ]
  },
  {
   "cell_type": "code",
   "execution_count": 5,
   "metadata": {},
   "outputs": [],
   "source": [
    "# Create an array for the dependent variable y with the sales data\n",
    "y = # YOUR CODE HERE"
   ]
  },
  {
   "cell_type": "markdown",
   "metadata": {},
   "source": [
    "## Build the Linear Regression Model"
   ]
  },
  {
   "cell_type": "code",
   "execution_count": 6,
   "metadata": {},
   "outputs": [],
   "source": [
    "# Create a model with scikit-learn\n",
    "model = # YOUR CODE HERE"
   ]
  },
  {
   "cell_type": "code",
   "execution_count": 7,
   "metadata": {},
   "outputs": [
    {
     "data": {
      "text/plain": [
       "LinearRegression()"
      ]
     },
     "execution_count": 7,
     "metadata": {},
     "output_type": "execute_result"
    }
   ],
   "source": [
    "# Fit the data into the model\n",
    "# YOUR CODE HERE"
   ]
  },
  {
   "cell_type": "code",
   "execution_count": 8,
   "metadata": {},
   "outputs": [
    {
     "name": "stdout",
     "output_type": "stream",
     "text": [
      "Model's slope: [81.34898394]\n"
     ]
    }
   ],
   "source": [
    "# Display the slope\n",
    "print(f\"Model's slope: {model.coef_}\")"
   ]
  },
  {
   "cell_type": "code",
   "execution_count": 9,
   "metadata": {},
   "outputs": [
    {
     "name": "stdout",
     "output_type": "stream",
     "text": [
      "Model's y-intercept: 7764.796945240416\n"
     ]
    }
   ],
   "source": [
    "# Display the y-intercept\n",
    "print(f\"Model's y-intercept: {model.intercept_}\")"
   ]
  },
  {
   "cell_type": "code",
   "execution_count": 10,
   "metadata": {},
   "outputs": [
    {
     "name": "stdout",
     "output_type": "stream",
     "text": [
      "Model's formula: y = 7764.796945240416 + 81.34898393753775X\n"
     ]
    }
   ],
   "source": [
    "# Display the model's best fit line formula\n",
    "print(f\"Model's formula: y = {model.intercept_} + {model.coef_[0]}X\")"
   ]
  },
  {
   "cell_type": "markdown",
   "metadata": {},
   "source": [
    "## Plot the Best Fit Line for the Sales Prediction Model"
   ]
  },
  {
   "cell_type": "code",
   "execution_count": 11,
   "metadata": {},
   "outputs": [],
   "source": [
    "# Make predictions using the X set\n",
    "predicted_y_values = # YOUR CODE HERE"
   ]
  },
  {
   "cell_type": "code",
   "execution_count": 12,
   "metadata": {},
   "outputs": [
    {
     "data": {
      "text/html": [
       "<div>\n",
       "<style scoped>\n",
       "    .dataframe tbody tr th:only-of-type {\n",
       "        vertical-align: middle;\n",
       "    }\n",
       "\n",
       "    .dataframe tbody tr th {\n",
       "        vertical-align: top;\n",
       "    }\n",
       "\n",
       "    .dataframe thead th {\n",
       "        text-align: right;\n",
       "    }\n",
       "</style>\n",
       "<table border=\"1\" class=\"dataframe\">\n",
       "  <thead>\n",
       "    <tr style=\"text-align: right;\">\n",
       "      <th></th>\n",
       "      <th>ads</th>\n",
       "      <th>sales</th>\n",
       "      <th>sales_predicted</th>\n",
       "    </tr>\n",
       "  </thead>\n",
       "  <tbody>\n",
       "    <tr>\n",
       "      <th>0</th>\n",
       "      <td>21</td>\n",
       "      <td>8350</td>\n",
       "      <td>9473.125608</td>\n",
       "    </tr>\n",
       "    <tr>\n",
       "      <th>1</th>\n",
       "      <td>180</td>\n",
       "      <td>22820</td>\n",
       "      <td>22407.614054</td>\n",
       "    </tr>\n",
       "    <tr>\n",
       "      <th>2</th>\n",
       "      <td>50</td>\n",
       "      <td>12950</td>\n",
       "      <td>11832.246142</td>\n",
       "    </tr>\n",
       "    <tr>\n",
       "      <th>3</th>\n",
       "      <td>195</td>\n",
       "      <td>21105</td>\n",
       "      <td>23627.848813</td>\n",
       "    </tr>\n",
       "    <tr>\n",
       "      <th>4</th>\n",
       "      <td>96</td>\n",
       "      <td>15008</td>\n",
       "      <td>15574.299403</td>\n",
       "    </tr>\n",
       "  </tbody>\n",
       "</table>\n",
       "</div>"
      ],
      "text/plain": [
       "   ads  sales  sales_predicted\n",
       "0   21   8350      9473.125608\n",
       "1  180  22820     22407.614054\n",
       "2   50  12950     11832.246142\n",
       "3  195  21105     23627.848813\n",
       "4   96  15008     15574.299403"
      ]
     },
     "execution_count": 12,
     "metadata": {},
     "output_type": "execute_result"
    }
   ],
   "source": [
    "# Create a copy of the original data\n",
    "df_sales_predicted = # YOUR CODE HERE\n",
    "\n",
    "# Add a column with the predicted sales values\n",
    "# YOUR CODE HERE\n",
    "\n",
    "# Display sample data\n",
    "# YOUR CODE HERE"
   ]
  },
  {
   "cell_type": "code",
   "execution_count": 13,
   "metadata": {},
   "outputs": [
    {
     "data": {},
     "metadata": {},
     "output_type": "display_data"
    },
    {
     "data": {
      "application/vnd.holoviews_exec.v0+json": "",
      "text/html": [
       "<div id='1106'>\n",
       "\n",
       "\n",
       "\n",
       "\n",
       "\n",
       "  <div class=\"bk-root\" id=\"2f79b90d-d5ae-4402-9278-28f3b9c24e8f\" data-root-id=\"1106\"></div>\n",
       "</div>\n",
       "<script type=\"application/javascript\">(function(root) {\n",
       "  function embed_document(root) {\n",
       "  var docs_json = {\"7417b950-31ef-4a61-a39f-43453ad82597\":{\"roots\":{\"references\":[{\"attributes\":{},\"id\":\"1118\",\"type\":\"LinearScale\"},{\"attributes\":{\"axis_label\":\"ads\",\"bounds\":\"auto\",\"formatter\":{\"id\":\"1150\"},\"major_label_orientation\":\"horizontal\",\"ticker\":{\"id\":\"1121\"}},\"id\":\"1120\",\"type\":\"LinearAxis\"},{\"attributes\":{\"end\":25311.77278056731,\"reset_end\":25311.77278056731,\"reset_start\":8033.24859223429,\"start\":8033.24859223429,\"tags\":[[[\"sales_predicted\",\"sales_predicted\",null]]]},\"id\":\"1109\",\"type\":\"Range1d\"},{\"attributes\":{},\"id\":\"1121\",\"type\":\"BasicTicker\"},{\"attributes\":{\"align\":null,\"below\":[{\"id\":\"1120\"}],\"center\":[{\"id\":\"1123\"},{\"id\":\"1127\"}],\"left\":[{\"id\":\"1124\"}],\"margin\":null,\"min_border_bottom\":10,\"min_border_left\":10,\"min_border_right\":10,\"min_border_top\":10,\"plot_height\":300,\"plot_width\":700,\"renderers\":[{\"id\":\"1147\"}],\"sizing_mode\":\"fixed\",\"title\":{\"id\":\"1112\"},\"toolbar\":{\"id\":\"1134\"},\"x_range\":{\"id\":\"1108\"},\"x_scale\":{\"id\":\"1116\"},\"y_range\":{\"id\":\"1109\"},\"y_scale\":{\"id\":\"1118\"}},\"id\":\"1111\",\"subtype\":\"Figure\",\"type\":\"Plot\"},{\"attributes\":{\"axis\":{\"id\":\"1120\"},\"grid_line_color\":null,\"ticker\":null},\"id\":\"1123\",\"type\":\"Grid\"},{\"attributes\":{\"axis\":{\"id\":\"1124\"},\"dimension\":1,\"grid_line_color\":null,\"ticker\":null},\"id\":\"1127\",\"type\":\"Grid\"},{\"attributes\":{},\"id\":\"1125\",\"type\":\"BasicTicker\"},{\"attributes\":{\"bottom_units\":\"screen\",\"fill_alpha\":0.5,\"fill_color\":\"lightgrey\",\"left_units\":\"screen\",\"level\":\"overlay\",\"line_alpha\":1.0,\"line_color\":\"black\",\"line_dash\":[4,4],\"line_width\":2,\"right_units\":\"screen\",\"top_units\":\"screen\"},\"id\":\"1133\",\"type\":\"BoxAnnotation\"},{\"attributes\":{\"line_alpha\":0.2,\"line_color\":\"red\",\"line_width\":2,\"x\":{\"field\":\"ads\"},\"y\":{\"field\":\"sales_predicted\"}},\"id\":\"1146\",\"type\":\"Line\"},{\"attributes\":{\"axis_label\":\"sales_predicted\",\"bounds\":\"auto\",\"formatter\":{\"id\":\"1152\"},\"major_label_orientation\":\"horizontal\",\"ticker\":{\"id\":\"1125\"}},\"id\":\"1124\",\"type\":\"LinearAxis\"},{\"attributes\":{},\"id\":\"1152\",\"type\":\"BasicTickFormatter\"},{\"attributes\":{\"text\":\"\",\"text_color\":{\"value\":\"black\"},\"text_font_size\":{\"value\":\"12pt\"}},\"id\":\"1112\",\"type\":\"Title\"},{\"attributes\":{\"margin\":[5,5,5,5],\"name\":\"HSpacer01704\",\"sizing_mode\":\"stretch_width\"},\"id\":\"1169\",\"type\":\"Spacer\"},{\"attributes\":{\"active_drag\":\"auto\",\"active_inspect\":\"auto\",\"active_multi\":null,\"active_scroll\":\"auto\",\"active_tap\":\"auto\",\"tools\":[{\"id\":\"1110\"},{\"id\":\"1128\"},{\"id\":\"1129\"},{\"id\":\"1130\"},{\"id\":\"1131\"},{\"id\":\"1132\"}]},\"id\":\"1134\",\"type\":\"Toolbar\"},{\"attributes\":{\"source\":{\"id\":\"1141\"}},\"id\":\"1148\",\"type\":\"CDSView\"},{\"attributes\":{},\"id\":\"1128\",\"type\":\"SaveTool\"},{\"attributes\":{},\"id\":\"1129\",\"type\":\"PanTool\"},{\"attributes\":{},\"id\":\"1150\",\"type\":\"BasicTickFormatter\"},{\"attributes\":{},\"id\":\"1130\",\"type\":\"WheelZoomTool\"},{\"attributes\":{},\"id\":\"1142\",\"type\":\"Selection\"},{\"attributes\":{\"data_source\":{\"id\":\"1141\"},\"glyph\":{\"id\":\"1144\"},\"hover_glyph\":null,\"muted_glyph\":{\"id\":\"1146\"},\"nonselection_glyph\":{\"id\":\"1145\"},\"selection_glyph\":null,\"view\":{\"id\":\"1148\"}},\"id\":\"1147\",\"type\":\"GlyphRenderer\"},{\"attributes\":{\"overlay\":{\"id\":\"1133\"}},\"id\":\"1131\",\"type\":\"BoxZoomTool\"},{\"attributes\":{\"line_alpha\":0.1,\"line_color\":\"red\",\"line_width\":2,\"x\":{\"field\":\"ads\"},\"y\":{\"field\":\"sales_predicted\"}},\"id\":\"1145\",\"type\":\"Line\"},{\"attributes\":{\"line_color\":\"red\",\"line_width\":2,\"x\":{\"field\":\"ads\"},\"y\":{\"field\":\"sales_predicted\"}},\"id\":\"1144\",\"type\":\"Line\"},{\"attributes\":{\"children\":[{\"id\":\"1107\"},{\"id\":\"1111\"},{\"id\":\"1169\"}],\"margin\":[0,0,0,0],\"name\":\"Row01699\",\"tags\":[\"embedded\"]},\"id\":\"1106\",\"type\":\"Row\"},{\"attributes\":{},\"id\":\"1116\",\"type\":\"LinearScale\"},{\"attributes\":{},\"id\":\"1132\",\"type\":\"ResetTool\"},{\"attributes\":{},\"id\":\"1159\",\"type\":\"UnionRenderers\"},{\"attributes\":{\"end\":198.0,\"reset_end\":198.0,\"reset_start\":21.0,\"start\":21.0,\"tags\":[[[\"ads\",\"ads\",null]]]},\"id\":\"1108\",\"type\":\"Range1d\"},{\"attributes\":{\"margin\":[5,5,5,5],\"name\":\"HSpacer01703\",\"sizing_mode\":\"stretch_width\"},\"id\":\"1107\",\"type\":\"Spacer\"},{\"attributes\":{\"data\":{\"ads\":[21,180,50,195,96,44,171,135,120,75,106,198],\"sales_predicted\":{\"__ndarray__\":\"9qzrE5CAwkAAI6lM5+HVQP67lYEfHMdAlAP0UvYS10C8cthSJmvOQFUIjXwTKMZAQZziSN4q1UBEgcg5uk7SQLGgfTOrHdFA6/05QfwUy0DAefOC8gDQQH4wNlT5T9dA\",\"dtype\":\"float64\",\"order\":\"little\",\"shape\":[12]}},\"selected\":{\"id\":\"1142\"},\"selection_policy\":{\"id\":\"1159\"}},\"id\":\"1141\",\"type\":\"ColumnDataSource\"},{\"attributes\":{\"callback\":null,\"renderers\":[{\"id\":\"1147\"}],\"tags\":[\"hv_created\"],\"tooltips\":[[\"ads\",\"@{ads}\"],[\"sales_predicted\",\"@{sales_predicted}\"]]},\"id\":\"1110\",\"type\":\"HoverTool\"}],\"root_ids\":[\"1106\"]},\"title\":\"Bokeh Application\",\"version\":\"2.1.1\"}};\n",
       "  var render_items = [{\"docid\":\"7417b950-31ef-4a61-a39f-43453ad82597\",\"root_ids\":[\"1106\"],\"roots\":{\"1106\":\"2f79b90d-d5ae-4402-9278-28f3b9c24e8f\"}}];\n",
       "  root.Bokeh.embed.embed_items_notebook(docs_json, render_items);\n",
       "  }\n",
       "if (root.Bokeh !== undefined) {\n",
       "    embed_document(root);\n",
       "  } else {\n",
       "    var attempts = 0;\n",
       "    var timer = setInterval(function(root) {\n",
       "      if (root.Bokeh !== undefined) {\n",
       "        clearInterval(timer);\n",
       "        embed_document(root);\n",
       "      } else if (document.readyState == \"complete\") {\n",
       "        attempts++;\n",
       "        if (attempts > 100) {\n",
       "          clearInterval(timer);\n",
       "          console.log(\"Bokeh: ERROR: Unable to run BokehJS code because BokehJS library is missing\");\n",
       "        }\n",
       "      }\n",
       "    }, 10, root)\n",
       "  }\n",
       "})(window);</script>"
      ],
      "text/plain": [
       ":Curve   [ads]   (sales_predicted)"
      ]
     },
     "execution_count": 13,
     "metadata": {
      "application/vnd.holoviews_exec.v0+json": {
       "id": "1106"
      }
     },
     "output_type": "execute_result"
    }
   ],
   "source": [
    "# Create a line plot of the predicted salary values\n",
    "# YOUR CODE HERE"
   ]
  },
  {
   "cell_type": "code",
   "execution_count": 14,
   "metadata": {},
   "outputs": [
    {
     "data": {},
     "metadata": {},
     "output_type": "display_data"
    },
    {
     "data": {
      "application/vnd.holoviews_exec.v0+json": "",
      "text/html": [
       "<div id='1211'>\n",
       "\n",
       "\n",
       "\n",
       "\n",
       "\n",
       "  <div class=\"bk-root\" id=\"09f80a61-4e9f-458b-ab23-7ef92dce434e\" data-root-id=\"1211\"></div>\n",
       "</div>\n",
       "<script type=\"application/javascript\">(function(root) {\n",
       "  function embed_document(root) {\n",
       "  var docs_json = {\"f2da14a0-dcaf-4176-aa57-94baed8e1a30\":{\"roots\":{\"references\":[{\"attributes\":{\"callback\":null,\"renderers\":[{\"id\":\"1258\"}],\"tags\":[\"hv_created\"],\"tooltips\":[[\"ads\",\"@{ads}\"],[\"sales\",\"@{sales}\"]]},\"id\":\"1215\",\"type\":\"HoverTool\"},{\"attributes\":{\"line_alpha\":0.2,\"line_color\":\"red\",\"line_width\":2,\"x\":{\"field\":\"ads\"},\"y\":{\"field\":\"sales_predicted\"}},\"id\":\"1265\",\"type\":\"Line\"},{\"attributes\":{},\"id\":\"1249\",\"type\":\"BasicTickFormatter\"},{\"attributes\":{\"align\":null,\"below\":[{\"id\":\"1226\"}],\"center\":[{\"id\":\"1229\"},{\"id\":\"1233\"}],\"left\":[{\"id\":\"1230\"}],\"margin\":null,\"min_border_bottom\":10,\"min_border_left\":10,\"min_border_right\":10,\"min_border_top\":10,\"plot_height\":300,\"plot_width\":700,\"renderers\":[{\"id\":\"1258\"},{\"id\":\"1266\"}],\"sizing_mode\":\"fixed\",\"title\":{\"id\":\"1218\"},\"toolbar\":{\"id\":\"1240\"},\"x_range\":{\"id\":\"1213\"},\"x_scale\":{\"id\":\"1222\"},\"y_range\":{\"id\":\"1214\"},\"y_scale\":{\"id\":\"1224\"}},\"id\":\"1217\",\"subtype\":\"Figure\",\"type\":\"Plot\"},{\"attributes\":{\"axis\":{\"id\":\"1230\"},\"dimension\":1,\"grid_line_color\":null,\"ticker\":null},\"id\":\"1233\",\"type\":\"Grid\"},{\"attributes\":{\"overlay\":{\"id\":\"1239\"}},\"id\":\"1237\",\"type\":\"BoxZoomTool\"},{\"attributes\":{},\"id\":\"1235\",\"type\":\"PanTool\"},{\"attributes\":{},\"id\":\"1224\",\"type\":\"LinearScale\"},{\"attributes\":{},\"id\":\"1261\",\"type\":\"Selection\"},{\"attributes\":{\"margin\":[5,5,5,5],\"name\":\"HSpacer01810\",\"sizing_mode\":\"stretch_width\"},\"id\":\"1212\",\"type\":\"Spacer\"},{\"attributes\":{\"fill_alpha\":{\"value\":0.2},\"fill_color\":{\"value\":\"#1f77b3\"},\"line_alpha\":{\"value\":0.2},\"line_color\":{\"value\":\"#1f77b3\"},\"size\":{\"units\":\"screen\",\"value\":5.477225575051661},\"x\":{\"field\":\"ads\"},\"y\":{\"field\":\"sales\"}},\"id\":\"1257\",\"type\":\"Scatter\"},{\"attributes\":{},\"id\":\"1222\",\"type\":\"LinearScale\"},{\"attributes\":{\"fill_color\":{\"value\":\"#1f77b3\"},\"line_color\":{\"value\":\"#1f77b3\"},\"size\":{\"units\":\"screen\",\"value\":5.477225575051661},\"x\":{\"field\":\"ads\"},\"y\":{\"field\":\"sales\"}},\"id\":\"1255\",\"type\":\"Scatter\"},{\"attributes\":{\"data_source\":{\"id\":\"1252\"},\"glyph\":{\"id\":\"1255\"},\"hover_glyph\":null,\"muted_glyph\":{\"id\":\"1257\"},\"nonselection_glyph\":{\"id\":\"1256\"},\"selection_glyph\":null,\"view\":{\"id\":\"1259\"}},\"id\":\"1258\",\"type\":\"GlyphRenderer\"},{\"attributes\":{\"axis_label\":\"ads\",\"bounds\":\"auto\",\"formatter\":{\"id\":\"1249\"},\"major_label_orientation\":\"horizontal\",\"ticker\":{\"id\":\"1227\"}},\"id\":\"1226\",\"type\":\"LinearAxis\"},{\"attributes\":{\"source\":{\"id\":\"1260\"}},\"id\":\"1267\",\"type\":\"CDSView\"},{\"attributes\":{},\"id\":\"1274\",\"type\":\"UnionRenderers\"},{\"attributes\":{\"data\":{\"ads\":[21,180,50,195,96,44,171,135,120,75,106,198],\"sales\":[8350,22820,12950,21105,15008,12390,20695,21121,17000,13150,15695,26050]},\"selected\":{\"id\":\"1253\"},\"selection_policy\":{\"id\":\"1274\"}},\"id\":\"1252\",\"type\":\"ColumnDataSource\"},{\"attributes\":{\"active_drag\":\"auto\",\"active_inspect\":\"auto\",\"active_multi\":null,\"active_scroll\":\"auto\",\"active_tap\":\"auto\",\"tools\":[{\"id\":\"1215\"},{\"id\":\"1216\"},{\"id\":\"1234\"},{\"id\":\"1235\"},{\"id\":\"1236\"},{\"id\":\"1237\"},{\"id\":\"1238\"}]},\"id\":\"1240\",\"type\":\"Toolbar\"},{\"attributes\":{\"data_source\":{\"id\":\"1260\"},\"glyph\":{\"id\":\"1263\"},\"hover_glyph\":null,\"muted_glyph\":{\"id\":\"1265\"},\"nonselection_glyph\":{\"id\":\"1264\"},\"selection_glyph\":null,\"view\":{\"id\":\"1267\"}},\"id\":\"1266\",\"type\":\"GlyphRenderer\"},{\"attributes\":{\"line_alpha\":0.1,\"line_color\":\"red\",\"line_width\":2,\"x\":{\"field\":\"ads\"},\"y\":{\"field\":\"sales_predicted\"}},\"id\":\"1264\",\"type\":\"Line\"},{\"attributes\":{},\"id\":\"1231\",\"type\":\"BasicTicker\"},{\"attributes\":{\"children\":[{\"id\":\"1212\"},{\"id\":\"1217\"},{\"id\":\"1358\"}],\"margin\":[0,0,0,0],\"name\":\"Row01806\",\"tags\":[\"embedded\"]},\"id\":\"1211\",\"type\":\"Row\"},{\"attributes\":{},\"id\":\"1253\",\"type\":\"Selection\"},{\"attributes\":{},\"id\":\"1276\",\"type\":\"UnionRenderers\"},{\"attributes\":{\"source\":{\"id\":\"1252\"}},\"id\":\"1259\",\"type\":\"CDSView\"},{\"attributes\":{},\"id\":\"1227\",\"type\":\"BasicTicker\"},{\"attributes\":{\"callback\":null,\"renderers\":[{\"id\":\"1266\"}],\"tags\":[\"hv_created\"],\"tooltips\":[[\"ads\",\"@{ads}\"],[\"sales_predicted\",\"@{sales_predicted}\"]]},\"id\":\"1216\",\"type\":\"HoverTool\"},{\"attributes\":{\"axis\":{\"id\":\"1226\"},\"grid_line_color\":null,\"ticker\":null},\"id\":\"1229\",\"type\":\"Grid\"},{\"attributes\":{\"line_color\":\"red\",\"line_width\":2,\"x\":{\"field\":\"ads\"},\"y\":{\"field\":\"sales_predicted\"}},\"id\":\"1263\",\"type\":\"Line\"},{\"attributes\":{},\"id\":\"1251\",\"type\":\"BasicTickFormatter\"},{\"attributes\":{\"text\":\"Sales per Number of Ads\",\"text_color\":{\"value\":\"black\"},\"text_font_size\":{\"value\":\"12pt\"}},\"id\":\"1218\",\"type\":\"Title\"},{\"attributes\":{\"data\":{\"ads\":[21,180,50,195,96,44,171,135,120,75,106,198],\"sales_predicted\":{\"__ndarray__\":\"9qzrE5CAwkAAI6lM5+HVQP67lYEfHMdAlAP0UvYS10C8cthSJmvOQFUIjXwTKMZAQZziSN4q1UBEgcg5uk7SQLGgfTOrHdFA6/05QfwUy0DAefOC8gDQQH4wNlT5T9dA\",\"dtype\":\"float64\",\"order\":\"little\",\"shape\":[12]}},\"selected\":{\"id\":\"1261\"},\"selection_policy\":{\"id\":\"1276\"}},\"id\":\"1260\",\"type\":\"ColumnDataSource\"},{\"attributes\":{\"fill_alpha\":{\"value\":0.1},\"fill_color\":{\"value\":\"#1f77b3\"},\"line_alpha\":{\"value\":0.1},\"line_color\":{\"value\":\"#1f77b3\"},\"size\":{\"units\":\"screen\",\"value\":5.477225575051661},\"x\":{\"field\":\"ads\"},\"y\":{\"field\":\"sales\"}},\"id\":\"1256\",\"type\":\"Scatter\"},{\"attributes\":{},\"id\":\"1238\",\"type\":\"ResetTool\"},{\"attributes\":{\"margin\":[5,5,5,5],\"name\":\"HSpacer01811\",\"sizing_mode\":\"stretch_width\"},\"id\":\"1358\",\"type\":\"Spacer\"},{\"attributes\":{\"bottom_units\":\"screen\",\"fill_alpha\":0.5,\"fill_color\":\"lightgrey\",\"left_units\":\"screen\",\"level\":\"overlay\",\"line_alpha\":1.0,\"line_color\":\"black\",\"line_dash\":[4,4],\"line_width\":2,\"right_units\":\"screen\",\"top_units\":\"screen\"},\"id\":\"1239\",\"type\":\"BoxAnnotation\"},{\"attributes\":{\"end\":205.5857142857143,\"reset_end\":205.5857142857143,\"reset_start\":13.414285714285715,\"start\":13.414285714285715,\"tags\":[[[\"ads\",\"ads\",null]]]},\"id\":\"1213\",\"type\":\"Range1d\"},{\"attributes\":{},\"id\":\"1236\",\"type\":\"WheelZoomTool\"},{\"attributes\":{\"end\":27820.0,\"reset_end\":27820.0,\"reset_start\":6580.0,\"start\":6580.0,\"tags\":[[[\"sales\",\"sales\",null]]]},\"id\":\"1214\",\"type\":\"Range1d\"},{\"attributes\":{},\"id\":\"1234\",\"type\":\"SaveTool\"},{\"attributes\":{\"axis_label\":\"sales\",\"bounds\":\"auto\",\"formatter\":{\"id\":\"1251\"},\"major_label_orientation\":\"horizontal\",\"ticker\":{\"id\":\"1231\"}},\"id\":\"1230\",\"type\":\"LinearAxis\"}],\"root_ids\":[\"1211\"]},\"title\":\"Bokeh Application\",\"version\":\"2.1.1\"}};\n",
       "  var render_items = [{\"docid\":\"f2da14a0-dcaf-4176-aa57-94baed8e1a30\",\"root_ids\":[\"1211\"],\"roots\":{\"1211\":\"09f80a61-4e9f-458b-ab23-7ef92dce434e\"}}];\n",
       "  root.Bokeh.embed.embed_items_notebook(docs_json, render_items);\n",
       "  }\n",
       "if (root.Bokeh !== undefined) {\n",
       "    embed_document(root);\n",
       "  } else {\n",
       "    var attempts = 0;\n",
       "    var timer = setInterval(function(root) {\n",
       "      if (root.Bokeh !== undefined) {\n",
       "        clearInterval(timer);\n",
       "        embed_document(root);\n",
       "      } else if (document.readyState == \"complete\") {\n",
       "        attempts++;\n",
       "        if (attempts > 100) {\n",
       "          clearInterval(timer);\n",
       "          console.log(\"Bokeh: ERROR: Unable to run BokehJS code because BokehJS library is missing\");\n",
       "        }\n",
       "      }\n",
       "    }, 10, root)\n",
       "  }\n",
       "})(window);</script>"
      ],
      "text/plain": [
       ":Overlay\n",
       "   .Scatter.I :Scatter   [ads]   (sales)\n",
       "   .Curve.I   :Curve   [ads]   (sales_predicted)"
      ]
     },
     "execution_count": 14,
     "metadata": {
      "application/vnd.holoviews_exec.v0+json": {
       "id": "1211"
      }
     },
     "output_type": "execute_result"
    }
   ],
   "source": [
    "# Superpose the original data and the best fit line\n",
    "# YOUR CODE HERE"
   ]
  },
  {
   "cell_type": "markdown",
   "metadata": {},
   "source": [
    "## Make Manual Predictions"
   ]
  },
  {
   "cell_type": "code",
   "execution_count": 15,
   "metadata": {},
   "outputs": [
    {
     "name": "stdout",
     "output_type": "stream",
     "text": [
      "Model's formula: y = 7764.796945240416 + 81.34898393753775 * 100\n",
      "Predicted sales with 100 ads: $15899.70\n"
     ]
    }
   ],
   "source": [
    "# Display the formula to predict the sales with 100 ads\n",
    "print(f\"Model's formula: y = {model.intercept_} + {model.coef_[0]} * 100\")\n",
    "\n",
    "# Predict the sales with 100 ads\n",
    "y_100 = # YOUR CODE HERE\n",
    "\n",
    "# Display the prediction\n",
    "print(f\"Predicted sales with 100 ads: ${y_100:.2f}\")"
   ]
  },
  {
   "cell_type": "markdown",
   "metadata": {},
   "source": [
    "## Make Predictions Using the `predict` Function"
   ]
  },
  {
   "cell_type": "code",
   "execution_count": 16,
   "metadata": {},
   "outputs": [
    {
     "data": {
      "text/plain": [
       "array([[100],\n",
       "       [150],\n",
       "       [200],\n",
       "       [250],\n",
       "       [300]])"
      ]
     },
     "execution_count": 16,
     "metadata": {},
     "output_type": "execute_result"
    }
   ],
   "source": [
    "# Create an array to predict sales for 100, 150, 200, 250, and 300 ads\n",
    "X_ads = # YOUR CODE HERE\n",
    "\n",
    "# Format the array as a one-column array\n",
    "X_ads = # YOUR CODE HERE\n",
    "\n",
    "# Display sample data\n",
    "X_ads"
   ]
  },
  {
   "cell_type": "code",
   "execution_count": 17,
   "metadata": {},
   "outputs": [],
   "source": [
    "# Predict sales for 100, 150, 200, 250, and 300 ads\n",
    "predicted_sales = # YOUR CODE HERE"
   ]
  },
  {
   "cell_type": "code",
   "execution_count": 18,
   "metadata": {},
   "outputs": [
    {
     "data": {
      "text/html": [
       "<div>\n",
       "<style scoped>\n",
       "    .dataframe tbody tr th:only-of-type {\n",
       "        vertical-align: middle;\n",
       "    }\n",
       "\n",
       "    .dataframe tbody tr th {\n",
       "        vertical-align: top;\n",
       "    }\n",
       "\n",
       "    .dataframe thead th {\n",
       "        text-align: right;\n",
       "    }\n",
       "</style>\n",
       "<table border=\"1\" class=\"dataframe\">\n",
       "  <thead>\n",
       "    <tr style=\"text-align: right;\">\n",
       "      <th></th>\n",
       "      <th>ads</th>\n",
       "      <th>predicted_sales</th>\n",
       "    </tr>\n",
       "  </thead>\n",
       "  <tbody>\n",
       "    <tr>\n",
       "      <th>0</th>\n",
       "      <td>100</td>\n",
       "      <td>15899.695339</td>\n",
       "    </tr>\n",
       "    <tr>\n",
       "      <th>1</th>\n",
       "      <td>150</td>\n",
       "      <td>19967.144536</td>\n",
       "    </tr>\n",
       "    <tr>\n",
       "      <th>2</th>\n",
       "      <td>200</td>\n",
       "      <td>24034.593733</td>\n",
       "    </tr>\n",
       "    <tr>\n",
       "      <th>3</th>\n",
       "      <td>250</td>\n",
       "      <td>28102.042930</td>\n",
       "    </tr>\n",
       "    <tr>\n",
       "      <th>4</th>\n",
       "      <td>300</td>\n",
       "      <td>32169.492127</td>\n",
       "    </tr>\n",
       "  </tbody>\n",
       "</table>\n",
       "</div>"
      ],
      "text/plain": [
       "   ads  predicted_sales\n",
       "0  100     15899.695339\n",
       "1  150     19967.144536\n",
       "2  200     24034.593733\n",
       "3  250     28102.042930\n",
       "4  300     32169.492127"
      ]
     },
     "execution_count": 18,
     "metadata": {},
     "output_type": "execute_result"
    }
   ],
   "source": [
    "# Create a DataFrame for the predicted sales\n",
    "# YOUR CODE HERE\n",
    "\n",
    "# Display data\n",
    "# YOUR CODE HERE"
   ]
  },
  {
   "cell_type": "markdown",
   "metadata": {},
   "source": [
    "## Assess the Linear Regression Model"
   ]
  },
  {
   "cell_type": "code",
   "execution_count": 19,
   "metadata": {},
   "outputs": [],
   "source": [
    "# Import relevant metrics from scikit-learn: score, r2, mse, rmse, std\n",
    "from sklearn.metrics import mean_squared_error, r2_score"
   ]
  },
  {
   "cell_type": "code",
   "execution_count": 20,
   "metadata": {},
   "outputs": [
    {
     "name": "stdout",
     "output_type": "stream",
     "text": [
      "The score is 0.9219961974942595.\n",
      "The r2 is 0.9219961974942595.\n",
      "The mean squared error is 1922652.7853956919.\n",
      "The root mean squared error is 1386.5975571144252.\n",
      "The standard deviation is 4964.6946616416735.\n"
     ]
    }
   ],
   "source": [
    "# Compute the metrics for the linear regression model\n",
    "score = # YOUR CODE HERE\n",
    "r2 = # YOUR CODE HERE\n",
    "mse = # YOUR CODE HERE\n",
    "rmse = # YOUR CODE HERE\n",
    "std = # YOUR CODE HERE\n",
    "\n",
    "# Print releveant metrics.\n",
    "print(f\"The score is {score}.\")\n",
    "print(f\"The r2 is {r2}.\")\n",
    "print(f\"The mean squared error is {mse}.\")\n",
    "print(f\"The root mean squared error is {rmse}.\")\n",
    "print(f\"The standard deviation is {std}.\")"
   ]
  }
 ],
 "metadata": {
  "kernelspec": {
   "display_name": "Python 3 (ipykernel)",
   "language": "python",
   "name": "python3"
  },
  "language_info": {
   "codemirror_mode": {
    "name": "ipython",
    "version": 3
   },
   "file_extension": ".py",
   "mimetype": "text/x-python",
   "name": "python",
   "nbconvert_exporter": "python",
   "pygments_lexer": "ipython3",
   "version": "3.11.5"
  }
 },
 "nbformat": 4,
 "nbformat_minor": 4
}
