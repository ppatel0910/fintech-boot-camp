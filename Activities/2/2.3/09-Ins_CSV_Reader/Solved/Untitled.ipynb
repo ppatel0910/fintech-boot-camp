{
 "cells": [
  {
   "cell_type": "code",
   "execution_count": 6,
   "id": "ecdd82e4-db59-4309-99dc-c72a6dbbd5b1",
   "metadata": {},
   "outputs": [],
   "source": [
    "from pathlib import Path \n",
    "import csv"
   ]
  },
  {
   "cell_type": "code",
   "execution_count": 7,
   "id": "d82d8f3e-9de4-433c-a91f-44ef5d0155dd",
   "metadata": {},
   "outputs": [],
   "source": [
    "csvpath = Path('../Resources/accounting.csv')"
   ]
  },
  {
   "cell_type": "code",
   "execution_count": 8,
   "id": "42825c2d-ca7b-44b9-8a3f-bc2ecc243095",
   "metadata": {},
   "outputs": [],
   "source": [
    "salaries = []"
   ]
  },
  {
   "cell_type": "code",
   "execution_count": 9,
   "id": "1231cc15-c99a-4e03-b377-f05dcb90b149",
   "metadata": {},
   "outputs": [],
   "source": [
    "line_num = 0"
   ]
  },
  {
   "cell_type": "code",
   "execution_count": 14,
   "id": "4758c2ed-646b-4611-b0bd-6471e000a8b4",
   "metadata": {},
   "outputs": [
    {
     "name": "stdout",
     "output_type": "stream",
     "text": [
      "<class '_io.TextIOWrapper'>\n",
      "<class '_csv.reader'>\n"
     ]
    },
    {
     "ename": "TypeError",
     "evalue": "unhashable type: 'list'",
     "output_type": "error",
     "traceback": [
      "\u001b[0;31m---------------------------------------------------------------------------\u001b[0m",
      "\u001b[0;31mTypeError\u001b[0m                                 Traceback (most recent call last)",
      "\u001b[0;32m/var/folders/h0/ckkxq40s70vc524w2v0_myw00000gp/T/ipykernel_22469/3276647321.py\u001b[0m in \u001b[0;36m<module>\u001b[0;34m\u001b[0m\n\u001b[1;32m      9\u001b[0m     \u001b[0mheader\u001b[0m \u001b[0;34m=\u001b[0m \u001b[0mnext\u001b[0m\u001b[0;34m(\u001b[0m\u001b[0mcsvreader\u001b[0m\u001b[0;34m)\u001b[0m\u001b[0;34m\u001b[0m\u001b[0;34m\u001b[0m\u001b[0m\n\u001b[1;32m     10\u001b[0m     \u001b[0mline_num\u001b[0m \u001b[0;34m+=\u001b[0m \u001b[0;36m1\u001b[0m\u001b[0;34m\u001b[0m\u001b[0;34m\u001b[0m\u001b[0m\n\u001b[0;32m---> 11\u001b[0;31m     \u001b[0mprint\u001b[0m\u001b[0;34m(\u001b[0m\u001b[0;34m{\u001b[0m\u001b[0mheader\u001b[0m\u001b[0;34m}\u001b[0m\u001b[0;34m)\u001b[0m\u001b[0;34m\u001b[0m\u001b[0;34m\u001b[0m\u001b[0m\n\u001b[0m",
      "\u001b[0;31mTypeError\u001b[0m: unhashable type: 'list'"
     ]
    }
   ],
   "source": [
    "with open(csvpath, 'r') as csvfile: \n",
    "    \n",
    "    print(type(csvfile))\n",
    "    \n",
    "    csvreader = csv.reader(csvfile, delimiter = ',')\n",
    "    \n",
    "    print(type(csvreader))\n",
    "    \n",
    "    header = next(csvreader)\n",
    "    line_num += 1 \n",
    "    print({header})"
   ]
  },
  {
   "cell_type": "code",
   "execution_count": 18,
   "id": "0e72c4c3-b852-4a43-bfb7-169a0400fd60",
   "metadata": {},
   "outputs": [
    {
     "name": "stdout",
     "output_type": "stream",
     "text": [
      "<class '_io.TextIOWrapper'>\n",
      "<class '_csv.reader'>\n",
      "['First Name', 'Last Name', 'SSN', 'Salary'] <---- HEADER\n",
      "['Tina', 'Fleming', '619-16-7988', '75000']\n",
      "['Erica', 'Shah', '164-51-7615', '40000']\n",
      "['Paula', 'Ortiz', '051-83-3290', '120000']\n",
      "['James', 'Hendricks', '776-83-2884', '90000']\n",
      "['Lauren', 'King', '197-94-2398', '60000']\n",
      "['David', 'Cowan', '252-92-1832', '35000']\n",
      "['Andrew', 'Burton', '296-23-6842', '150000']\n",
      "['Julian', 'Baker', '337-40-7543', '75000']\n",
      "['Scott', 'Castro', '399-46-5595', '50000']\n",
      "['Billy', 'Rodriguez', '014-18-2503', '65000']\n",
      "['Darrell', 'Leblanc', '005-82-7918', '40000']\n",
      "['David', 'Hammond', '561-17-6312', '90000']\n"
     ]
    }
   ],
   "source": [
    "# -*- coding: utf-8 -*-\n",
    "\"\"\"Instructor Demo: CSV Reader.\n",
    "This script will use the Pathlib library to set the file path,\n",
    "use the csv library to read in the file, iterate over each\n",
    "row of the file to capture employee salaries, calculate min,\n",
    "max, avg metrics of employee salaries, and write the metrics\n",
    "to a csv file.\n",
    "\"\"\"\n",
    "\n",
    "# Import the pathlib and csv library\n",
    "from pathlib import Path\n",
    "import csv\n",
    "\n",
    "# Set the file path\n",
    "csvpath = Path('../Resources/accounting.csv')\n",
    "\n",
    "# Initialize variable to hold salaries\n",
    "salaries = []\n",
    "\n",
    "# Initialize line_num variable\n",
    "line_num = 0\n",
    "\n",
    "# Open the input path as a file object\n",
    "with open(csvpath, 'r') as csvfile:\n",
    "\n",
    "    # Print the datatype of the file object\n",
    "    print(type(csvfile))\n",
    "\n",
    "    # Pass in the csv file to the csv.reader() function\n",
    "    # (with ',' as the delmiter/separator) and return the csvreader object\n",
    "    csvreader = csv.reader(csvfile, delimiter=',')\n",
    "    # Print the datatype of the csvreader\n",
    "    print(type(csvreader))\n",
    "\n",
    "    # Go to the next row from the start of the file\n",
    "    # (which is often the first row/header) and iterate line_num by 1\n",
    "    header = next(csvreader)\n",
    "    line_num += 1\n",
    "    # Print the header\n",
    "    print(f\"{header} <---- HEADER\")\n",
    "    \n",
    "    for row in csvreader: \n",
    "        print(row)\n",
    "        salary = int(row[3])\n",
    "        salaries.append(salary)\n",
    "        "
   ]
  },
  {
   "cell_type": "code",
   "execution_count": 20,
   "id": "3fad7a6a-5f0d-43b6-b634-1aa83d90b274",
   "metadata": {},
   "outputs": [],
   "source": [
    "# Initialize metric variables\n",
    "max_salary = 0\n",
    "min_salary = 0\n",
    "avg_salary = 0\n",
    "total_salary = 0\n",
    "count_salary = 0"
   ]
  },
  {
   "cell_type": "code",
   "execution_count": 21,
   "id": "8a475350-d599-4ea2-84f4-eff51e84754a",
   "metadata": {},
   "outputs": [],
   "source": [
    "for salary in salaries: \n",
    "    \n",
    "    total_salary = total_salary + salary \n",
    "    count_salary += 1 \n",
    "    \n",
    "    if min_salary == 0:\n",
    "        min_salary = salary\n",
    "    elif salary > max_salary:\n",
    "        max_salary = salary\n",
    "    elif salary < min_salary:\n",
    "        min_salary = salary\n"
   ]
  },
  {
   "cell_type": "code",
   "execution_count": 23,
   "id": "297b4654-ad8a-4176-9568-756f4c6f42a4",
   "metadata": {},
   "outputs": [
    {
     "name": "stdout",
     "output_type": "stream",
     "text": [
      "150000 35000 74166.67\n"
     ]
    }
   ],
   "source": [
    "avg_salary = round(total_salary/count_salary,2)\n",
    "print(max_salary, min_salary, avg_salary)"
   ]
  },
  {
   "cell_type": "code",
   "execution_count": 24,
   "id": "d7ae64bc-a0df-4778-b41a-7210d5412040",
   "metadata": {},
   "outputs": [],
   "source": [
    "header = [\"max salary\",\"min salary\", \"avg salary\"]\n",
    "\n",
    "metrics = [max_salary, min_salary, avg_salary]\n",
    "\n",
    "output_path = Path(\"output1.csv\")"
   ]
  },
  {
   "cell_type": "code",
   "execution_count": 25,
   "id": "f8e1751f-fa75-4a59-91f2-15c29bbdec61",
   "metadata": {},
   "outputs": [],
   "source": [
    "with open(output_path, 'w') as csvfile: \n",
    "    \n",
    "    csvwriter = csv.writer(csvfile, delimiter = ',')\n",
    "    \n",
    "    csvwriter.writerow(header)\n",
    "    \n",
    "    csvwriter.writerow(metrics)"
   ]
  }
 ],
 "metadata": {
  "kernelspec": {
   "display_name": "Python 3 (ipykernel)",
   "language": "python",
   "name": "python3"
  },
  "language_info": {
   "codemirror_mode": {
    "name": "ipython",
    "version": 3
   },
   "file_extension": ".py",
   "mimetype": "text/x-python",
   "name": "python",
   "nbconvert_exporter": "python",
   "pygments_lexer": "ipython3",
   "version": "3.9.10"
  }
 },
 "nbformat": 4,
 "nbformat_minor": 5
}
