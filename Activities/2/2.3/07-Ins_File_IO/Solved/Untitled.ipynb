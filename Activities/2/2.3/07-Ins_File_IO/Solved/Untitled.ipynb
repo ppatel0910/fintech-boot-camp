{
 "cells": [
  {
   "cell_type": "code",
   "execution_count": 8,
   "id": "3ca9a33f-0af2-4555-b6bc-30d68bfc5306",
   "metadata": {},
   "outputs": [],
   "source": [
    "from pathlib import Path"
   ]
  },
  {
   "cell_type": "code",
   "execution_count": 9,
   "id": "6cbbc4cf-2ba0-4f47-933e-392632751ddc",
   "metadata": {},
   "outputs": [
    {
     "name": "stdout",
     "output_type": "stream",
     "text": [
      "Current Working Directory: /Users/davemelillo/Desktop/FinTech-Lesson-Plans/01-Lesson-Plans/02-Python/3/Activities/07-Ins_File_IO/Solved\n"
     ]
    }
   ],
   "source": [
    "print(f\"Current Working Directory: {Path.cwd()}\")"
   ]
  },
  {
   "cell_type": "code",
   "execution_count": 15,
   "id": "f64e897e-b9f3-4065-8760-7e00ce1a8e28",
   "metadata": {},
   "outputs": [],
   "source": [
    "#filepath = Path(\"/Users/davemelillo/Desktop/FinTech-Lesson-Plans/01-Lesson-Plans/02-Python/3/Activities/07-Ins_File_IO/Solved\")\n",
    "absfp = Path(\"/Users/davemelillo/Desktop/FinTech-Lesson-Plans/01-Lesson-Plans/02-Python/3/Activities/07-Ins_File_IO/Resources/input.txt\")\n",
    "relfp = Path(\"../Resources/input.txt\")\n",
    "cheatcode = Path(\"output.txt\")"
   ]
  },
  {
   "cell_type": "code",
   "execution_count": 19,
   "id": "336c4433-2ec2-4c37-9f46-cec7be21c8da",
   "metadata": {},
   "outputs": [
    {
     "name": "stdout",
     "output_type": "stream",
     "text": [
      "List of Best Actors:\n",
      "Nicolas Cage\n",
      "Betty White\n",
      "Gary Busey\n"
     ]
    }
   ],
   "source": [
    "with open(relfp,'r') as file: \n",
    "    text = file.read()\n",
    "    print(text)\n",
    "    \n",
    "    line_num = 1 \n",
    "    for line in file: \n",
    "        print(f\"line {line_num}:{line}\")\n",
    "        line_num += 1 "
   ]
  },
  {
   "cell_type": "code",
   "execution_count": 20,
   "id": "7680dcfc-7c22-465b-b24d-7269dad025e3",
   "metadata": {},
   "outputs": [],
   "source": [
    "output_path = Path(\"output1.txt\")\n",
    "\n",
    "with open(output_path, 'w') as file: \n",
    "    file.write(\"This is an output file.\\n\")\n",
    "    file.write(text)"
   ]
  }
 ],
 "metadata": {
  "kernelspec": {
   "display_name": "Python 3 (ipykernel)",
   "language": "python",
   "name": "python3"
  },
  "language_info": {
   "codemirror_mode": {
    "name": "ipython",
    "version": 3
   },
   "file_extension": ".py",
   "mimetype": "text/x-python",
   "name": "python",
   "nbconvert_exporter": "python",
   "pygments_lexer": "ipython3",
   "version": "3.9.10"
  }
 },
 "nbformat": 4,
 "nbformat_minor": 5
}
