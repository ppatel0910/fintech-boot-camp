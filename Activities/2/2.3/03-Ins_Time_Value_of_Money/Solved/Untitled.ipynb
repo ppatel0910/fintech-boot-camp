{
 "cells": [
  {
   "cell_type": "code",
   "execution_count": 2,
   "id": "4079a68f-a385-4c33-8783-32530aed0e5c",
   "metadata": {},
   "outputs": [],
   "source": [
    "def calculate_present_value(future_value, discount_rate, compounding_periods, years): \n",
    "    \n",
    "    present_value = future_value / (\n",
    "        (1 + (discount_rate / compounding_periods)) ** (compounding_periods * years)\n",
    "    )\n",
    "    \n",
    "    present_value_formatted = round(present_value,2)\n",
    "    \n",
    "    return present_value_formatted"
   ]
  },
  {
   "cell_type": "code",
   "execution_count": 9,
   "id": "e6b23b46-7836-481d-9ea4-bd6231ce2bb1",
   "metadata": {},
   "outputs": [],
   "source": [
    "# Initialize the zero-coupon bond parameters, assume compounding period is equal to 1\n",
    "price = 700\n",
    "future_value = 1000\n",
    "discount_rate = 0.1\n",
    "compounding_periods = 1\n",
    "years = 5"
   ]
  },
  {
   "cell_type": "code",
   "execution_count": 10,
   "id": "befe801a-65dc-405b-acf8-bd433a4c6480",
   "metadata": {},
   "outputs": [
    {
     "name": "stdout",
     "output_type": "stream",
     "text": [
      "620.92\n"
     ]
    }
   ],
   "source": [
    "bond_value = calculate_present_value(future_value, discount_rate, compounding_periods, years)\n",
    "print(bond_value)"
   ]
  },
  {
   "cell_type": "code",
   "execution_count": 11,
   "id": "043acce1-f074-4d0b-9570-712bda6a429e",
   "metadata": {},
   "outputs": [
    {
     "name": "stdout",
     "output_type": "stream",
     "text": [
      "The bond is selling at a price of $700 and is valued at $620.92.\n",
      "A premium of 79.08 exists, therefore you do not want to buy the bond.\n"
     ]
    }
   ],
   "source": [
    "# Determine if the bond is worth it\n",
    "if bond_value > price:\n",
    "    discount = round(bond_value - price, 2)\n",
    "    print(f\"The bond is selling at a price of ${price} and is valued at ${bond_value}.\")\n",
    "    print(f\"A discount of {discount} exists, therefore you want to buy the bond.\")\n",
    "elif bond_value < price:\n",
    "    premium = round(price - bond_value, 2)\n",
    "    print(f\"The bond is selling at a price of ${price} and is valued at ${bond_value}.\")\n",
    "    print(f\"A premium of {premium} exists, therefore you do not want to buy the bond.\")\n",
    "else:\n",
    "    print(f\"The bond is selling at a price of ${price} and is valued at ${bond_value}.\")\n",
    "    print(f\"The bond is selling at its present value, you are neutral.\")"
   ]
  }
 ],
 "metadata": {
  "kernelspec": {
   "display_name": "Python 3 (ipykernel)",
   "language": "python",
   "name": "python3"
  },
  "language_info": {
   "codemirror_mode": {
    "name": "ipython",
    "version": 3
   },
   "file_extension": ".py",
   "mimetype": "text/x-python",
   "name": "python",
   "nbconvert_exporter": "python",
   "pygments_lexer": "ipython3",
   "version": "3.9.10"
  }
 },
 "nbformat": 4,
 "nbformat_minor": 5
}
