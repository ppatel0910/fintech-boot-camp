{
 "cells": [
  {
   "cell_type": "code",
   "execution_count": 5,
   "id": "583e0880-b57c-463a-b4d3-09898f7eb4c9",
   "metadata": {},
   "outputs": [
    {
     "name": "stdout",
     "output_type": "stream",
     "text": [
      "{'conservative': 267.94617853971704, 'neutral': 370.3640461717091, 'aggressive': 285.8923570794341}\n"
     ]
    }
   ],
   "source": [
    "import numpy_financial as npf \n",
    "# -*- coding: utf-8 -*-\n",
    "\"\"\"Student Activity: Financial Analysis using NPV.\n",
    "\n",
    "This script will choose the optimal project scenario to\n",
    "undertake based on max NPV values.\n",
    "\"\"\"\n",
    "\n",
    "# @TODO: Import the NumPy Financial (numpy_financial) library\n",
    "# @TODO: You may need to run `pip install numpy-financial` in your terminal to install the library\n",
    "\n",
    "# Discount Rate\n",
    "discount_rate = .1\n",
    "\n",
    "# Initial Investment, Cash Flow 1, Cash Flow 2, Cash Flow 3, Cash Flow 4\n",
    "cash_flows_conservative = [-1000, 400, 400, 400, 400]\n",
    "cash_flows_neutral = [-1500, 400, 600, 800, 600]\n",
    "cash_flows_aggressive = [-2250, 800, 800, 800, 800]\n",
    "\n",
    "# @TODO: Initialize dictionary to hold NPV return values\n",
    "npv_dict = {}\n",
    "\n",
    "# @TODO: Calculate the NPV for each scenario\n",
    "npv_dict['conservative'] = npf.npv(discount_rate,cash_flows_conservative)\n",
    "npv_dict['neutral'] = npf.npv(discount_rate,cash_flows_neutral)\n",
    "npv_dict['aggressive'] = npf.npv(discount_rate,cash_flows_aggressive)\n",
    "\n",
    "# @TODO: Manually Choose the project with the highest NPV valueprint\n",
    "\n",
    "print(npv_dict)\n"
   ]
  }
 ],
 "metadata": {
  "kernelspec": {
   "display_name": "Python 3 (ipykernel)",
   "language": "python",
   "name": "python3"
  },
  "language_info": {
   "codemirror_mode": {
    "name": "ipython",
    "version": 3
   },
   "file_extension": ".py",
   "mimetype": "text/x-python",
   "name": "python",
   "nbconvert_exporter": "python",
   "pygments_lexer": "ipython3",
   "version": "3.9.10"
  }
 },
 "nbformat": 4,
 "nbformat_minor": 5
}
