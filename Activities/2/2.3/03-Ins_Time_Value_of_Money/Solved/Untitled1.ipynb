{
 "cells": [
  {
   "cell_type": "code",
   "execution_count": 1,
   "id": "bbed4f2b-f8e6-434f-90fa-699245c46d53",
   "metadata": {},
   "outputs": [],
   "source": [
    "import numpy\n",
    "import numpy_financial as npf "
   ]
  },
  {
   "cell_type": "code",
   "execution_count": 4,
   "id": "58b672c4-f44f-4fc1-ad6f-2ffbcd20593e",
   "metadata": {},
   "outputs": [
    {
     "name": "stdout",
     "output_type": "stream",
     "text": [
      "267.94617853971704\n"
     ]
    }
   ],
   "source": [
    "interest_rate = .1\n",
    "\n",
    "cash_flows = [-1000,400,400,400,400]\n",
    "\n",
    "net_present_value = npf.npv(interest_rate, cash_flows)\n",
    "\n",
    "print(net_present_value)"
   ]
  }
 ],
 "metadata": {
  "kernelspec": {
   "display_name": "Python 3 (ipykernel)",
   "language": "python",
   "name": "python3"
  },
  "language_info": {
   "codemirror_mode": {
    "name": "ipython",
    "version": 3
   },
   "file_extension": ".py",
   "mimetype": "text/x-python",
   "name": "python",
   "nbconvert_exporter": "python",
   "pygments_lexer": "ipython3",
   "version": "3.9.10"
  }
 },
 "nbformat": 4,
 "nbformat_minor": 5
}
