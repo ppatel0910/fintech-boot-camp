{
 "cells": [
  {
   "cell_type": "code",
   "execution_count": 10,
   "id": "2dd1fac1-6e84-40c2-b9a3-d327f7c6b584",
   "metadata": {
    "tags": []
   },
   "outputs": [
    {
     "name": "stdout",
     "output_type": "stream",
     "text": [
      "-67.02000000000004\n",
      "-18.598584709310405\n"
     ]
    }
   ],
   "source": [
    "#Create variables\n",
    "original_price = 360.35\n",
    "current_price = 293.33\n",
    "increase = current_price - original_price\n",
    "percent_increase = (increase/original_price)*100\n",
    "recommendation = \"buy\"\n",
    "threshold_to_sell = percent_increase > 20\n",
    "threshold_to_buy = percent_increase < -20\n",
    "\n",
    "#Derive increase\n",
    "print(increase)\n",
    "#Calculate percent increase\n",
    "print(percent_increase)\n",
    "\n",
    "#Determine if/when the stock should be sold\n",
    "if threshold_to_buy:\n",
    "    print(f\"buy stock\")\n",
    "elif threshold_to_sell:\n",
    "    print(f\"sell stock\")"
   ]
  },
  {
   "cell_type": "code",
   "execution_count": null,
   "id": "ccf27f92-6eed-4e99-8ad4-568aedc6423e",
   "metadata": {},
   "outputs": [],
   "source": []
  }
 ],
 "metadata": {
  "kernelspec": {
   "display_name": "Python 3 (ipykernel)",
   "language": "python",
   "name": "python3"
  },
  "language_info": {
   "codemirror_mode": {
    "name": "ipython",
    "version": 3
   },
   "file_extension": ".py",
   "mimetype": "text/x-python",
   "name": "python",
   "nbconvert_exporter": "python",
   "pygments_lexer": "ipython3",
   "version": "3.11.4"
  }
 },
 "nbformat": 4,
 "nbformat_minor": 5
}
