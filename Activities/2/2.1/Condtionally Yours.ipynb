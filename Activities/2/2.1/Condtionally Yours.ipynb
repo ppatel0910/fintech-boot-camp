{
 "cells": [
  {
   "cell_type": "markdown",
   "id": "67e7c6b1-a028-4b0a-a1b7-6d024db5cd65",
   "metadata": {},
   "source": [
    "Calculate percent increase or decrease in stock price for Netflix.\n",
    "\n",
    "\n",
    "Identify a viable percent increase/decrease that will indicate buy or sell action. Assume a 20% increase or decrease in stock price should warrant buy or sell action.\n",
    "\n",
    "\n",
    "Use conditional statements to determine whether or not a stock should be purchased or sold:\n",
    "Increase = Current Price - Original Price\n",
    "Percent Increase = Increase / Original x 100\n",
    "\n",
    "\n",
    "\n",
    "Instructions\n",
    "Using the starter file, complete the following steps:\n",
    "\n",
    "\n",
    "Pseudocode variable declaration.\n",
    "\n",
    "\n",
    "Pseudocode percent_increase calculation.\n",
    "\n",
    "\n",
    "Pseudocode if-else logic to determine the buy or sell recommendation."
   ]
  },
  {
   "cell_type": "code",
   "execution_count": 16,
   "id": "e6bc71b9-bd89-490b-93d8-b1cd546aa964",
   "metadata": {
    "tags": []
   },
   "outputs": [
    {
     "name": "stdout",
     "output_type": "stream",
     "text": [
      "Netflix's original stock price was $360\n",
      "Netflix's current stock price is $293\n",
      "The percent increase from yesterday to today is -18.61111111111111%\n",
      "needs review\n",
      "Recommendation: buy\n",
      "\n"
     ]
    }
   ],
   "source": [
    "\n",
    "\n",
    "\n",
    "\n",
    "\n",
    "\n",
    "# Increase = Current Price - Original Price\n",
    "# Percent Increase = Increase / Original x 100\n",
    "\n",
    "# Create integer variable for original_price\n",
    "original_price = 360\n",
    "\n",
    "# Create integer variable for current_price\n",
    "current_price = 293\n",
    "\n",
    "# Create float for threshold_to_buy\n",
    "threshold_to_buy = -20\n",
    "\n",
    "# Create float for threshold_to_sell\n",
    "threshold_to_sell = 20\n",
    "\n",
    "# Create string for recommendation, default will be buy\n",
    "recommendation = \"buy\"\n",
    "\n",
    "# Calculate difference between current_price and original_price\n",
    "increase = current_price - original_price\n",
    "\n",
    "# Calculate percent increase\n",
    "percent_increase = (increase/original_price)*100 \n",
    "\n",
    "# Print original_price\n",
    "print(f\"Netflix's original stock price was ${original_price}\")\n",
    "\n",
    "# Print current_price\n",
    "print(f\"Netflix's current stock price is ${current_price}\")\n",
    "\n",
    "# Print percent increase\n",
    "print(f\"The percent increase from yesterday to today is {percent_increase}%\")\n",
    "\n",
    "# Determine if stock should be bought or sold\n",
    "if percent_increase <= threshold_to_buy:\n",
    "    print(\"buy\")\n",
    "elif percent_increase >= threshold_to_sell:\n",
    "    print(\"sell\")\n",
    "else:\n",
    "    print('needs review')\n",
    "    \n",
    "    \n",
    "# Print recommendation\n",
    "print(\"Recommendation: \" + recommendation)\n",
    "print()\n",
    "\n",
    "\n",
    "# Create float for portfolio balance\n",
    "\n",
    "\n",
    "# Create float for balance check"
   ]
  },
  {
   "cell_type": "code",
   "execution_count": null,
   "id": "145cdf51-fff9-4eeb-a200-f05d5f2d6014",
   "metadata": {},
   "outputs": [],
   "source": []
  }
 ],
 "metadata": {
  "kernelspec": {
   "display_name": "Python 3 (ipykernel)",
   "language": "python",
   "name": "python3"
  },
  "language_info": {
   "codemirror_mode": {
    "name": "ipython",
    "version": 3
   },
   "file_extension": ".py",
   "mimetype": "text/x-python",
   "name": "python",
   "nbconvert_exporter": "python",
   "pygments_lexer": "ipython3",
   "version": "3.11.4"
  }
 },
 "nbformat": 4,
 "nbformat_minor": 5
}
