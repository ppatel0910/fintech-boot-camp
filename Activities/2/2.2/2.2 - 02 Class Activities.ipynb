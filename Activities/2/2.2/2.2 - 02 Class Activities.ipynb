{
 "cells": [
  {
   "cell_type": "code",
   "execution_count": null,
   "id": "9c1057a4-266e-4c92-aa8b-574eadb43f42",
   "metadata": {},
   "outputs": [],
   "source": [
    "Create a grocery list for the apple pie ingredients:\n",
    "\n",
    "Water\n",
    "Butter\n",
    "Eggs\n",
    "Apples\n",
    "Cinnamon\n",
    "Sugar\n",
    "Milk\n",
    "\n",
    "Find the first two items on Mike's grocery list.\n",
    "\n",
    "Find the last five items on Mike's grocery list.\n",
    "\n",
    "Find every other item, starting from the second item, on Mike's grocery list.\n",
    "\n",
    "Add flour to the grocery list.\n",
    "\n",
    "Change apples to gala apples. (Mike decides to be more specific with the types of apples needed.)\n",
    "\n",
    "Determine the total number of items on the grocery list."
   ]
  },
  {
   "cell_type": "code",
   "execution_count": 6,
   "id": "45cbb2cf-ebc1-4567-be48-c8b8b0ad0566",
   "metadata": {
    "tags": []
   },
   "outputs": [
    {
     "name": "stdout",
     "output_type": "stream",
     "text": [
      "['water', 'butter']\n"
     ]
    }
   ],
   "source": [
    "grocery_list=['water', 'butter', 'eggs', 'apples', 'cinnamon', 'sugar', 'milk']\n",
    "print(grocery_list[0:2])"
   ]
  },
  {
   "cell_type": "code",
   "execution_count": 8,
   "id": "d2bc0239-3c5d-413b-a4ee-4612a70f7e83",
   "metadata": {
    "tags": []
   },
   "outputs": [
    {
     "name": "stdout",
     "output_type": "stream",
     "text": [
      "['eggs', 'apples', 'cinnamon', 'sugar', 'milk']\n"
     ]
    }
   ],
   "source": [
    "print(grocery_list[2:])"
   ]
  },
  {
   "cell_type": "code",
   "execution_count": 9,
   "id": "b104cb5d-c057-4270-af6d-0308eb5bbe64",
   "metadata": {
    "tags": []
   },
   "outputs": [
    {
     "name": "stdout",
     "output_type": "stream",
     "text": [
      "['butter', 'apples', 'sugar']\n"
     ]
    }
   ],
   "source": [
    "print(grocery_list[1::2])"
   ]
  },
  {
   "cell_type": "code",
   "execution_count": 14,
   "id": "ffae2191-c66f-458e-8835-ffff0f76030b",
   "metadata": {
    "tags": []
   },
   "outputs": [
    {
     "name": "stdout",
     "output_type": "stream",
     "text": [
      "['water', 'butter', 'eggs', 'gala apples', 'cinnamon', 'sugar', 'milk']\n"
     ]
    }
   ],
   "source": [
    "grocery_list[3]=\"gala apples\"\n",
    "print(grocery_list)"
   ]
  },
  {
   "cell_type": "code",
   "execution_count": 13,
   "id": "e0d30003-4b43-49f5-a1f6-a11f0064682a",
   "metadata": {
    "tags": []
   },
   "outputs": [
    {
     "data": {
      "text/plain": [
       "7"
      ]
     },
     "execution_count": 13,
     "metadata": {},
     "output_type": "execute_result"
    }
   ],
   "source": [
    "len(grocery_list)"
   ]
  },
  {
   "cell_type": "code",
   "execution_count": null,
   "id": "be188ec8-e47c-4d46-85a6-37b0c188e848",
   "metadata": {},
   "outputs": [],
   "source": []
  }
 ],
 "metadata": {
  "kernelspec": {
   "display_name": "Python 3 (ipykernel)",
   "language": "python",
   "name": "python3"
  },
  "language_info": {
   "codemirror_mode": {
    "name": "ipython",
    "version": 3
   },
   "file_extension": ".py",
   "mimetype": "text/x-python",
   "name": "python",
   "nbconvert_exporter": "python",
   "pygments_lexer": "ipython3",
   "version": "3.11.4"
  }
 },
 "nbformat": 4,
 "nbformat_minor": 5
}
