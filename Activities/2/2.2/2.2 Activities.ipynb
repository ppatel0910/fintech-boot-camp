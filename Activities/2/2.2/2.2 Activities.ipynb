{
 "cells": [
  {
   "cell_type": "code",
   "execution_count": null,
   "id": "78a4ba5d-ecc8-4b2d-9ccd-98a6149491a1",
   "metadata": {},
   "outputs": [],
   "source": [
    "#create a script to summarize my tips from a night of work"
   ]
  },
  {
   "cell_type": "code",
   "execution_count": 16,
   "id": "67452891-a07d-4d52-b60d-9df67b136e82",
   "metadata": {
    "tags": []
   },
   "outputs": [],
   "source": [
    "#Initialize metric variables\n",
    "count = 0\n",
    "total = 0\n",
    "average = 0\n",
    "minimum = 0\n",
    "maximum = 0"
   ]
  },
  {
   "cell_type": "code",
   "execution_count": 17,
   "id": "db5fea24-0132-4504-a780-a0fc910454d9",
   "metadata": {
    "tags": []
   },
   "outputs": [
    {
     "data": {
      "text/plain": [
       "[22, 10, 30, 45, 54, 60, 56]"
      ]
     },
     "execution_count": 17,
     "metadata": {},
     "output_type": "execute_result"
    }
   ],
   "source": [
    "#list of tips\n",
    "cash_tips = [22, 10, 30, 45, 54, 60, 56]\n",
    "(cash_tips)"
   ]
  },
  {
   "cell_type": "code",
   "execution_count": 19,
   "id": "455e2b7b-661a-4242-8c69-ae99e4c26b3f",
   "metadata": {
    "tags": []
   },
   "outputs": [],
   "source": [
    "for tip in cash_tips:\n",
    "    total += tip\n",
    "    count += 1\n"
   ]
  },
  {
   "cell_type": "code",
   "execution_count": 21,
   "id": "b8fef9f5-cc5e-46be-8696-178133743483",
   "metadata": {
    "tags": []
   },
   "outputs": [
    {
     "data": {
      "text/plain": [
       "7"
      ]
     },
     "execution_count": 21,
     "metadata": {},
     "output_type": "execute_result"
    }
   ],
   "source": [
    "count"
   ]
  },
  {
   "cell_type": "code",
   "execution_count": 22,
   "id": "bf268ff7-68df-4ba7-80c0-bab63dde5a74",
   "metadata": {
    "tags": []
   },
   "outputs": [
    {
     "data": {
      "text/plain": [
       "554"
      ]
     },
     "execution_count": 22,
     "metadata": {},
     "output_type": "execute_result"
    }
   ],
   "source": [
    "total"
   ]
  },
  {
   "cell_type": "code",
   "execution_count": 26,
   "id": "59a60e15-a2ef-4d29-8859-491c9b6f4014",
   "metadata": {
    "tags": []
   },
   "outputs": [],
   "source": [
    "def slope_of_a_line(m, x, b):\n",
    "    return m * x + b"
   ]
  },
  {
   "cell_type": "code",
   "execution_count": 27,
   "id": "ed0b2b0f-0ecd-43f5-aef6-34a46d4552c7",
   "metadata": {
    "tags": []
   },
   "outputs": [
    {
     "data": {
      "text/plain": [
       "3"
      ]
     },
     "execution_count": 27,
     "metadata": {},
     "output_type": "execute_result"
    }
   ],
   "source": [
    "slope_of_a_line(2, 0, 3)"
   ]
  },
  {
   "cell_type": "code",
   "execution_count": null,
   "id": "06335f5b-cfbd-400d-9f3c-076245fafe14",
   "metadata": {},
   "outputs": [],
   "source": []
  }
 ],
 "metadata": {
  "kernelspec": {
   "display_name": "Python 3 (ipykernel)",
   "language": "python",
   "name": "python3"
  },
  "language_info": {
   "codemirror_mode": {
    "name": "ipython",
    "version": 3
   },
   "file_extension": ".py",
   "mimetype": "text/x-python",
   "name": "python",
   "nbconvert_exporter": "python",
   "pygments_lexer": "ipython3",
   "version": "3.11.4"
  }
 },
 "nbformat": 4,
 "nbformat_minor": 5
}
