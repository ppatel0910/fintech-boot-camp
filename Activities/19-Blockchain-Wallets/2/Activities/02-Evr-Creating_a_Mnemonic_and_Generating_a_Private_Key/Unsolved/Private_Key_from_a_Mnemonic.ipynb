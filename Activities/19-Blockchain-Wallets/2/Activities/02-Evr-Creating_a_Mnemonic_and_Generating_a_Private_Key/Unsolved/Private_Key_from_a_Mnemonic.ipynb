{
 "cells": [
  {
   "cell_type": "code",
   "execution_count": 6,
   "metadata": {},
   "outputs": [
    {
     "name": "stdout",
     "output_type": "stream",
     "text": [
      "Requirement already satisfied: bip44 in c:\\users\\ppate\\appdata\\local\\programs\\python\\python311\\lib\\site-packages (0.1.4)\n",
      "Requirement already satisfied: bip32<4.0,>=3.1 in c:\\users\\ppate\\appdata\\local\\programs\\python\\python311\\lib\\site-packages (from bip44) (3.4)\n",
      "Requirement already satisfied: mnemonic<0.21,>=0.20 in c:\\users\\ppate\\appdata\\local\\programs\\python\\python311\\lib\\site-packages (from bip44) (0.20)\n",
      "Requirement already satisfied: pycryptodome<4.0.0,>=3.16.0 in c:\\users\\ppate\\appdata\\local\\programs\\python\\python311\\lib\\site-packages (from bip44) (3.20.0)\n",
      "Requirement already satisfied: base58~=2.0 in c:\\users\\ppate\\appdata\\local\\programs\\python\\python311\\lib\\site-packages (from bip32<4.0,>=3.1->bip44) (2.1.1)\n",
      "Requirement already satisfied: coincurve<19,>=15.0 in c:\\users\\ppate\\appdata\\local\\programs\\python\\python311\\lib\\site-packages (from bip32<4.0,>=3.1->bip44) (18.0.0)\n",
      "Requirement already satisfied: asn1crypto in c:\\users\\ppate\\appdata\\local\\programs\\python\\python311\\lib\\site-packages (from coincurve<19,>=15.0->bip32<4.0,>=3.1->bip44) (1.5.1)\n",
      "Requirement already satisfied: cffi>=1.3.0 in c:\\users\\ppate\\appdata\\local\\programs\\python\\python311\\lib\\site-packages (from coincurve<19,>=15.0->bip32<4.0,>=3.1->bip44) (1.16.0)\n",
      "Requirement already satisfied: pycparser in c:\\users\\ppate\\appdata\\local\\programs\\python\\python311\\lib\\site-packages (from cffi>=1.3.0->coincurve<19,>=15.0->bip32<4.0,>=3.1->bip44) (2.21)\n",
      "Note: you may need to restart the kernel to use updated packages.\n"
     ]
    },
    {
     "name": "stderr",
     "output_type": "stream",
     "text": [
      "\n",
      "[notice] A new release of pip is available: 23.3.1 -> 23.3.2\n",
      "[notice] To update, run: C:\\Users\\ppate\\AppData\\Local\\Programs\\Python\\Python311\\python.exe -m pip install --upgrade pip\n"
     ]
    },
    {
     "name": "stdout",
     "output_type": "stream",
     "text": [
      "Requirement already satisfied: web3 in c:\\users\\ppate\\anaconda3\\lib\\site-packages (5.25.0)\n",
      "Requirement already satisfied: aiohttp<4,>=3.7.4.post0 in c:\\users\\ppate\\anaconda3\\lib\\site-packages (from web3) (3.9.0)\n",
      "Requirement already satisfied: eth-abi<3.0.0,>=2.0.0b6 in c:\\users\\ppate\\anaconda3\\lib\\site-packages (from web3) (2.2.0)\n",
      "Requirement already satisfied: eth-account<0.6.0,>=0.5.6 in c:\\users\\ppate\\anaconda3\\lib\\site-packages (from web3) (0.5.9)\n",
      "Requirement already satisfied: eth-hash[pycryptodome]<1.0.0,>=0.2.0 in c:\\users\\ppate\\anaconda3\\lib\\site-packages (from web3) (0.6.0)\n",
      "Requirement already satisfied: eth-typing<3.0.0,>=2.0.0 in c:\\users\\ppate\\anaconda3\\lib\\site-packages (from web3) (2.3.0)\n",
      "Requirement already satisfied: eth-utils<2.0.0,>=1.9.5 in c:\\users\\ppate\\anaconda3\\lib\\site-packages (from web3) (1.9.5)\n",
      "Requirement already satisfied: hexbytes<1.0.0,>=0.1.0 in c:\\users\\ppate\\anaconda3\\lib\\site-packages (from web3) (0.3.1)\n",
      "Requirement already satisfied: ipfshttpclient==0.8.0a2 in c:\\users\\ppate\\anaconda3\\lib\\site-packages (from web3) (0.8.0a2)\n",
      "Requirement already satisfied: jsonschema<4.0.0,>=3.2.0 in c:\\users\\ppate\\anaconda3\\lib\\site-packages (from web3) (3.2.0)\n",
      "Requirement already satisfied: lru-dict<2.0.0,>=1.1.6 in c:\\users\\ppate\\anaconda3\\lib\\site-packages (from web3) (1.3.0)\n",
      "Requirement already satisfied: protobuf<4,>=3.10.0 in c:\\users\\ppate\\anaconda3\\lib\\site-packages (from web3) (3.20.3)\n",
      "Requirement already satisfied: requests<3.0.0,>=2.16.0 in c:\\users\\ppate\\anaconda3\\lib\\site-packages (from web3) (2.31.0)\n",
      "Requirement already satisfied: websockets<10,>=9.1 in c:\\users\\ppate\\anaconda3\\lib\\site-packages (from web3) (9.1)\n",
      "Requirement already satisfied: pywin32>=223 in c:\\users\\ppate\\anaconda3\\lib\\site-packages (from web3) (305.1)\n",
      "Requirement already satisfied: multiaddr>=0.0.7 in c:\\users\\ppate\\anaconda3\\lib\\site-packages (from ipfshttpclient==0.8.0a2->web3) (0.0.9)\n",
      "Requirement already satisfied: attrs>=17.3.0 in c:\\users\\ppate\\anaconda3\\lib\\site-packages (from aiohttp<4,>=3.7.4.post0->web3) (23.1.0)\n",
      "Requirement already satisfied: multidict<7.0,>=4.5 in c:\\users\\ppate\\anaconda3\\lib\\site-packages (from aiohttp<4,>=3.7.4.post0->web3) (6.0.4)\n",
      "Requirement already satisfied: yarl<2.0,>=1.0 in c:\\users\\ppate\\anaconda3\\lib\\site-packages (from aiohttp<4,>=3.7.4.post0->web3) (1.9.3)\n",
      "Requirement already satisfied: frozenlist>=1.1.1 in c:\\users\\ppate\\anaconda3\\lib\\site-packages (from aiohttp<4,>=3.7.4.post0->web3) (1.4.0)\n",
      "Requirement already satisfied: aiosignal>=1.1.2 in c:\\users\\ppate\\anaconda3\\lib\\site-packages (from aiohttp<4,>=3.7.4.post0->web3) (1.2.0)\n",
      "Requirement already satisfied: parsimonious<0.9.0,>=0.8.0 in c:\\users\\ppate\\anaconda3\\lib\\site-packages (from eth-abi<3.0.0,>=2.0.0b6->web3) (0.8.1)\n",
      "Requirement already satisfied: bitarray<3,>=1.2.1 in c:\\users\\ppate\\anaconda3\\lib\\site-packages (from eth-account<0.6.0,>=0.5.6->web3) (2.9.2)\n",
      "Requirement already satisfied: eth-keyfile<0.6.0,>=0.5.0 in c:\\users\\ppate\\anaconda3\\lib\\site-packages (from eth-account<0.6.0,>=0.5.6->web3) (0.5.1)\n",
      "Requirement already satisfied: eth-keys<0.4.0,>=0.3.4 in c:\\users\\ppate\\anaconda3\\lib\\site-packages (from eth-account<0.6.0,>=0.5.6->web3) (0.3.4)\n",
      "Requirement already satisfied: eth-rlp<2,>=0.1.2 in c:\\users\\ppate\\anaconda3\\lib\\site-packages (from eth-account<0.6.0,>=0.5.6->web3) (0.2.1)\n",
      "Requirement already satisfied: rlp<3,>=1.0.0 in c:\\users\\ppate\\anaconda3\\lib\\site-packages (from eth-account<0.6.0,>=0.5.6->web3) (2.0.1)\n",
      "Requirement already satisfied: pycryptodome<4,>=3.6.6 in c:\\users\\ppate\\anaconda3\\lib\\site-packages (from eth-hash[pycryptodome]<1.0.0,>=0.2.0->web3) (3.20.0)\n",
      "Requirement already satisfied: cytoolz<1.0.0,>=0.10.1 in c:\\users\\ppate\\anaconda3\\lib\\site-packages (from eth-utils<2.0.0,>=1.9.5->web3) (0.12.2)\n",
      "Requirement already satisfied: pyrsistent>=0.14.0 in c:\\users\\ppate\\anaconda3\\lib\\site-packages (from jsonschema<4.0.0,>=3.2.0->web3) (0.20.0)\n",
      "Requirement already satisfied: setuptools in c:\\users\\ppate\\anaconda3\\lib\\site-packages (from jsonschema<4.0.0,>=3.2.0->web3) (68.0.0)\n",
      "Requirement already satisfied: six>=1.11.0 in c:\\users\\ppate\\anaconda3\\lib\\site-packages (from jsonschema<4.0.0,>=3.2.0->web3) (1.16.0)\n",
      "Requirement already satisfied: charset-normalizer<4,>=2 in c:\\users\\ppate\\anaconda3\\lib\\site-packages (from requests<3.0.0,>=2.16.0->web3) (2.0.4)\n",
      "Requirement already satisfied: idna<4,>=2.5 in c:\\users\\ppate\\anaconda3\\lib\\site-packages (from requests<3.0.0,>=2.16.0->web3) (3.4)\n",
      "Requirement already satisfied: urllib3<3,>=1.21.1 in c:\\users\\ppate\\anaconda3\\lib\\site-packages (from requests<3.0.0,>=2.16.0->web3) (1.26.18)\n",
      "Requirement already satisfied: certifi>=2017.4.17 in c:\\users\\ppate\\anaconda3\\lib\\site-packages (from requests<3.0.0,>=2.16.0->web3) (2023.11.17)\n",
      "Requirement already satisfied: toolz>=0.8.0 in c:\\users\\ppate\\anaconda3\\lib\\site-packages (from cytoolz<1.0.0,>=0.10.1->eth-utils<2.0.0,>=1.9.5->web3) (0.12.0)\n",
      "Requirement already satisfied: varint in c:\\users\\ppate\\anaconda3\\lib\\site-packages (from multiaddr>=0.0.7->ipfshttpclient==0.8.0a2->web3) (1.0.2)\n",
      "Requirement already satisfied: base58 in c:\\users\\ppate\\anaconda3\\lib\\site-packages (from multiaddr>=0.0.7->ipfshttpclient==0.8.0a2->web3) (2.1.1)\n",
      "Requirement already satisfied: netaddr in c:\\users\\ppate\\anaconda3\\lib\\site-packages (from multiaddr>=0.0.7->ipfshttpclient==0.8.0a2->web3) (0.10.1)\n"
     ]
    }
   ],
   "source": [
    "%pip install bip44\n",
    "!pip install web3"
   ]
  },
  {
   "cell_type": "code",
   "execution_count": 7,
   "metadata": {},
   "outputs": [],
   "source": [
    "# Imports\n",
    "import os\n",
    "from dotenv import load_dotenv\n",
    "load_dotenv()\n",
    "from mnemonic import Mnemonic\n",
    "from bip44 import Wallet\n",
    "from web3 import Account"
   ]
  },
  {
   "cell_type": "code",
   "execution_count": 10,
   "metadata": {},
   "outputs": [
    {
     "data": {
      "text/plain": [
       "'fortune solution story borrow come picnic fly sun forum evolve filter hour'"
      ]
     },
     "execution_count": 10,
     "metadata": {},
     "output_type": "execute_result"
    }
   ],
   "source": [
    "# Create menmonic variable from the .env file\n",
    "mnemonic = os.getenv(\"MNEMONIC\")\n",
    "\n",
    "#Evaulate the mnemonic variable\n",
    "if mnemonic is None:\n",
    "    mnemo = Mnemonic(\"english\")\n",
    "    mnemonic = mnemo.generate(strength = 128)\n",
    "\n",
    "mnemonic"
   ]
  },
  {
   "cell_type": "code",
   "execution_count": 11,
   "metadata": {},
   "outputs": [
    {
     "data": {
      "text/plain": [
       "<bip44.wallet.Wallet at 0x1d55c297010>"
      ]
     },
     "execution_count": 11,
     "metadata": {},
     "output_type": "execute_result"
    }
   ],
   "source": [
    "wallet = Wallet(mnemonic)\n",
    "wallet"
   ]
  },
  {
   "cell_type": "code",
   "execution_count": 16,
   "metadata": {},
   "outputs": [],
   "source": [
    "# Create private and public keys associated with a new Ethereum account\n",
    "private, public = wallet.derive_account(\"eth\")"
   ]
  },
  {
   "cell_type": "code",
   "execution_count": 21,
   "metadata": {},
   "outputs": [
    {
     "name": "stdout",
     "output_type": "stream",
     "text": [
      "0xd00A299032aAB00f2A8A34b1f5f0806c0C0760C9\n"
     ]
    }
   ],
   "source": [
    "account = Account.from_key(private)\n",
    "print(account.address)"
   ]
  },
  {
   "cell_type": "code",
   "execution_count": 22,
   "metadata": {},
   "outputs": [
    {
     "data": {
      "text/plain": [
       "'0xd00A299032aAB00f2A8A34b1f5f0806c0C0760C9'"
      ]
     },
     "execution_count": 22,
     "metadata": {},
     "output_type": "execute_result"
    }
   ],
   "source": [
    "account.address"
   ]
  }
 ],
 "metadata": {
  "kernelspec": {
   "display_name": "Python 3 (ipykernel)",
   "language": "python",
   "name": "python3"
  },
  "language_info": {
   "codemirror_mode": {
    "name": "ipython",
    "version": 3
   },
   "file_extension": ".py",
   "mimetype": "text/x-python",
   "name": "python",
   "nbconvert_exporter": "python",
   "pygments_lexer": "ipython3",
   "version": "3.11.5"
  }
 },
 "nbformat": 4,
 "nbformat_minor": 4
}
