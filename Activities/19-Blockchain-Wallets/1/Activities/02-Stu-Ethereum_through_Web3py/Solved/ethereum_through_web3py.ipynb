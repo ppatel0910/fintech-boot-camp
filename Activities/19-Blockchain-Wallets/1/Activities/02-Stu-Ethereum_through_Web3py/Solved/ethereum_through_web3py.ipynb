{
 "cells": [
  {
   "cell_type": "markdown",
   "metadata": {},
   "source": [
    "# Ethereum through Web3.py\n",
    "\n",
    "In this activity, you will use Web3.py to connect to a local mock development blockchain instance and check the available balances in the ledger.\n",
    "\n",
    "## Instructions\n",
    "\n",
    "Complete each of the following steps:\n",
    "\n",
    "1. From the Web3.py library, import `Web3` and the `EthereumTesterProvider`.\n",
    "\n",
    "\n",
    "2. Define a new variable named `w3`, and set it equal to a new `Web3()` instance.\n",
    "\n",
    "\n",
    "3. Define a variable named `provider`. Set this variable equal to `EthereumTesterProvider()`, and then pass it to the `Web3` instance.\n",
    "\n",
    "4. Call `w3.eth.get_block('latest')`, and print the result to check that your mock blockchain is working.\n",
    "\n",
    "\n",
    "5. Call `w3.eth.accounts`, and print the result to view your available accounts on the blockchain.\n",
    "\n",
    "\n",
    "6. Call `w3.eth.get_balance()`, and pass it to one of your available addresses as a string to check the balance of the account on the chain. Save the balance as a variable named `wei_balance`.\n",
    "\n",
    "\n",
    "7. Use the `w3.fromWei` function to convert your balance from wei to ether.\n",
    "\n",
    "## References\n",
    "\n",
    "[Web3.py](https://web3py.readthedocs.io/en/stable/)\n",
    "\n",
    "[EthereumTestProvider](https://web3py.readthedocs.io/en/stable/providers.html#ethereumtesterprovider)\n",
    "\n",
    "[Ethereum](https://ethereum.org/en/developers/docs/)\n"
   ]
  },
  {
   "cell_type": "markdown",
   "metadata": {},
   "source": [
    "## Step 1: From the Web3.py library, import `Web3` and the `EthereumTesterProvider`."
   ]
  },
  {
   "cell_type": "code",
   "execution_count": 2,
   "metadata": {},
   "outputs": [
    {
     "name": "stdout",
     "output_type": "stream",
     "text": [
      "Collecting web3\n",
      "  Downloading web3-6.2.0-py3-none-any.whl (571 kB)\n",
      "     |████████████████████████████████| 571 kB 3.8 MB/s            \n",
      "\u001b[?25hCollecting eth-typing>=3.0.0\n",
      "  Downloading eth_typing-3.3.0-py3-none-any.whl (6.3 kB)\n",
      "Collecting websockets>=10.0.0\n",
      "  Downloading websockets-11.0.2-cp37-cp37m-macosx_10_9_x86_64.whl (120 kB)\n",
      "     |████████████████████████████████| 120 kB 8.0 MB/s            \n",
      "\u001b[?25hRequirement already satisfied: requests>=2.16.0 in /opt/anaconda3/envs/dev/lib/python3.7/site-packages (from web3) (2.26.0)\n",
      "Collecting lru-dict>=1.1.6\n",
      "  Downloading lru_dict-1.1.8-cp37-cp37m-macosx_10_9_x86_64.whl (9.8 kB)\n",
      "Collecting protobuf>=4.21.6\n",
      "  Downloading protobuf-4.22.3-cp37-abi3-macosx_10_9_universal2.whl (397 kB)\n",
      "     |████████████████████████████████| 397 kB 6.6 MB/s            \n",
      "\u001b[?25hCollecting aiohttp>=3.7.4.post0\n",
      "  Downloading aiohttp-3.8.4-cp37-cp37m-macosx_10_9_x86_64.whl (354 kB)\n",
      "     |████████████████████████████████| 354 kB 8.4 MB/s            \n",
      "\u001b[?25hCollecting hexbytes>=0.1.0\n",
      "  Downloading hexbytes-0.3.0-py3-none-any.whl (6.4 kB)\n",
      "Collecting eth-account>=0.8.0\n",
      "  Downloading eth_account-0.8.0-py3-none-any.whl (102 kB)\n",
      "     |████████████████████████████████| 102 kB 11.6 MB/s            \n",
      "\u001b[?25hCollecting eth-utils>=2.1.0\n",
      "  Downloading eth_utils-2.1.0-py3-none-any.whl (24 kB)\n",
      "Requirement already satisfied: jsonschema>=4.0.0 in /opt/anaconda3/envs/dev/lib/python3.7/site-packages (from web3) (4.2.1)\n",
      "Requirement already satisfied: typing-extensions<5,>=3.7.4.1 in /opt/anaconda3/envs/dev/lib/python3.7/site-packages (from web3) (4.0.0)\n",
      "Collecting eth-abi>=4.0.0\n",
      "  Downloading eth_abi-4.0.0-py3-none-any.whl (28 kB)\n",
      "Collecting eth-hash[pycryptodome]>=0.5.1\n",
      "  Downloading eth_hash-0.5.1-py3-none-any.whl (9.0 kB)\n",
      "Collecting yarl<2.0,>=1.0\n",
      "  Downloading yarl-1.9.2-cp37-cp37m-macosx_10_9_x86_64.whl (64 kB)\n",
      "     |████████████████████████████████| 64 kB 6.4 MB/s            \n",
      "\u001b[?25hCollecting aiosignal>=1.1.2\n",
      "  Downloading aiosignal-1.3.1-py3-none-any.whl (7.6 kB)\n",
      "Collecting multidict<7.0,>=4.5\n",
      "  Downloading multidict-6.0.4-cp37-cp37m-macosx_10_9_x86_64.whl (28 kB)\n",
      "Collecting asynctest==0.13.0\n",
      "  Downloading asynctest-0.13.0-py3-none-any.whl (26 kB)\n",
      "Collecting frozenlist>=1.1.1\n",
      "  Downloading frozenlist-1.3.3-cp37-cp37m-macosx_10_9_x86_64.whl (36 kB)\n",
      "Requirement already satisfied: charset-normalizer<4.0,>=2.0 in /opt/anaconda3/envs/dev/lib/python3.7/site-packages (from aiohttp>=3.7.4.post0->web3) (2.0.0)\n",
      "Requirement already satisfied: attrs>=17.3.0 in /opt/anaconda3/envs/dev/lib/python3.7/site-packages (from aiohttp>=3.7.4.post0->web3) (21.2.0)\n",
      "Collecting async-timeout<5.0,>=4.0.0a3\n",
      "  Downloading async_timeout-4.0.2-py3-none-any.whl (5.8 kB)\n",
      "Collecting parsimonious<0.10.0,>=0.9.0\n",
      "  Downloading parsimonious-0.9.0.tar.gz (48 kB)\n",
      "     |████████████████████████████████| 48 kB 6.0 MB/s             \n",
      "\u001b[?25h  Preparing metadata (setup.py) ... \u001b[?25ldone\n",
      "\u001b[?25hCollecting bitarray<3,>=2.4.0\n",
      "  Downloading bitarray-2.7.3-cp37-cp37m-macosx_10_9_x86_64.whl (120 kB)\n",
      "     |████████████████████████████████| 120 kB 11.5 MB/s            \n",
      "\u001b[?25hCollecting eth-keys<0.5,>=0.4.0\n",
      "  Downloading eth_keys-0.4.0-py3-none-any.whl (21 kB)\n",
      "Collecting eth-rlp<1,>=0.3.0\n",
      "  Downloading eth_rlp-0.3.0-py3-none-any.whl (5.0 kB)\n",
      "Collecting eth-keyfile<0.7.0,>=0.6.0\n",
      "  Downloading eth_keyfile-0.6.1-py3-none-any.whl (6.5 kB)\n",
      "Collecting rlp<4,>=1.0.0\n",
      "  Downloading rlp-3.0.0-py2.py3-none-any.whl (20 kB)\n",
      "Collecting pycryptodome<4,>=3.6.6\n",
      "  Downloading pycryptodome-3.17-cp35-abi3-macosx_10_9_x86_64.whl (1.6 MB)\n",
      "     |████████████████████████████████| 1.6 MB 9.1 MB/s            \n",
      "\u001b[?25hRequirement already satisfied: cached-property<2,>=1.5.2 in /opt/anaconda3/envs/dev/lib/python3.7/site-packages (from eth-utils>=2.1.0->web3) (1.5.2)\n",
      "Requirement already satisfied: cytoolz>=0.10.1 in /opt/anaconda3/envs/dev/lib/python3.7/site-packages (from eth-utils>=2.1.0->web3) (0.11.2)\n",
      "Requirement already satisfied: pyrsistent!=0.17.0,!=0.17.1,!=0.17.2,>=0.14.0 in /opt/anaconda3/envs/dev/lib/python3.7/site-packages (from jsonschema>=4.0.0->web3) (0.18.0)\n",
      "Requirement already satisfied: importlib-metadata in /opt/anaconda3/envs/dev/lib/python3.7/site-packages (from jsonschema>=4.0.0->web3) (4.8.2)\n",
      "Requirement already satisfied: importlib-resources>=1.4.0 in /opt/anaconda3/envs/dev/lib/python3.7/site-packages (from jsonschema>=4.0.0->web3) (5.4.0)\n",
      "Requirement already satisfied: certifi>=2017.4.17 in /opt/anaconda3/envs/dev/lib/python3.7/site-packages (from requests>=2.16.0->web3) (2021.10.8)\n",
      "Requirement already satisfied: idna<4,>=2.5 in /opt/anaconda3/envs/dev/lib/python3.7/site-packages (from requests>=2.16.0->web3) (3.1)\n",
      "Requirement already satisfied: urllib3<1.27,>=1.21.1 in /opt/anaconda3/envs/dev/lib/python3.7/site-packages (from requests>=2.16.0->web3) (1.26.7)\n",
      "Requirement already satisfied: toolz>=0.8.0 in /opt/anaconda3/envs/dev/lib/python3.7/site-packages (from cytoolz>=0.10.1->eth-utils>=2.1.0->web3) (0.11.2)\n",
      "Requirement already satisfied: zipp>=3.1.0 in /opt/anaconda3/envs/dev/lib/python3.7/site-packages (from importlib-resources>=1.4.0->jsonschema>=4.0.0->web3) (3.6.0)\n",
      "Collecting regex>=2022.3.15\n",
      "  Downloading regex-2023.5.4-cp37-cp37m-macosx_10_9_x86_64.whl (294 kB)\n",
      "     |████████████████████████████████| 294 kB 13.0 MB/s            \n",
      "\u001b[?25hBuilding wheels for collected packages: parsimonious\n",
      "  Building wheel for parsimonious (setup.py) ... \u001b[?25ldone\n",
      "\u001b[?25h  Created wheel for parsimonious: filename=parsimonious-0.9.0-py3-none-any.whl size=44316 sha256=e584fff0848a3198092ff7aa2b907ddf8d016f3f8f7aaf6aae48e06f964a24f6\n",
      "  Stored in directory: /Users/davemelillo/Library/Caches/pip/wheels/a4/54/88/c1ee7de0eabd1fb817cbf35824e4c2cba664d5816ddc64efb1\n",
      "Successfully built parsimonious\n",
      "Installing collected packages: eth-typing, eth-hash, regex, eth-utils, rlp, pycryptodome, parsimonious, multidict, hexbytes, frozenlist, eth-keys, yarl, eth-rlp, eth-keyfile, eth-abi, bitarray, asynctest, async-timeout, aiosignal, websockets, protobuf, lru-dict, eth-account, aiohttp, web3\n",
      "  Attempting uninstall: regex\n",
      "    Found existing installation: regex 2021.11.10\n",
      "    Uninstalling regex-2021.11.10:\n",
      "      Successfully uninstalled regex-2021.11.10\n",
      "  Attempting uninstall: bitarray\n",
      "    Found existing installation: bitarray 2.3.4\n",
      "    Uninstalling bitarray-2.3.4:\n",
      "      Successfully uninstalled bitarray-2.3.4\n",
      "Successfully installed aiohttp-3.8.4 aiosignal-1.3.1 async-timeout-4.0.2 asynctest-0.13.0 bitarray-2.7.3 eth-abi-4.0.0 eth-account-0.8.0 eth-hash-0.5.1 eth-keyfile-0.6.1 eth-keys-0.4.0 eth-rlp-0.3.0 eth-typing-3.3.0 eth-utils-2.1.0 frozenlist-1.3.3 hexbytes-0.3.0 lru-dict-1.1.8 multidict-6.0.4 parsimonious-0.9.0 protobuf-4.22.3 pycryptodome-3.17 regex-2023.5.4 rlp-3.0.0 web3-6.2.0 websockets-11.0.2 yarl-1.9.2\n",
      "Note: you may need to restart the kernel to use updated packages.\n"
     ]
    }
   ],
   "source": [
    "%pip install web3"
   ]
  },
  {
   "cell_type": "code",
   "execution_count": 1,
   "metadata": {
    "scrolled": true
   },
   "outputs": [],
   "source": [
    "# Imports\n",
    "from web3 import Web3, EthereumTesterProvider"
   ]
  },
  {
   "cell_type": "markdown",
   "metadata": {},
   "source": [
    "## Step 2: Define a new variable named `w3`, and set it equal to a new `Web3()` instance."
   ]
  },
  {
   "cell_type": "code",
   "execution_count": 2,
   "metadata": {},
   "outputs": [],
   "source": [
    "# Create an instance of Web3\n",
    "w3 = Web3()"
   ]
  },
  {
   "cell_type": "markdown",
   "metadata": {},
   "source": [
    "## Step 3: Define a variable named `provider`. Set this variable equal to `EthereumTesterProvider()`, and then pass it to the `Web3` instance."
   ]
  },
  {
   "cell_type": "code",
   "execution_count": 3,
   "metadata": {},
   "outputs": [
    {
     "name": "stderr",
     "output_type": "stream",
     "text": [
      "/opt/anaconda3/lib/python3.9/site-packages/eth_tester/backends/__init__.py:30: UserWarning: Ethereum Tester: No backend was explicitely set, and no *full* backends were available.  Falling back to the `MockBackend` which does not support all EVM functionality.  Please refer to the `eth-tester` documentation for information on what backends are available and how to set them.\n",
      "  warnings.warn(UserWarning(\n"
     ]
    }
   ],
   "source": [
    "# Create an instance of the EthereumTesterProvider\n",
    "provider = EthereumTesterProvider()\n",
    "\n",
    "# Pass the provider as a parameter to the Web3 instance\n",
    "w3 = Web3(provider)\n",
    "\n"
   ]
  },
  {
   "cell_type": "markdown",
   "metadata": {},
   "source": [
    "## Step 4: Call `w3.eth.get_block('latest')`, and print the result to check that your mock blockchain is working."
   ]
  },
  {
   "cell_type": "code",
   "execution_count": 4,
   "metadata": {},
   "outputs": [
    {
     "name": "stdout",
     "output_type": "stream",
     "text": [
      "AttributeDict({'number': 0, 'parentHash': HexBytes('0x0000000000000000000000000000000000000000000000000000000000000000'), 'nonce': HexBytes('0x000000000000002a'), 'sha3Uncles': HexBytes('0x1dcc4de8dec75d7aab85b567b6ccd41ad312451b948a7413f0a142fd40d49347'), 'logs_bloom': 0, 'transactionsRoot': HexBytes('0x56e81f171bcc55a6ff8345e692c0f86e5b48e01b996cadc001622fb5e363b421'), 'receipts_root': '0x56e81f171bcc55a6ff8345e692c0f86e5b48e01b996cadc001622fb5e363b421', 'stateRoot': HexBytes('0x56e81f171bcc55a6ff8345e692c0f86e5b48e01b996cadc001622fb5e363b421'), 'miner': '0x0000000000000000000000000000000000000000', 'difficulty': 131072, 'totalDifficulty': 131072, 'size': 0, 'extraData': HexBytes('0x0000000000000000000000000000000000000000000000000000000000000000'), 'gasLimit': 3141592, 'gasUsed': 0, 'timestamp': 1683072801, 'transactions': [], 'uncles': [], 'hash': HexBytes('0x7639fcc2404168cec4597c27acf6f29d674d13f9d3e4d284e0d8ea0242be49b6')})\n"
     ]
    }
   ],
   "source": [
    "# Access information for the most recent block created on the mock blockchain\n",
    "print(w3.eth.get_block('latest'))"
   ]
  },
  {
   "cell_type": "markdown",
   "metadata": {},
   "source": [
    "## Step 5: Call `w3.eth.accounts`, and print the result to view your available accounts on the blockchain."
   ]
  },
  {
   "cell_type": "code",
   "execution_count": 5,
   "metadata": {},
   "outputs": [
    {
     "name": "stdout",
     "output_type": "stream",
     "text": [
      "['0xaBbACadABa000000000000000000000000000000', '0xaBbACaDaBA000000000000000000000000000001', '0xAbbAcaDaBA000000000000000000000000000002', '0xabBACadaBA000000000000000000000000000003', '0xabbAcADABa000000000000000000000000000004', '0xaBBACADABA000000000000000000000000000005', '0xaBbaCadaBA000000000000000000000000000006', '0xAbbAcAdaBA000000000000000000000000000007', '0xaBBAcadabA000000000000000000000000000008', '0xABbacaDabA000000000000000000000000000009']\n"
     ]
    }
   ],
   "source": [
    "# Print a list of accounts on the mock blockchain\n",
    "print(w3.eth.accounts)"
   ]
  },
  {
   "cell_type": "markdown",
   "metadata": {},
   "source": [
    "## Step 6: Call `w3.eth.get_balance()`, and pass it to one of your available addresses as a string to check the balance of the account on the chain. Save the balance as a variable named `wei_balance`."
   ]
  },
  {
   "cell_type": "code",
   "execution_count": 6,
   "metadata": {
    "scrolled": true
   },
   "outputs": [
    {
     "name": "stdout",
     "output_type": "stream",
     "text": [
      "1000000000000000000000000\n"
     ]
    }
   ],
   "source": [
    "# Access the balance of an account using an address from Step 5.\n",
    "wei_balance = w3.eth.get_balance(\"0xaBbACadABa000000000000000000000000000000\")\n",
    "\n",
    "# Print the balance of the account in wei\n",
    "print(wei_balance)"
   ]
  },
  {
   "cell_type": "markdown",
   "metadata": {},
   "source": [
    "## Step 7: Use the `w3.fromWei` function to convert your balance from wei to ether."
   ]
  },
  {
   "cell_type": "code",
   "execution_count": 7,
   "metadata": {},
   "outputs": [
    {
     "name": "stdout",
     "output_type": "stream",
     "text": [
      "1000000\n"
     ]
    }
   ],
   "source": [
    "# Convert the balance from wei to ether\n",
    "eth_balance = w3.fromWei(wei_balance, \"ether\")\n",
    "\n",
    "# Print the balance in ether\n",
    "print(eth_balance)"
   ]
  },
  {
   "cell_type": "code",
   "execution_count": null,
   "metadata": {},
   "outputs": [],
   "source": []
  }
 ],
 "metadata": {
  "kernelspec": {
   "display_name": "Python [conda env:root] *",
   "language": "python",
   "name": "conda-root-py"
  },
  "language_info": {
   "codemirror_mode": {
    "name": "ipython",
    "version": 3
   },
   "file_extension": ".py",
   "mimetype": "text/x-python",
   "name": "python",
   "nbconvert_exporter": "python",
   "pygments_lexer": "ipython3",
   "version": "3.9.10"
  }
 },
 "nbformat": 4,
 "nbformat_minor": 4
}
