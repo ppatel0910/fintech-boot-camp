{
 "cells": [
  {
   "cell_type": "markdown",
   "metadata": {},
   "source": [
    "# Ethereum through Web3.py\n",
    "\n",
    "In this activity, you will use Web3.py to connect to a local mock development blockchain instance and check the available balances in the ledger.\n",
    "\n",
    "## Instructions\n",
    "\n",
    "Complete each of the following steps:\n",
    "\n",
    "1. From the Web3.py library, import `Web3` and the `EthereumTesterProvider`.\n",
    "\n",
    "\n",
    "2. Define a new variable named `w3`, and set it equal to a new `Web3()` instance.\n",
    "\n",
    "\n",
    "3. Define a variable named `provider`. Set this variable equal to `EthereumTesterProvider()`, and then pass it to the `Web3` instance.\n",
    "\n",
    "4. Call `w3.eth.get_block('latest')`, and print the result to check that your mock blockchain is working.\n",
    "\n",
    "\n",
    "5. Call `w3.eth.accounts`, and print the result to view your available accounts on the blockchain.\n",
    "\n",
    "\n",
    "6. Call `w3.eth.get_balance()`, and pass it to one of your available addresses as a string to check the balance of the account on the chain. Save the balance as a variable named `wei_balance`.\n",
    "\n",
    "\n",
    "7. Use the `w3.fromWei` function to convert your balance from wei to ether.\n",
    "\n",
    "## References\n",
    "\n",
    "[Web3.py](https://web3py.readthedocs.io/en/stable/)\n",
    "\n",
    "[EthereumTestProvider](https://web3py.readthedocs.io/en/stable/providers.html#ethereumtesterprovider)\n",
    "\n",
    "[Ethereum](https://ethereum.org/en/developers/docs/)\n"
   ]
  },
  {
   "cell_type": "markdown",
   "metadata": {},
   "source": [
    "## Step 1: From the Web3.py library, import `Web3` and the `EthereumTesterProvider`."
   ]
  },
  {
   "cell_type": "code",
   "execution_count": 12,
   "metadata": {
    "scrolled": true
   },
   "outputs": [
    {
     "name": "stdout",
     "output_type": "stream",
     "text": [
      "Requirement already satisfied: web3 in c:\\users\\ppate\\anaconda3\\lib\\site-packages (5.25.0)\n",
      "Requirement already satisfied: aiohttp<4,>=3.7.4.post0 in c:\\users\\ppate\\anaconda3\\lib\\site-packages (from web3) (3.9.0)\n",
      "Requirement already satisfied: eth-abi<3.0.0,>=2.0.0b6 in c:\\users\\ppate\\anaconda3\\lib\\site-packages (from web3) (2.2.0)\n",
      "Requirement already satisfied: eth-account<0.6.0,>=0.5.6 in c:\\users\\ppate\\anaconda3\\lib\\site-packages (from web3) (0.5.9)\n",
      "Requirement already satisfied: eth-hash[pycryptodome]<1.0.0,>=0.2.0 in c:\\users\\ppate\\anaconda3\\lib\\site-packages (from web3) (0.6.0)\n",
      "Requirement already satisfied: eth-typing<3.0.0,>=2.0.0 in c:\\users\\ppate\\anaconda3\\lib\\site-packages (from web3) (2.3.0)\n",
      "Requirement already satisfied: eth-utils<2.0.0,>=1.9.5 in c:\\users\\ppate\\anaconda3\\lib\\site-packages (from web3) (1.9.5)\n",
      "Requirement already satisfied: hexbytes<1.0.0,>=0.1.0 in c:\\users\\ppate\\anaconda3\\lib\\site-packages (from web3) (0.3.1)\n",
      "Requirement already satisfied: ipfshttpclient==0.8.0a2 in c:\\users\\ppate\\anaconda3\\lib\\site-packages (from web3) (0.8.0a2)\n",
      "Requirement already satisfied: jsonschema<4.0.0,>=3.2.0 in c:\\users\\ppate\\anaconda3\\lib\\site-packages (from web3) (3.2.0)\n",
      "Requirement already satisfied: lru-dict<2.0.0,>=1.1.6 in c:\\users\\ppate\\anaconda3\\lib\\site-packages (from web3) (1.3.0)\n",
      "Requirement already satisfied: protobuf<4,>=3.10.0 in c:\\users\\ppate\\anaconda3\\lib\\site-packages (from web3) (3.20.3)\n",
      "Requirement already satisfied: requests<3.0.0,>=2.16.0 in c:\\users\\ppate\\anaconda3\\lib\\site-packages (from web3) (2.31.0)\n",
      "Requirement already satisfied: websockets<10,>=9.1 in c:\\users\\ppate\\anaconda3\\lib\\site-packages (from web3) (9.1)\n",
      "Requirement already satisfied: pywin32>=223 in c:\\users\\ppate\\anaconda3\\lib\\site-packages (from web3) (305.1)\n",
      "Requirement already satisfied: multiaddr>=0.0.7 in c:\\users\\ppate\\anaconda3\\lib\\site-packages (from ipfshttpclient==0.8.0a2->web3) (0.0.9)\n",
      "Requirement already satisfied: attrs>=17.3.0 in c:\\users\\ppate\\anaconda3\\lib\\site-packages (from aiohttp<4,>=3.7.4.post0->web3) (23.1.0)\n",
      "Requirement already satisfied: multidict<7.0,>=4.5 in c:\\users\\ppate\\anaconda3\\lib\\site-packages (from aiohttp<4,>=3.7.4.post0->web3) (6.0.4)\n",
      "Requirement already satisfied: yarl<2.0,>=1.0 in c:\\users\\ppate\\anaconda3\\lib\\site-packages (from aiohttp<4,>=3.7.4.post0->web3) (1.9.3)\n",
      "Requirement already satisfied: frozenlist>=1.1.1 in c:\\users\\ppate\\anaconda3\\lib\\site-packages (from aiohttp<4,>=3.7.4.post0->web3) (1.4.0)\n",
      "Requirement already satisfied: aiosignal>=1.1.2 in c:\\users\\ppate\\anaconda3\\lib\\site-packages (from aiohttp<4,>=3.7.4.post0->web3) (1.2.0)\n",
      "Requirement already satisfied: parsimonious<0.9.0,>=0.8.0 in c:\\users\\ppate\\anaconda3\\lib\\site-packages (from eth-abi<3.0.0,>=2.0.0b6->web3) (0.8.1)\n",
      "Requirement already satisfied: bitarray<3,>=1.2.1 in c:\\users\\ppate\\anaconda3\\lib\\site-packages (from eth-account<0.6.0,>=0.5.6->web3) (2.9.2)\n",
      "Requirement already satisfied: eth-keyfile<0.6.0,>=0.5.0 in c:\\users\\ppate\\anaconda3\\lib\\site-packages (from eth-account<0.6.0,>=0.5.6->web3) (0.5.1)\n",
      "Requirement already satisfied: eth-keys<0.4.0,>=0.3.4 in c:\\users\\ppate\\anaconda3\\lib\\site-packages (from eth-account<0.6.0,>=0.5.6->web3) (0.3.4)\n",
      "Requirement already satisfied: eth-rlp<2,>=0.1.2 in c:\\users\\ppate\\anaconda3\\lib\\site-packages (from eth-account<0.6.0,>=0.5.6->web3) (0.2.1)\n",
      "Requirement already satisfied: rlp<3,>=1.0.0 in c:\\users\\ppate\\anaconda3\\lib\\site-packages (from eth-account<0.6.0,>=0.5.6->web3) (2.0.1)\n",
      "Requirement already satisfied: pycryptodome<4,>=3.6.6 in c:\\users\\ppate\\anaconda3\\lib\\site-packages (from eth-hash[pycryptodome]<1.0.0,>=0.2.0->web3) (3.20.0)\n",
      "Requirement already satisfied: cytoolz<1.0.0,>=0.10.1 in c:\\users\\ppate\\anaconda3\\lib\\site-packages (from eth-utils<2.0.0,>=1.9.5->web3) (0.12.2)\n",
      "Requirement already satisfied: pyrsistent>=0.14.0 in c:\\users\\ppate\\anaconda3\\lib\\site-packages (from jsonschema<4.0.0,>=3.2.0->web3) (0.20.0)\n",
      "Requirement already satisfied: setuptools in c:\\users\\ppate\\anaconda3\\lib\\site-packages (from jsonschema<4.0.0,>=3.2.0->web3) (68.0.0)\n",
      "Requirement already satisfied: six>=1.11.0 in c:\\users\\ppate\\anaconda3\\lib\\site-packages (from jsonschema<4.0.0,>=3.2.0->web3) (1.16.0)\n",
      "Requirement already satisfied: charset-normalizer<4,>=2 in c:\\users\\ppate\\anaconda3\\lib\\site-packages (from requests<3.0.0,>=2.16.0->web3) (2.0.4)\n",
      "Requirement already satisfied: idna<4,>=2.5 in c:\\users\\ppate\\anaconda3\\lib\\site-packages (from requests<3.0.0,>=2.16.0->web3) (3.4)\n",
      "Requirement already satisfied: urllib3<3,>=1.21.1 in c:\\users\\ppate\\anaconda3\\lib\\site-packages (from requests<3.0.0,>=2.16.0->web3) (1.26.18)\n",
      "Requirement already satisfied: certifi>=2017.4.17 in c:\\users\\ppate\\anaconda3\\lib\\site-packages (from requests<3.0.0,>=2.16.0->web3) (2023.11.17)\n",
      "Requirement already satisfied: toolz>=0.8.0 in c:\\users\\ppate\\anaconda3\\lib\\site-packages (from cytoolz<1.0.0,>=0.10.1->eth-utils<2.0.0,>=1.9.5->web3) (0.12.0)\n",
      "Requirement already satisfied: varint in c:\\users\\ppate\\anaconda3\\lib\\site-packages (from multiaddr>=0.0.7->ipfshttpclient==0.8.0a2->web3) (1.0.2)\n",
      "Requirement already satisfied: base58 in c:\\users\\ppate\\anaconda3\\lib\\site-packages (from multiaddr>=0.0.7->ipfshttpclient==0.8.0a2->web3) (2.1.1)\n",
      "Requirement already satisfied: netaddr in c:\\users\\ppate\\anaconda3\\lib\\site-packages (from multiaddr>=0.0.7->ipfshttpclient==0.8.0a2->web3) (0.10.1)\n",
      "Note: you may need to restart the kernel to use updated packages.\n"
     ]
    },
    {
     "ename": "ImportError",
     "evalue": "cannot import name 'getargspec' from 'inspect' (C:\\Users\\ppate\\anaconda3\\Lib\\inspect.py)",
     "output_type": "error",
     "traceback": [
      "\u001b[1;31m---------------------------------------------------------------------------\u001b[0m",
      "\u001b[1;31mImportError\u001b[0m                               Traceback (most recent call last)",
      "Cell \u001b[1;32mIn[12], line 3\u001b[0m\n\u001b[0;32m      1\u001b[0m get_ipython()\u001b[38;5;241m.\u001b[39mrun_line_magic(\u001b[38;5;124m'\u001b[39m\u001b[38;5;124mpip\u001b[39m\u001b[38;5;124m'\u001b[39m, \u001b[38;5;124m'\u001b[39m\u001b[38;5;124minstall web3\u001b[39m\u001b[38;5;124m'\u001b[39m)\n\u001b[0;32m      2\u001b[0m \u001b[38;5;66;03m# Imports\u001b[39;00m\n\u001b[1;32m----> 3\u001b[0m \u001b[38;5;28;01mfrom\u001b[39;00m \u001b[38;5;21;01mweb3\u001b[39;00m \u001b[38;5;28;01mimport\u001b[39;00m Web3, EthereumTesterProvider\n",
      "File \u001b[1;32m~\\anaconda3\\Lib\\site-packages\\web3\\__init__.py:6\u001b[0m\n\u001b[0;32m      2\u001b[0m \u001b[38;5;28;01mimport\u001b[39;00m \u001b[38;5;21;01mwarnings\u001b[39;00m\n\u001b[0;32m      4\u001b[0m \u001b[38;5;28;01mimport\u001b[39;00m \u001b[38;5;21;01mpkg_resources\u001b[39;00m\n\u001b[1;32m----> 6\u001b[0m \u001b[38;5;28;01mfrom\u001b[39;00m \u001b[38;5;21;01meth_account\u001b[39;00m \u001b[38;5;28;01mimport\u001b[39;00m (\n\u001b[0;32m      7\u001b[0m     Account  \u001b[38;5;66;03m# noqa: E402,\u001b[39;00m\n\u001b[0;32m      8\u001b[0m )\n\u001b[0;32m      9\u001b[0m \u001b[38;5;28;01mfrom\u001b[39;00m \u001b[38;5;21;01mweb3\u001b[39;00m\u001b[38;5;21;01m.\u001b[39;00m\u001b[38;5;21;01mmain\u001b[39;00m \u001b[38;5;28;01mimport\u001b[39;00m (\n\u001b[0;32m     10\u001b[0m     Web3  \u001b[38;5;66;03m# noqa: E402,\u001b[39;00m\n\u001b[0;32m     11\u001b[0m )\n\u001b[0;32m     12\u001b[0m \u001b[38;5;28;01mfrom\u001b[39;00m \u001b[38;5;21;01mweb3\u001b[39;00m\u001b[38;5;21;01m.\u001b[39;00m\u001b[38;5;21;01mproviders\u001b[39;00m\u001b[38;5;21;01m.\u001b[39;00m\u001b[38;5;21;01meth_tester\u001b[39;00m \u001b[38;5;28;01mimport\u001b[39;00m (  \u001b[38;5;66;03m# noqa: E402\u001b[39;00m\n\u001b[0;32m     13\u001b[0m     EthereumTesterProvider,\n\u001b[0;32m     14\u001b[0m )\n",
      "File \u001b[1;32m~\\anaconda3\\Lib\\site-packages\\eth_account\\__init__.py:1\u001b[0m\n\u001b[1;32m----> 1\u001b[0m \u001b[38;5;28;01mfrom\u001b[39;00m \u001b[38;5;21;01meth_account\u001b[39;00m\u001b[38;5;21;01m.\u001b[39;00m\u001b[38;5;21;01maccount\u001b[39;00m \u001b[38;5;28;01mimport\u001b[39;00m (\n\u001b[0;32m      2\u001b[0m     Account,\n\u001b[0;32m      3\u001b[0m )\n\u001b[0;32m      5\u001b[0m __all__ \u001b[38;5;241m=\u001b[39m [\u001b[38;5;124m\"\u001b[39m\u001b[38;5;124mAccount\u001b[39m\u001b[38;5;124m\"\u001b[39m]\n",
      "File \u001b[1;32m~\\anaconda3\\Lib\\site-packages\\eth_account\\account.py:59\u001b[0m\n\u001b[0;32m     49\u001b[0m \u001b[38;5;28;01mfrom\u001b[39;00m \u001b[38;5;21;01meth_account\u001b[39;00m\u001b[38;5;21;01m.\u001b[39;00m\u001b[38;5;21;01mdatastructures\u001b[39;00m \u001b[38;5;28;01mimport\u001b[39;00m (\n\u001b[0;32m     50\u001b[0m     SignedMessage,\n\u001b[0;32m     51\u001b[0m     SignedTransaction,\n\u001b[0;32m     52\u001b[0m )\n\u001b[0;32m     53\u001b[0m \u001b[38;5;28;01mfrom\u001b[39;00m \u001b[38;5;21;01meth_account\u001b[39;00m\u001b[38;5;21;01m.\u001b[39;00m\u001b[38;5;21;01mhdaccount\u001b[39;00m \u001b[38;5;28;01mimport\u001b[39;00m (\n\u001b[0;32m     54\u001b[0m     ETHEREUM_DEFAULT_PATH,\n\u001b[0;32m     55\u001b[0m     generate_mnemonic,\n\u001b[0;32m     56\u001b[0m     key_from_seed,\n\u001b[0;32m     57\u001b[0m     seed_from_mnemonic,\n\u001b[0;32m     58\u001b[0m )\n\u001b[1;32m---> 59\u001b[0m \u001b[38;5;28;01mfrom\u001b[39;00m \u001b[38;5;21;01meth_account\u001b[39;00m\u001b[38;5;21;01m.\u001b[39;00m\u001b[38;5;21;01mmessages\u001b[39;00m \u001b[38;5;28;01mimport\u001b[39;00m (\n\u001b[0;32m     60\u001b[0m     SignableMessage,\n\u001b[0;32m     61\u001b[0m     _hash_eip191_message,\n\u001b[0;32m     62\u001b[0m )\n\u001b[0;32m     63\u001b[0m \u001b[38;5;28;01mfrom\u001b[39;00m \u001b[38;5;21;01meth_account\u001b[39;00m\u001b[38;5;21;01m.\u001b[39;00m\u001b[38;5;21;01msigners\u001b[39;00m\u001b[38;5;21;01m.\u001b[39;00m\u001b[38;5;21;01mlocal\u001b[39;00m \u001b[38;5;28;01mimport\u001b[39;00m (\n\u001b[0;32m     64\u001b[0m     LocalAccount,\n\u001b[0;32m     65\u001b[0m )\n\u001b[0;32m     68\u001b[0m \u001b[38;5;28;01mclass\u001b[39;00m \u001b[38;5;21;01mAccount\u001b[39;00m(\u001b[38;5;28mobject\u001b[39m):\n",
      "File \u001b[1;32m~\\anaconda3\\Lib\\site-packages\\eth_account\\messages.py:26\u001b[0m\n\u001b[0;32m     14\u001b[0m \u001b[38;5;28;01mfrom\u001b[39;00m \u001b[38;5;21;01meth_utils\u001b[39;00m\u001b[38;5;21;01m.\u001b[39;00m\u001b[38;5;21;01mcurried\u001b[39;00m \u001b[38;5;28;01mimport\u001b[39;00m (\n\u001b[0;32m     15\u001b[0m     ValidationError,\n\u001b[0;32m     16\u001b[0m     keccak,\n\u001b[1;32m   (...)\u001b[0m\n\u001b[0;32m     20\u001b[0m     to_text,\n\u001b[0;32m     21\u001b[0m )\n\u001b[0;32m     22\u001b[0m \u001b[38;5;28;01mfrom\u001b[39;00m \u001b[38;5;21;01mhexbytes\u001b[39;00m \u001b[38;5;28;01mimport\u001b[39;00m (\n\u001b[0;32m     23\u001b[0m     HexBytes,\n\u001b[0;32m     24\u001b[0m )\n\u001b[1;32m---> 26\u001b[0m \u001b[38;5;28;01mfrom\u001b[39;00m \u001b[38;5;21;01meth_account\u001b[39;00m\u001b[38;5;21;01m.\u001b[39;00m\u001b[38;5;21;01m_utils\u001b[39;00m\u001b[38;5;21;01m.\u001b[39;00m\u001b[38;5;21;01mstructured_data\u001b[39;00m\u001b[38;5;21;01m.\u001b[39;00m\u001b[38;5;21;01mhashing\u001b[39;00m \u001b[38;5;28;01mimport\u001b[39;00m (\n\u001b[0;32m     27\u001b[0m     hash_domain,\n\u001b[0;32m     28\u001b[0m     hash_message \u001b[38;5;28;01mas\u001b[39;00m hash_eip712_message,\n\u001b[0;32m     29\u001b[0m     load_and_validate_structured_message,\n\u001b[0;32m     30\u001b[0m )\n\u001b[0;32m     31\u001b[0m \u001b[38;5;28;01mfrom\u001b[39;00m \u001b[38;5;21;01meth_account\u001b[39;00m\u001b[38;5;21;01m.\u001b[39;00m\u001b[38;5;21;01m_utils\u001b[39;00m\u001b[38;5;21;01m.\u001b[39;00m\u001b[38;5;21;01mvalidation\u001b[39;00m \u001b[38;5;28;01mimport\u001b[39;00m (\n\u001b[0;32m     32\u001b[0m     is_valid_address,\n\u001b[0;32m     33\u001b[0m )\n\u001b[0;32m     35\u001b[0m text_to_bytes \u001b[38;5;241m=\u001b[39m text_if_str(to_bytes)\n",
      "File \u001b[1;32m~\\anaconda3\\Lib\\site-packages\\eth_account\\_utils\\structured_data\\hashing.py:9\u001b[0m\n\u001b[0;32m      4\u001b[0m \u001b[38;5;28;01mimport\u001b[39;00m \u001b[38;5;21;01mjson\u001b[39;00m\n\u001b[0;32m      5\u001b[0m \u001b[38;5;28;01mfrom\u001b[39;00m \u001b[38;5;21;01moperator\u001b[39;00m \u001b[38;5;28;01mimport\u001b[39;00m (\n\u001b[0;32m      6\u001b[0m     itemgetter,\n\u001b[0;32m      7\u001b[0m )\n\u001b[1;32m----> 9\u001b[0m \u001b[38;5;28;01mfrom\u001b[39;00m \u001b[38;5;21;01meth_abi\u001b[39;00m \u001b[38;5;28;01mimport\u001b[39;00m (\n\u001b[0;32m     10\u001b[0m     encode_abi,\n\u001b[0;32m     11\u001b[0m     is_encodable,\n\u001b[0;32m     12\u001b[0m     is_encodable_type,\n\u001b[0;32m     13\u001b[0m )\n\u001b[0;32m     14\u001b[0m \u001b[38;5;28;01mfrom\u001b[39;00m \u001b[38;5;21;01meth_abi\u001b[39;00m\u001b[38;5;21;01m.\u001b[39;00m\u001b[38;5;21;01mgrammar\u001b[39;00m \u001b[38;5;28;01mimport\u001b[39;00m (\n\u001b[0;32m     15\u001b[0m     parse,\n\u001b[0;32m     16\u001b[0m )\n\u001b[0;32m     17\u001b[0m \u001b[38;5;28;01mfrom\u001b[39;00m \u001b[38;5;21;01meth_utils\u001b[39;00m \u001b[38;5;28;01mimport\u001b[39;00m (\n\u001b[0;32m     18\u001b[0m     ValidationError,\n\u001b[0;32m     19\u001b[0m     keccak,\n\u001b[0;32m     20\u001b[0m     to_tuple,\n\u001b[0;32m     21\u001b[0m     toolz,\n\u001b[0;32m     22\u001b[0m )\n",
      "File \u001b[1;32m~\\anaconda3\\Lib\\site-packages\\eth_abi\\__init__.py:6\u001b[0m\n\u001b[0;32m      2\u001b[0m \u001b[38;5;28;01mimport\u001b[39;00m \u001b[38;5;21;01mwarnings\u001b[39;00m\n\u001b[0;32m      4\u001b[0m \u001b[38;5;28;01mimport\u001b[39;00m \u001b[38;5;21;01mpkg_resources\u001b[39;00m\n\u001b[1;32m----> 6\u001b[0m \u001b[38;5;28;01mfrom\u001b[39;00m \u001b[38;5;21;01meth_abi\u001b[39;00m\u001b[38;5;21;01m.\u001b[39;00m\u001b[38;5;21;01mabi\u001b[39;00m \u001b[38;5;28;01mimport\u001b[39;00m (  \u001b[38;5;66;03m# NOQA\u001b[39;00m\n\u001b[0;32m      7\u001b[0m     decode,\n\u001b[0;32m      8\u001b[0m     decode_abi,\n\u001b[0;32m      9\u001b[0m     decode_single,\n\u001b[0;32m     10\u001b[0m     encode,\n\u001b[0;32m     11\u001b[0m     encode_abi,\n\u001b[0;32m     12\u001b[0m     encode_single,\n\u001b[0;32m     13\u001b[0m     is_encodable,\n\u001b[0;32m     14\u001b[0m     is_encodable_type,\n\u001b[0;32m     15\u001b[0m )\n\u001b[0;32m     17\u001b[0m \u001b[38;5;28;01mif\u001b[39;00m sys\u001b[38;5;241m.\u001b[39mversion_info[\u001b[38;5;241m1\u001b[39m] \u001b[38;5;241m==\u001b[39m \u001b[38;5;241m6\u001b[39m:\n\u001b[0;32m     18\u001b[0m     \u001b[38;5;66;03m# reference setup.py -> python_requires\u001b[39;00m\n\u001b[0;32m     19\u001b[0m     warnings\u001b[38;5;241m.\u001b[39mwarn(\n\u001b[0;32m     20\u001b[0m         \u001b[38;5;124m\"\u001b[39m\u001b[38;5;124meth-abi version 3.0.0 will no longer support Python 3.6\u001b[39m\u001b[38;5;124m\"\u001b[39m,\n\u001b[0;32m     21\u001b[0m         category\u001b[38;5;241m=\u001b[39m\u001b[38;5;167;01mDeprecationWarning\u001b[39;00m,\n\u001b[0;32m     22\u001b[0m         stacklevel\u001b[38;5;241m=\u001b[39m\u001b[38;5;241m2\u001b[39m\n\u001b[0;32m     23\u001b[0m     )\n",
      "File \u001b[1;32m~\\anaconda3\\Lib\\site-packages\\eth_abi\\abi.py:1\u001b[0m\n\u001b[1;32m----> 1\u001b[0m \u001b[38;5;28;01mfrom\u001b[39;00m \u001b[38;5;21;01meth_abi\u001b[39;00m\u001b[38;5;21;01m.\u001b[39;00m\u001b[38;5;21;01mcodec\u001b[39;00m \u001b[38;5;28;01mimport\u001b[39;00m (\n\u001b[0;32m      2\u001b[0m     ABICodec,\n\u001b[0;32m      3\u001b[0m )\n\u001b[0;32m      4\u001b[0m \u001b[38;5;28;01mfrom\u001b[39;00m \u001b[38;5;21;01meth_abi\u001b[39;00m\u001b[38;5;21;01m.\u001b[39;00m\u001b[38;5;21;01mregistry\u001b[39;00m \u001b[38;5;28;01mimport\u001b[39;00m (\n\u001b[0;32m      5\u001b[0m     registry,\n\u001b[0;32m      6\u001b[0m )\n\u001b[0;32m      8\u001b[0m default_codec \u001b[38;5;241m=\u001b[39m ABICodec(registry)\n",
      "File \u001b[1;32m~\\anaconda3\\Lib\\site-packages\\eth_abi\\codec.py:16\u001b[0m\n\u001b[0;32m      8\u001b[0m \u001b[38;5;28;01mfrom\u001b[39;00m \u001b[38;5;21;01meth_typing\u001b[39;00m\u001b[38;5;21;01m.\u001b[39;00m\u001b[38;5;21;01mabi\u001b[39;00m \u001b[38;5;28;01mimport\u001b[39;00m (\n\u001b[0;32m      9\u001b[0m     Decodable,\n\u001b[0;32m     10\u001b[0m     TypeStr,\n\u001b[0;32m     11\u001b[0m )\n\u001b[0;32m     12\u001b[0m \u001b[38;5;28;01mfrom\u001b[39;00m \u001b[38;5;21;01meth_utils\u001b[39;00m \u001b[38;5;28;01mimport\u001b[39;00m (\n\u001b[0;32m     13\u001b[0m     is_bytes,\n\u001b[0;32m     14\u001b[0m )\n\u001b[1;32m---> 16\u001b[0m \u001b[38;5;28;01mfrom\u001b[39;00m \u001b[38;5;21;01meth_abi\u001b[39;00m\u001b[38;5;21;01m.\u001b[39;00m\u001b[38;5;21;01mdecoding\u001b[39;00m \u001b[38;5;28;01mimport\u001b[39;00m (\n\u001b[0;32m     17\u001b[0m     ContextFramesBytesIO,\n\u001b[0;32m     18\u001b[0m     TupleDecoder,\n\u001b[0;32m     19\u001b[0m )\n\u001b[0;32m     20\u001b[0m \u001b[38;5;28;01mfrom\u001b[39;00m \u001b[38;5;21;01meth_abi\u001b[39;00m\u001b[38;5;21;01m.\u001b[39;00m\u001b[38;5;21;01mencoding\u001b[39;00m \u001b[38;5;28;01mimport\u001b[39;00m (\n\u001b[0;32m     21\u001b[0m     TupleEncoder,\n\u001b[0;32m     22\u001b[0m )\n\u001b[0;32m     23\u001b[0m \u001b[38;5;28;01mfrom\u001b[39;00m \u001b[38;5;21;01meth_abi\u001b[39;00m\u001b[38;5;21;01m.\u001b[39;00m\u001b[38;5;21;01mexceptions\u001b[39;00m \u001b[38;5;28;01mimport\u001b[39;00m (\n\u001b[0;32m     24\u001b[0m     EncodingError,\n\u001b[0;32m     25\u001b[0m )\n",
      "File \u001b[1;32m~\\anaconda3\\Lib\\site-packages\\eth_abi\\decoding.py:14\u001b[0m\n\u001b[0;32m      4\u001b[0m \u001b[38;5;28;01mfrom\u001b[39;00m \u001b[38;5;21;01mtyping\u001b[39;00m \u001b[38;5;28;01mimport\u001b[39;00m (\n\u001b[0;32m      5\u001b[0m     Any,\n\u001b[0;32m      6\u001b[0m )\n\u001b[0;32m      8\u001b[0m \u001b[38;5;28;01mfrom\u001b[39;00m \u001b[38;5;21;01meth_utils\u001b[39;00m \u001b[38;5;28;01mimport\u001b[39;00m (\n\u001b[0;32m      9\u001b[0m     big_endian_to_int,\n\u001b[0;32m     10\u001b[0m     to_normalized_address,\n\u001b[0;32m     11\u001b[0m     to_tuple,\n\u001b[0;32m     12\u001b[0m )\n\u001b[1;32m---> 14\u001b[0m \u001b[38;5;28;01mfrom\u001b[39;00m \u001b[38;5;21;01meth_abi\u001b[39;00m\u001b[38;5;21;01m.\u001b[39;00m\u001b[38;5;21;01mbase\u001b[39;00m \u001b[38;5;28;01mimport\u001b[39;00m (\n\u001b[0;32m     15\u001b[0m     BaseCoder,\n\u001b[0;32m     16\u001b[0m     parse_tuple_type_str,\n\u001b[0;32m     17\u001b[0m     parse_type_str,\n\u001b[0;32m     18\u001b[0m )\n\u001b[0;32m     19\u001b[0m \u001b[38;5;28;01mfrom\u001b[39;00m \u001b[38;5;21;01meth_abi\u001b[39;00m\u001b[38;5;21;01m.\u001b[39;00m\u001b[38;5;21;01mexceptions\u001b[39;00m \u001b[38;5;28;01mimport\u001b[39;00m (\n\u001b[0;32m     20\u001b[0m     DecodingError,\n\u001b[0;32m     21\u001b[0m     InsufficientDataBytes,\n\u001b[0;32m     22\u001b[0m     NonEmptyPaddingBytes,\n\u001b[0;32m     23\u001b[0m )\n\u001b[0;32m     24\u001b[0m \u001b[38;5;28;01mfrom\u001b[39;00m \u001b[38;5;21;01meth_abi\u001b[39;00m\u001b[38;5;21;01m.\u001b[39;00m\u001b[38;5;21;01mutils\u001b[39;00m\u001b[38;5;21;01m.\u001b[39;00m\u001b[38;5;21;01mnumeric\u001b[39;00m \u001b[38;5;28;01mimport\u001b[39;00m (\n\u001b[0;32m     25\u001b[0m     TEN,\n\u001b[0;32m     26\u001b[0m     abi_decimal_context,\n\u001b[0;32m     27\u001b[0m     ceil32,\n\u001b[0;32m     28\u001b[0m )\n",
      "File \u001b[1;32m~\\anaconda3\\Lib\\site-packages\\eth_abi\\base.py:7\u001b[0m\n\u001b[0;32m      1\u001b[0m \u001b[38;5;28;01mimport\u001b[39;00m \u001b[38;5;21;01mfunctools\u001b[39;00m\n\u001b[0;32m      3\u001b[0m \u001b[38;5;28;01mfrom\u001b[39;00m \u001b[38;5;21;01meth_typing\u001b[39;00m\u001b[38;5;21;01m.\u001b[39;00m\u001b[38;5;21;01mabi\u001b[39;00m \u001b[38;5;28;01mimport\u001b[39;00m (\n\u001b[0;32m      4\u001b[0m     TypeStr,\n\u001b[0;32m      5\u001b[0m )\n\u001b[1;32m----> 7\u001b[0m \u001b[38;5;28;01mfrom\u001b[39;00m \u001b[38;5;21;01m.\u001b[39;00m\u001b[38;5;21;01mgrammar\u001b[39;00m \u001b[38;5;28;01mimport\u001b[39;00m (\n\u001b[0;32m      8\u001b[0m     BasicType,\n\u001b[0;32m      9\u001b[0m     TupleType,\n\u001b[0;32m     10\u001b[0m     normalize,\n\u001b[0;32m     11\u001b[0m     parse,\n\u001b[0;32m     12\u001b[0m )\n\u001b[0;32m     15\u001b[0m \u001b[38;5;28;01mdef\u001b[39;00m \u001b[38;5;21mparse_type_str\u001b[39m(expected_base\u001b[38;5;241m=\u001b[39m\u001b[38;5;28;01mNone\u001b[39;00m, with_arrlist\u001b[38;5;241m=\u001b[39m\u001b[38;5;28;01mFalse\u001b[39;00m):\n\u001b[0;32m     16\u001b[0m \u001b[38;5;250m    \u001b[39m\u001b[38;5;124;03m\"\"\"\u001b[39;00m\n\u001b[0;32m     17\u001b[0m \u001b[38;5;124;03m    Used by BaseCoder subclasses as a convenience for implementing the\u001b[39;00m\n\u001b[0;32m     18\u001b[0m \u001b[38;5;124;03m    ``from_type_str`` method required by ``ABIRegistry``.  Useful if normalizing\u001b[39;00m\n\u001b[0;32m     19\u001b[0m \u001b[38;5;124;03m    then parsing a type string with an (optional) expected base is required in\u001b[39;00m\n\u001b[0;32m     20\u001b[0m \u001b[38;5;124;03m    that method.\u001b[39;00m\n\u001b[0;32m     21\u001b[0m \u001b[38;5;124;03m    \"\"\"\u001b[39;00m\n",
      "File \u001b[1;32m~\\anaconda3\\Lib\\site-packages\\eth_abi\\grammar.py:4\u001b[0m\n\u001b[0;32m      1\u001b[0m \u001b[38;5;28;01mimport\u001b[39;00m \u001b[38;5;21;01mfunctools\u001b[39;00m\n\u001b[0;32m      2\u001b[0m \u001b[38;5;28;01mimport\u001b[39;00m \u001b[38;5;21;01mre\u001b[39;00m\n\u001b[1;32m----> 4\u001b[0m \u001b[38;5;28;01mimport\u001b[39;00m \u001b[38;5;21;01mparsimonious\u001b[39;00m\n\u001b[0;32m      5\u001b[0m \u001b[38;5;28;01mfrom\u001b[39;00m \u001b[38;5;21;01mparsimonious\u001b[39;00m \u001b[38;5;28;01mimport\u001b[39;00m (\n\u001b[0;32m      6\u001b[0m     expressions,\n\u001b[0;32m      7\u001b[0m )\n\u001b[0;32m      9\u001b[0m \u001b[38;5;28;01mfrom\u001b[39;00m \u001b[38;5;21;01meth_abi\u001b[39;00m\u001b[38;5;21;01m.\u001b[39;00m\u001b[38;5;21;01mexceptions\u001b[39;00m \u001b[38;5;28;01mimport\u001b[39;00m (\n\u001b[0;32m     10\u001b[0m     ABITypeError,\n\u001b[0;32m     11\u001b[0m     ParseError,\n\u001b[0;32m     12\u001b[0m )\n",
      "File \u001b[1;32m~\\anaconda3\\Lib\\site-packages\\parsimonious\\__init__.py:9\u001b[0m\n\u001b[0;32m      1\u001b[0m \u001b[38;5;124;03m\"\"\"Parsimonious's public API. Import from here.\u001b[39;00m\n\u001b[0;32m      2\u001b[0m \n\u001b[0;32m      3\u001b[0m \u001b[38;5;124;03mThings may move around in modules deeper than this one.\u001b[39;00m\n\u001b[0;32m      4\u001b[0m \n\u001b[0;32m      5\u001b[0m \u001b[38;5;124;03m\"\"\"\u001b[39;00m\n\u001b[0;32m      6\u001b[0m \u001b[38;5;28;01mfrom\u001b[39;00m \u001b[38;5;21;01mparsimonious\u001b[39;00m\u001b[38;5;21;01m.\u001b[39;00m\u001b[38;5;21;01mexceptions\u001b[39;00m \u001b[38;5;28;01mimport\u001b[39;00m (ParseError, IncompleteParseError,\n\u001b[0;32m      7\u001b[0m                                      VisitationError, UndefinedLabel,\n\u001b[0;32m      8\u001b[0m                                      BadGrammar)\n\u001b[1;32m----> 9\u001b[0m \u001b[38;5;28;01mfrom\u001b[39;00m \u001b[38;5;21;01mparsimonious\u001b[39;00m\u001b[38;5;21;01m.\u001b[39;00m\u001b[38;5;21;01mgrammar\u001b[39;00m \u001b[38;5;28;01mimport\u001b[39;00m Grammar, TokenGrammar\n\u001b[0;32m     10\u001b[0m \u001b[38;5;28;01mfrom\u001b[39;00m \u001b[38;5;21;01mparsimonious\u001b[39;00m\u001b[38;5;21;01m.\u001b[39;00m\u001b[38;5;21;01mnodes\u001b[39;00m \u001b[38;5;28;01mimport\u001b[39;00m NodeVisitor, VisitationError, rule\n",
      "File \u001b[1;32m~\\anaconda3\\Lib\\site-packages\\parsimonious\\grammar.py:14\u001b[0m\n\u001b[0;32m     11\u001b[0m \u001b[38;5;28;01mfrom\u001b[39;00m \u001b[38;5;21;01msix\u001b[39;00m \u001b[38;5;28;01mimport\u001b[39;00m (text_type, itervalues, iteritems, python_2_unicode_compatible, PY2)\n\u001b[0;32m     13\u001b[0m \u001b[38;5;28;01mfrom\u001b[39;00m \u001b[38;5;21;01mparsimonious\u001b[39;00m\u001b[38;5;21;01m.\u001b[39;00m\u001b[38;5;21;01mexceptions\u001b[39;00m \u001b[38;5;28;01mimport\u001b[39;00m BadGrammar, UndefinedLabel\n\u001b[1;32m---> 14\u001b[0m \u001b[38;5;28;01mfrom\u001b[39;00m \u001b[38;5;21;01mparsimonious\u001b[39;00m\u001b[38;5;21;01m.\u001b[39;00m\u001b[38;5;21;01mexpressions\u001b[39;00m \u001b[38;5;28;01mimport\u001b[39;00m (Literal, Regex, Sequence, OneOf,\n\u001b[0;32m     15\u001b[0m     Lookahead, Optional, ZeroOrMore, OneOrMore, Not, TokenMatcher,\n\u001b[0;32m     16\u001b[0m     expression)\n\u001b[0;32m     17\u001b[0m \u001b[38;5;28;01mfrom\u001b[39;00m \u001b[38;5;21;01mparsimonious\u001b[39;00m\u001b[38;5;21;01m.\u001b[39;00m\u001b[38;5;21;01mnodes\u001b[39;00m \u001b[38;5;28;01mimport\u001b[39;00m NodeVisitor\n\u001b[0;32m     18\u001b[0m \u001b[38;5;28;01mfrom\u001b[39;00m \u001b[38;5;21;01mparsimonious\u001b[39;00m\u001b[38;5;21;01m.\u001b[39;00m\u001b[38;5;21;01mutils\u001b[39;00m \u001b[38;5;28;01mimport\u001b[39;00m evaluate_string\n",
      "File \u001b[1;32m~\\anaconda3\\Lib\\site-packages\\parsimonious\\expressions.py:9\u001b[0m\n\u001b[0;32m      1\u001b[0m \u001b[38;5;124;03m\"\"\"Subexpressions that make up a parsed grammar\u001b[39;00m\n\u001b[0;32m      2\u001b[0m \n\u001b[0;32m      3\u001b[0m \u001b[38;5;124;03mThese do the parsing.\u001b[39;00m\n\u001b[0;32m      4\u001b[0m \n\u001b[0;32m      5\u001b[0m \u001b[38;5;124;03m\"\"\"\u001b[39;00m\n\u001b[0;32m      6\u001b[0m \u001b[38;5;66;03m# TODO: Make sure all symbol refs are local--not class lookups or\u001b[39;00m\n\u001b[0;32m      7\u001b[0m \u001b[38;5;66;03m# anything--for speed. And kill all the dots.\u001b[39;00m\n\u001b[1;32m----> 9\u001b[0m \u001b[38;5;28;01mfrom\u001b[39;00m \u001b[38;5;21;01minspect\u001b[39;00m \u001b[38;5;28;01mimport\u001b[39;00m getargspec\n\u001b[0;32m     10\u001b[0m \u001b[38;5;28;01mimport\u001b[39;00m \u001b[38;5;21;01mre\u001b[39;00m\n\u001b[0;32m     12\u001b[0m \u001b[38;5;28;01mfrom\u001b[39;00m \u001b[38;5;21;01msix\u001b[39;00m \u001b[38;5;28;01mimport\u001b[39;00m integer_types, python_2_unicode_compatible\n",
      "\u001b[1;31mImportError\u001b[0m: cannot import name 'getargspec' from 'inspect' (C:\\Users\\ppate\\anaconda3\\Lib\\inspect.py)"
     ]
    }
   ],
   "source": [
    "%pip install web3\n",
    "# Imports\n",
    "from web3 import Web3, EthereumTesterProvider"
   ]
  },
  {
   "cell_type": "markdown",
   "metadata": {},
   "source": [
    "## Step 2: Define a new variable named `w3`, and set it equal to a new `Web3()` instance."
   ]
  },
  {
   "cell_type": "code",
   "execution_count": 11,
   "metadata": {},
   "outputs": [
    {
     "ename": "NameError",
     "evalue": "name 'Web3' is not defined",
     "output_type": "error",
     "traceback": [
      "\u001b[1;31m---------------------------------------------------------------------------\u001b[0m",
      "\u001b[1;31mNameError\u001b[0m                                 Traceback (most recent call last)",
      "Cell \u001b[1;32mIn[11], line 2\u001b[0m\n\u001b[0;32m      1\u001b[0m \u001b[38;5;66;03m# Create an instance of Web3\u001b[39;00m\n\u001b[1;32m----> 2\u001b[0m w3 \u001b[38;5;241m=\u001b[39m Web3()\n",
      "\u001b[1;31mNameError\u001b[0m: name 'Web3' is not defined"
     ]
    }
   ],
   "source": [
    "# Create an instance of Web3\n",
    "w3 = Web3()"
   ]
  },
  {
   "cell_type": "markdown",
   "metadata": {},
   "source": [
    "## Step 3: Define a variable named `provider`. Set this variable equal to `EthereumTesterProvider()`, and then pass it to the `Web3` instance."
   ]
  },
  {
   "cell_type": "code",
   "execution_count": null,
   "metadata": {},
   "outputs": [],
   "source": [
    "# Create an instance of the EthereumTesterProvider\n",
    "provider = EthereumTesterProvider()\n",
    "\n",
    "# Pass the provider as a parameter to the Web3 instance\n",
    "w3 = Web3(provider)\n",
    "\n"
   ]
  },
  {
   "cell_type": "markdown",
   "metadata": {},
   "source": [
    "## Step 4: Call `w3.eth.get_block('latest')`, and print the result to check that your mock blockchain is working."
   ]
  },
  {
   "cell_type": "code",
   "execution_count": null,
   "metadata": {},
   "outputs": [],
   "source": [
    "# Access information for the most recent block created on the mock blockchain\n",
    "print(w3.eth.get_block(\"latest\")"
   ]
  },
  {
   "cell_type": "markdown",
   "metadata": {},
   "source": [
    "## Step 5: Call `w3.eth.accounts`, and print the result to view your available accounts on the blockchain."
   ]
  },
  {
   "cell_type": "code",
   "execution_count": null,
   "metadata": {},
   "outputs": [],
   "source": [
    "# Print a list of accounts on the mock blockchain\n",
    "print(w3.eth.accounts)"
   ]
  },
  {
   "cell_type": "markdown",
   "metadata": {},
   "source": [
    "## Step 6: Call `w3.eth.get_balance()`, and pass it to one of your available addresses as a string to check the balance of the account on the chain. Save the balance as a variable named `wei_balance`."
   ]
  },
  {
   "cell_type": "code",
   "execution_count": null,
   "metadata": {
    "scrolled": true
   },
   "outputs": [],
   "source": [
    "# Access the balance of an account using an address from Step 5.\n",
    "wei_balance = w3.eth.get_balance(\n",
    "print(wei_balance)"
   ]
  },
  {
   "cell_type": "markdown",
   "metadata": {},
   "source": [
    "## Step 7: Use the `w3.fromWei` function to convert your balance from wei to ether."
   ]
  },
  {
   "cell_type": "code",
   "execution_count": null,
   "metadata": {},
   "outputs": [],
   "source": [
    "# Convert the balance from wei to ether\n",
    "eth_balance = # YOUR CODE HERE\n",
    "print(eth_balance)"
   ]
  },
  {
   "cell_type": "code",
   "execution_count": null,
   "metadata": {},
   "outputs": [],
   "source": []
  }
 ],
 "metadata": {
  "kernelspec": {
   "display_name": "Python 3 (ipykernel)",
   "language": "python",
   "name": "python3"
  },
  "language_info": {
   "codemirror_mode": {
    "name": "ipython",
    "version": 3
   },
   "file_extension": ".py",
   "mimetype": "text/x-python",
   "name": "python",
   "nbconvert_exporter": "python",
   "pygments_lexer": "ipython3",
   "version": "3.11.5"
  }
 },
 "nbformat": 4,
 "nbformat_minor": 4
}
