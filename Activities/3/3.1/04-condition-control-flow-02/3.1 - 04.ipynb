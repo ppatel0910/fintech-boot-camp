{
 "cells": [
  {
   "cell_type": "code",
   "execution_count": 22,
   "id": "a4878e5c-70c4-4360-8c48-40fc2a3c0fb1",
   "metadata": {
    "tags": []
   },
   "outputs": [],
   "source": [
    "c1_name = \"Mr.Farley\"\n",
    "c1_age = 65\n",
    "c1_profession = \"Web Developer\"\n",
    "c1_salary = 100000.00\n",
    "c1_species = \"cat\"\n",
    "c1_location = \"San Francisco, CA\"\n",
    "c1_monthly_rent = 2000\n",
    "c1_monthly_expenses = 1500\n",
    "c1_yearly_rent = c1_monthly_rent * 12\n",
    "c1_yearly_expenses = 1500 * 12\n",
    "c1_savings = c1_salary - (c1_yearly_rent + c1_yearly_expenses)"
   ]
  },
  {
   "cell_type": "code",
   "execution_count": 23,
   "id": "871f4dfc-b9df-4f9b-81e8-f3e41f0a7458",
   "metadata": {
    "tags": []
   },
   "outputs": [],
   "source": [
    "c2_name = \"Mr.Snuggles\"\n",
    "c2_age = 30\n",
    "c2_species = \"mouse\"\n",
    "c2_profession = \"Accountant\"\n",
    "c2_salary = 70000\n",
    "c2_location = \"Oakland, CA\"\n",
    "c2_monthly_rent = 4000\n",
    "c2_monthly_expenses = 500\n",
    "c2_yearly_rent = c2_monthly_rent * 12\n",
    "c2_yearly_expenses = c2_monthly_expenses * 12\n",
    "c2_savings = c2_salary - (c1_yearly_rent + c2_yearly_expenses)"
   ]
  },
  {
   "cell_type": "code",
   "execution_count": 24,
   "id": "b446334f-1ec5-4ca0-9889-b933b98a0346",
   "metadata": {
    "tags": []
   },
   "outputs": [
    {
     "name": "stdout",
     "output_type": "stream",
     "text": [
      "Hello Mr.Farley\n"
     ]
    }
   ],
   "source": [
    "if c1_name == \"Mr.Farley\":\n",
    "    print(\"Hello Mr.Farley\")\n",
    "else:\n",
    "    print(\"Hello stranger\")"
   ]
  },
  {
   "cell_type": "code",
   "execution_count": 31,
   "id": "676ca81e-9daf-4ca7-86dd-416ef3b5f6d2",
   "metadata": {
    "tags": []
   },
   "outputs": [
    {
     "name": "stdout",
     "output_type": "stream",
     "text": [
      "Mr.Farley is older than Mr.Snuggles\n"
     ]
    }
   ],
   "source": [
    "if c2_age > c1_age:\n",
    "    print(f\"{c2_name} is older than {c1_name}\")\n",
    "elif c2_age < c1_age:\n",
    "    print(f\"{c1_name} is older than {c2_name}\")\n",
    "else: \n",
    "    print(f\"Mr.Farley is the same age as Mr.Snuggles\")"
   ]
  },
  {
   "cell_type": "code",
   "execution_count": 33,
   "id": "e91a2998-3acd-4141-baaf-3ab40d980798",
   "metadata": {},
   "outputs": [
    {
     "name": "stdout",
     "output_type": "stream",
     "text": [
      "Mr. Farley comes from the home of the 49ers!\n"
     ]
    }
   ],
   "source": [
    "if c1_location == \"Oakland, CA\":\n",
    "    print(\"Mr.Farley comes from the home of the Raiders!\")\n",
    "elif c1_location == \"San Francisco, CA\":\n",
    "    print(\"Mr. Farley comes from the home of the 49ers!\")\n",
    "else:\n",
    "    print(\"Mr.Farley doesn't hail from a sports town\")"
   ]
  },
  {
   "cell_type": "code",
   "execution_count": 36,
   "id": "f9acfa3d-c81e-4445-bcd2-bd03ed75c9d1",
   "metadata": {
    "tags": []
   },
   "outputs": [
    {
     "name": "stdout",
     "output_type": "stream",
     "text": [
      "Look a Web Developer and an Accountant\n"
     ]
    }
   ],
   "source": [
    "if c1_profession == \"Web Developer\" and c2_profession == \"Accountant\":\n",
    "    print(\"Look a Web Developer and an Accountant\")\n",
    "else:\n",
    "    print(\"They are professionals\")"
   ]
  },
  {
   "cell_type": "code",
   "execution_count": null,
   "id": "5b328386-840d-4ac6-a112-e027c251701a",
   "metadata": {},
   "outputs": [],
   "source": []
  }
 ],
 "metadata": {
  "kernelspec": {
   "display_name": "Python 3 (ipykernel)",
   "language": "python",
   "name": "python3"
  },
  "language_info": {
   "codemirror_mode": {
    "name": "ipython",
    "version": 3
   },
   "file_extension": ".py",
   "mimetype": "text/x-python",
   "name": "python",
   "nbconvert_exporter": "python",
   "pygments_lexer": "ipython3",
   "version": "3.11.4"
  }
 },
 "nbformat": 4,
 "nbformat_minor": 5
}
