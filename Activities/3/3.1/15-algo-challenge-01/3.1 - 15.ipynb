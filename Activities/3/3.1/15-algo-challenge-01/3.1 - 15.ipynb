{
 "cells": [
  {
   "cell_type": "code",
   "execution_count": 13,
   "id": "a4bf1b01-257b-4dfe-9198-a8e74830fea2",
   "metadata": {
    "tags": []
   },
   "outputs": [
    {
     "name": "stdout",
     "output_type": "stream",
     "text": [
      "43\n"
     ]
    }
   ],
   "source": [
    "# Import the `random` library.\n",
    "import random\n",
    "# Answer each question with the correct coding solution.\n",
    "\n",
    "# QUESTION 1: Create a function called `number_guess` that takes in an integer as an argument.\n",
    "# If the number is 42, print(true). If it isn't 42, print(false)\n",
    "def number_guess(number):\n",
    "    if number == 42:\n",
    "        print(true)\n",
    "    else:\n",
    "        print(false)\n",
    "    return(number_guess)\n",
    "# This code is to help you test your function\n",
    "test_num = random.randint(40, 45)\n",
    "print(test_num)\n",
    "\n",
    "# QUESTION 2: Write a function that takes in a list of numbers. the function should print the smallest number in the given list\n",
    "\n",
    "\n",
    "# This code is to help you test your function\n",
    "\n",
    "\n",
    "# QUESTION 3: Write a function which takes in a list of strings. The function should print the shortest string in the list.\n",
    "\n",
    "\n",
    "\n",
    "# This code is to help you test your function\n",
    "\n",
    "\n",
    "#QUESTION 4: Write a function that takes in three arguments: a high value, a low value and a list of numbers.\n",
    "# The function should print a new list of numbers where the elements are greater than the low value and less than the high value\n",
    "\n",
    "\n",
    "# This code is to help you test your function\n"
   ]
  },
  {
   "cell_type": "code",
   "execution_count": 27,
   "id": "41f1d256-af52-4371-96a7-70275122c3e9",
   "metadata": {
    "tags": []
   },
   "outputs": [
    {
     "name": "stdout",
     "output_type": "stream",
     "text": [
      "43\n",
      "False\n"
     ]
    }
   ],
   "source": [
    "import random\n",
    "\n",
    "def number_guess(number):\n",
    "    result = None\n",
    "    \n",
    "    if number == 42:\n",
    "        result = True\n",
    "    else:\n",
    "        result = False\n",
    "    \n",
    "    return result\n",
    "\n",
    "test_num = random.randint(40, 45)\n",
    "print(test_num)\n",
    "\n",
    "result = number_guess(test_num)\n",
    "print(result)"
   ]
  },
  {
   "cell_type": "code",
   "execution_count": null,
   "id": "f128e681-b471-4490-b6cd-ec8d8f262ecb",
   "metadata": {},
   "outputs": [],
   "source": []
  }
 ],
 "metadata": {
  "kernelspec": {
   "display_name": "Python 3 (ipykernel)",
   "language": "python",
   "name": "python3"
  },
  "language_info": {
   "codemirror_mode": {
    "name": "ipython",
    "version": 3
   },
   "file_extension": ".py",
   "mimetype": "text/x-python",
   "name": "python",
   "nbconvert_exporter": "python",
   "pygments_lexer": "ipython3",
   "version": "3.11.4"
  }
 },
 "nbformat": 4,
 "nbformat_minor": 5
}
