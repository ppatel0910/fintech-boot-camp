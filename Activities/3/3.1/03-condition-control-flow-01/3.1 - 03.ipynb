{
 "cells": [
  {
   "cell_type": "code",
   "execution_count": 1,
   "id": "5460fb79-21e0-4aad-b6a1-b7ccb9195cb7",
   "metadata": {
    "tags": []
   },
   "outputs": [
    {
     "name": "stdout",
     "output_type": "stream",
     "text": [
      "['pig', 'cow', 'chicken', 'dog', 'horse', 'sheep']\n"
     ]
    }
   ],
   "source": [
    "farm = [\"pig\", \"cow\", \"chicken\", \"dog\", \"horse\", \"sheep\"]\n",
    "print(farm)"
   ]
  },
  {
   "cell_type": "code",
   "execution_count": 5,
   "id": "22214617-d77d-43c1-9b8c-1d93749491b6",
   "metadata": {
    "tags": []
   },
   "outputs": [
    {
     "name": "stdout",
     "output_type": "stream",
     "text": [
      "RWAR\n"
     ]
    }
   ],
   "source": [
    "if farm[0] != \"Godzilla\":\n",
    "    print(\"RWAR\")"
   ]
  },
  {
   "cell_type": "code",
   "execution_count": 8,
   "id": "e6bcf9fb-0f82-4207-9ba5-7bc4f731a603",
   "metadata": {
    "tags": []
   },
   "outputs": [
    {
     "name": "stdout",
     "output_type": "stream",
     "text": [
      "This animal if neither Godzilla nor Mothra!\n"
     ]
    }
   ],
   "source": [
    "if farm[5] == \"Mothra\":\n",
    "    print(\"SCREECH\")\n",
    "else: print(\"This animal if neither Godzilla nor Mothra!\")"
   ]
  },
  {
   "cell_type": "code",
   "execution_count": 9,
   "id": "c9421ce2-2195-443d-8577-54894c7b455c",
   "metadata": {
    "tags": []
   },
   "outputs": [],
   "source": [
    "dog = \"Spot\""
   ]
  },
  {
   "cell_type": "code",
   "execution_count": 11,
   "id": "24546182-f47e-42e9-b315-ef1d91a61c77",
   "metadata": {
    "tags": []
   },
   "outputs": [],
   "source": [
    "cat = \"none\"\n",
    "city = \"none\"\n",
    "car = \"none\""
   ]
  },
  {
   "cell_type": "code",
   "execution_count": 12,
   "id": "1a69c32b-669e-4a6f-b165-3e3d6fd75d37",
   "metadata": {
    "tags": []
   },
   "outputs": [],
   "source": [
    "cat = \"Farley\""
   ]
  },
  {
   "cell_type": "code",
   "execution_count": 13,
   "id": "9be4dc3d-d573-4142-b23c-493c74c260c9",
   "metadata": {
    "tags": []
   },
   "outputs": [],
   "source": [
    "city = \"San Francisco\""
   ]
  },
  {
   "cell_type": "code",
   "execution_count": 14,
   "id": "dea73631-9ef6-4c08-aeef-e47272e572cf",
   "metadata": {
    "tags": []
   },
   "outputs": [],
   "source": [
    "car = \"Prius\""
   ]
  },
  {
   "cell_type": "code",
   "execution_count": 18,
   "id": "9e089f89-b1dd-48f8-8e69-917fcc627268",
   "metadata": {
    "tags": []
   },
   "outputs": [
    {
     "name": "stdout",
     "output_type": "stream",
     "text": [
      "See Spot run!\n"
     ]
    }
   ],
   "source": [
    "print(f\"See {dog} run!\")"
   ]
  },
  {
   "cell_type": "code",
   "execution_count": 19,
   "id": "48c7c332-88a0-4f80-8989-8f8d4a116a42",
   "metadata": {
    "tags": []
   },
   "outputs": [
    {
     "name": "stdout",
     "output_type": "stream",
     "text": [
      "I drive Farley around San Francisco in my Prius.\n"
     ]
    }
   ],
   "source": [
    "print(f\"I drive {cat} around {city} in my {car}.\")"
   ]
  },
  {
   "cell_type": "code",
   "execution_count": 24,
   "id": "6bdaba69-e04a-43c0-b6e9-3f44bee2121e",
   "metadata": {
    "tags": []
   },
   "outputs": [
    {
     "name": "stdout",
     "output_type": "stream",
     "text": [
      "4250\n"
     ]
    }
   ],
   "source": [
    "budget = 5000\n",
    "rent_cost = 1500\n",
    "utilities_cost = 150\n",
    "food_cost = 250\n",
    "transportation_cost = 350\n",
    "computer_cost = 2000\n",
    "total_cost = rent_cost + utilities_cost + food_cost + transportation_cost + computer_cost\n",
    "print(total_cost)"
   ]
  },
  {
   "cell_type": "code",
   "execution_count": 31,
   "id": "90c620dd-ddf3-479d-a827-93fd60da8f89",
   "metadata": {
    "tags": []
   },
   "outputs": [
    {
     "name": "stdout",
     "output_type": "stream",
     "text": [
      "Your total cost is 4250\n"
     ]
    }
   ],
   "source": [
    "if total_cost < budget:\n",
    "    print(f\"Your total cost is {total_cost}\")\n",
    "else:\n",
    "    print(f\"You're over budget by {total_cost} - {budget}\")"
   ]
  },
  {
   "cell_type": "code",
   "execution_count": 41,
   "id": "12773287-427d-4fe5-b5d4-b2593ac6b87b",
   "metadata": {
    "tags": []
   },
   "outputs": [
    {
     "name": "stdout",
     "output_type": "stream",
     "text": [
      "The rent is too damn high!\n"
     ]
    }
   ],
   "source": [
    "\"\"\"\n",
    "if rent_cost > (utilities_cost + food_cost + transportation_cost):\n",
    "    print(\"The rent is too damn high!\")\n",
    "else rent < (utilities_cost + food_cost + transportation_cost):\n",
    "    print(\"Ahhh just right!\")\n",
    "\"\"\"\n",
    "if rent_cost > (utilities_cost + food_cost + transportation_cost):\n",
    "    print(\"The rent is too damn high!\")\n",
    "else:\n",
    "    print(\"Ahhh just right!\")"
   ]
  },
  {
   "cell_type": "code",
   "execution_count": null,
   "id": "e4b0c318-b267-4cbf-b9b0-a1295e50c047",
   "metadata": {},
   "outputs": [],
   "source": []
  }
 ],
 "metadata": {
  "kernelspec": {
   "display_name": "Python 3 (ipykernel)",
   "language": "python",
   "name": "python3"
  },
  "language_info": {
   "codemirror_mode": {
    "name": "ipython",
    "version": 3
   },
   "file_extension": ".py",
   "mimetype": "text/x-python",
   "name": "python",
   "nbconvert_exporter": "python",
   "pygments_lexer": "ipython3",
   "version": "3.11.4"
  }
 },
 "nbformat": 4,
 "nbformat_minor": 5
}
