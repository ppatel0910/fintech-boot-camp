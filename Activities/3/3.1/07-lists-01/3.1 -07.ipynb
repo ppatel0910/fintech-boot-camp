{
 "cells": [
  {
   "cell_type": "code",
   "execution_count": 12,
   "id": "ce8c508d-944c-4bed-8f15-47e076bb9e44",
   "metadata": {
    "tags": []
   },
   "outputs": [
    {
     "name": "stdout",
     "output_type": "stream",
     "text": [
      "3\n",
      "3\n"
     ]
    }
   ],
   "source": [
    "list_1 = [\"0\", \"1\", \"2\", \"3\"]\n",
    "index = list_1.index(\"3\")\n",
    "print(index)\n",
    "print(list_1[3])"
   ]
  },
  {
   "cell_type": "code",
   "execution_count": 13,
   "id": "2c369f8d-f750-4289-bdde-17f175af64ad",
   "metadata": {
    "tags": []
   },
   "outputs": [
    {
     "name": "stdout",
     "output_type": "stream",
     "text": [
      "5\n"
     ]
    }
   ],
   "source": [
    "list_2 = [\"4\", \"5\", \"6\", \"7\"]\n",
    "print(list_2[1])"
   ]
  },
  {
   "cell_type": "code",
   "execution_count": 5,
   "id": "2c0af029-1cfd-4ad0-b158-68e24dc3a14c",
   "metadata": {
    "tags": []
   },
   "outputs": [
    {
     "name": "stdout",
     "output_type": "stream",
     "text": [
      "10\n"
     ]
    }
   ],
   "source": [
    "list_3 = [\"8\", \"9\", \"10\", \"11\"]\n",
    "print(list_3[2])"
   ]
  },
  {
   "cell_type": "code",
   "execution_count": 15,
   "id": "d8bb8740-50f6-4ae2-86a6-b35f61a495aa",
   "metadata": {
    "tags": []
   },
   "outputs": [
    {
     "name": "stdout",
     "output_type": "stream",
     "text": [
      "15\n"
     ]
    }
   ],
   "source": [
    "list_4 = [\"12\", \"13\", \"14\", \"15\"]\n",
    "print(list_4[3])"
   ]
  },
  {
   "cell_type": "code",
   "execution_count": null,
   "id": "18fe6f45-7f77-4479-8e0e-52d708f40fe6",
   "metadata": {},
   "outputs": [],
   "source": []
  }
 ],
 "metadata": {
  "kernelspec": {
   "display_name": "Python 3 (ipykernel)",
   "language": "python",
   "name": "python3"
  },
  "language_info": {
   "codemirror_mode": {
    "name": "ipython",
    "version": 3
   },
   "file_extension": ".py",
   "mimetype": "text/x-python",
   "name": "python",
   "nbconvert_exporter": "python",
   "pygments_lexer": "ipython3",
   "version": "3.11.4"
  }
 },
 "nbformat": 4,
 "nbformat_minor": 5
}
