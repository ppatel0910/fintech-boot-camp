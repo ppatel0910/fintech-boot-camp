{
 "cells": [
  {
   "cell_type": "code",
   "execution_count": 12,
   "id": "80c15d9a-1338-4bb3-9334-148fb984b509",
   "metadata": {
    "tags": []
   },
   "outputs": [
    {
     "name": "stdin",
     "output_type": "stream",
     "text": [
      "What do you want to do: Add, Subtract, Multiply, or Divide Multiply\n"
     ]
    },
    {
     "name": "stdout",
     "output_type": "stream",
     "text": [
      "4\n"
     ]
    }
   ],
   "source": [
    "def calculate(num_1, num_2):\n",
    "    result = 0\n",
    "    choice = input(\"What do you want to do: Add, Subtract, Multiply, or Divide\")\n",
    "    if choice == \"Add\":\n",
    "        result = num_1 + num_2\n",
    "    elif choice == \"Subtract\":\n",
    "        result = num_1 - num_2\n",
    "    elif choice == \"Multiply\":\n",
    "        result = num_1 * num_2\n",
    "    elif choice == \"Divide\":\n",
    "        result = num_1 / num_2\n",
    "    else:\n",
    "        print(\"ERROR\")\n",
    "    return result\n",
    "print(calculate(1, 4))\n",
    "\n",
    "    "
   ]
  },
  {
   "cell_type": "code",
   "execution_count": null,
   "id": "2c0c2c5e-70eb-4b0d-88b4-33da9ddae538",
   "metadata": {},
   "outputs": [],
   "source": []
  }
 ],
 "metadata": {
  "kernelspec": {
   "display_name": "Python 3 (ipykernel)",
   "language": "python",
   "name": "python3"
  },
  "language_info": {
   "codemirror_mode": {
    "name": "ipython",
    "version": 3
   },
   "file_extension": ".py",
   "mimetype": "text/x-python",
   "name": "python",
   "nbconvert_exporter": "python",
   "pygments_lexer": "ipython3",
   "version": "3.11.4"
  }
 },
 "nbformat": 4,
 "nbformat_minor": 5
}
