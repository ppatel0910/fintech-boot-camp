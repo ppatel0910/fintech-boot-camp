{
 "cells": [
  {
   "cell_type": "code",
   "execution_count": 3,
   "id": "a5e3dc22-c431-4de2-8140-04faaac08cbf",
   "metadata": {
    "tags": []
   },
   "outputs": [],
   "source": [
    "subject = None"
   ]
  },
  {
   "cell_type": "code",
   "execution_count": 4,
   "id": "89871c20-eb61-4da4-8ff4-137d07b5cab2",
   "metadata": {
    "tags": []
   },
   "outputs": [],
   "source": [
    "subject = \"Programmers\""
   ]
  },
  {
   "cell_type": "code",
   "execution_count": 6,
   "id": "cde3c196-7222-4d3c-b532-65dccab295b2",
   "metadata": {
    "tags": []
   },
   "outputs": [],
   "source": [
    "first_name = \"Ada\""
   ]
  },
  {
   "cell_type": "code",
   "execution_count": 7,
   "id": "fc6a7db6-cbe2-4ad2-b844-7125720cfc99",
   "metadata": {
    "tags": []
   },
   "outputs": [],
   "source": [
    "last_name = \"Lovelace\""
   ]
  },
  {
   "cell_type": "code",
   "execution_count": 23,
   "id": "1fe10402-360e-4e06-b782-e4f38fb25325",
   "metadata": {
    "tags": []
   },
   "outputs": [
    {
     "name": "stdout",
     "output_type": "stream",
     "text": [
      "Ada Lovelace\n"
     ]
    }
   ],
   "source": [
    "full_name = first_name + \" \" + last_name\n",
    "# print(full_name)\n",
    "\n",
    "print(f\"{first_name} {last_name}\")"
   ]
  },
  {
   "cell_type": "code",
   "execution_count": 24,
   "id": "098fa593-c2f6-4568-ba17-35a7a863579b",
   "metadata": {
    "tags": []
   },
   "outputs": [],
   "source": [
    "profession = \"Computer Programmer\""
   ]
  },
  {
   "cell_type": "code",
   "execution_count": 25,
   "id": "59533bbc-b8c2-4c15-aa7d-67653cd2f67a",
   "metadata": {
    "tags": []
   },
   "outputs": [],
   "source": [
    "known_for = \"First Computer Programmer\""
   ]
  },
  {
   "cell_type": "code",
   "execution_count": 26,
   "id": "68015ee8-c09d-41a3-b861-5694cc3bd4a7",
   "metadata": {
    "tags": []
   },
   "outputs": [],
   "source": [
    "first_algorithm = \"Analytical Engine\""
   ]
  },
  {
   "cell_type": "code",
   "execution_count": 27,
   "id": "3a3ba125-126f-4b20-9cfd-b0013c6ce258",
   "metadata": {
    "tags": []
   },
   "outputs": [],
   "source": [
    "city_location = \"London\""
   ]
  },
  {
   "cell_type": "code",
   "execution_count": 28,
   "id": "06596e98-baf8-4d36-90c5-11977ed44a60",
   "metadata": {
    "tags": []
   },
   "outputs": [],
   "source": [
    "country_location = \"England\""
   ]
  },
  {
   "cell_type": "code",
   "execution_count": 29,
   "id": "79f77095-0bee-487c-a3bd-ab66ba0f09ff",
   "metadata": {
    "tags": []
   },
   "outputs": [],
   "source": [
    "nationality = \"British\""
   ]
  },
  {
   "cell_type": "code",
   "execution_count": 30,
   "id": "255671ce-6eb1-432a-abf2-4b369ca49ff0",
   "metadata": {
    "tags": []
   },
   "outputs": [],
   "source": [
    "birth_year = 1815"
   ]
  },
  {
   "cell_type": "code",
   "execution_count": 31,
   "id": "77ea2e97-d4db-4024-8839-e2457b00bab0",
   "metadata": {
    "tags": []
   },
   "outputs": [],
   "source": [
    "death_year = 1852"
   ]
  },
  {
   "cell_type": "code",
   "execution_count": 32,
   "id": "67189234-601a-44ca-8bb3-8048ecdbb9a6",
   "metadata": {
    "tags": []
   },
   "outputs": [
    {
     "name": "stdout",
     "output_type": "stream",
     "text": [
      "37\n"
     ]
    }
   ],
   "source": [
    "age_at_passing = death_year - birth_year\n",
    "print(age_at_passing)"
   ]
  },
  {
   "cell_type": "code",
   "execution_count": 34,
   "id": "0bb13536-997e-428b-a45a-2e3b5ff418c2",
   "metadata": {
    "tags": []
   },
   "outputs": [],
   "source": [
    "year_of_publish = 1842"
   ]
  },
  {
   "cell_type": "code",
   "execution_count": 35,
   "id": "c996dcfc-2cb6-442c-a5f0-63f0614c963e",
   "metadata": {
    "tags": []
   },
   "outputs": [
    {
     "name": "stdout",
     "output_type": "stream",
     "text": [
      "Ada\n"
     ]
    }
   ],
   "source": [
    "print(first_name)"
   ]
  },
  {
   "cell_type": "code",
   "execution_count": 42,
   "id": "2c8e95ac-d67a-4b53-99bc-5285db31f0aa",
   "metadata": {
    "tags": []
   },
   "outputs": [
    {
     "name": "stdout",
     "output_type": "stream",
     "text": [
      "First Name: Ada\n"
     ]
    }
   ],
   "source": [
    "print(f\"First Name: {first_name}\")"
   ]
  },
  {
   "cell_type": "code",
   "execution_count": 45,
   "id": "0937d711-bfa5-4996-8fae-6cf18e4d8d8e",
   "metadata": {
    "tags": []
   },
   "outputs": [
    {
     "name": "stdout",
     "output_type": "stream",
     "text": [
      "Last Name: Lovelace\n"
     ]
    }
   ],
   "source": [
    "print(f\"Last Name: {last_name}\")"
   ]
  },
  {
   "cell_type": "code",
   "execution_count": 46,
   "id": "619cd990-2f0c-495d-9980-f1fa58756927",
   "metadata": {
    "tags": []
   },
   "outputs": [
    {
     "name": "stdout",
     "output_type": "stream",
     "text": [
      "Profession: Computer Programmer\n"
     ]
    }
   ],
   "source": [
    "print(f\"Profession: {profession}\")"
   ]
  },
  {
   "cell_type": "code",
   "execution_count": 48,
   "id": "5c89e766-f314-4704-a5fd-cc23deaee02b",
   "metadata": {
    "tags": []
   },
   "outputs": [
    {
     "name": "stdout",
     "output_type": "stream",
     "text": [
      "BirthYear: 1815\n"
     ]
    }
   ],
   "source": [
    "print(f\"BirthYear: {birth_year}\")"
   ]
  },
  {
   "cell_type": "code",
   "execution_count": 64,
   "id": "045d69de-faa4-483c-996c-9531d5a1cb21",
   "metadata": {
    "tags": []
   },
   "outputs": [
    {
     "name": "stdout",
     "output_type": "stream",
     "text": [
      "Programmers:Ada Lovelace is a British Computer Programmer born in 1815.\n"
     ]
    }
   ],
   "source": [
    "statement_one = (f\"{subject}:{full_name} is a {nationality} {profession} born in {birth_year}.\")\n",
    "print(statement_one)"
   ]
  },
  {
   "cell_type": "code",
   "execution_count": 59,
   "id": "9aefcbbb-dcd9-450b-ad73-5053bdb51b68",
   "metadata": {},
   "outputs": [
    {
     "name": "stdout",
     "output_type": "stream",
     "text": [
      "She is commonly referred to as the First Computer Programmer\n"
     ]
    }
   ],
   "source": [
    "statement_two = (f\"She is commonly referred to as the {known_for}.\")\n",
    "print(statement_two)"
   ]
  },
  {
   "cell_type": "code",
   "execution_count": 63,
   "id": "efc96b10-5863-4676-a972-5804dd8be738",
   "metadata": {
    "tags": []
   },
   "outputs": [
    {
     "name": "stdout",
     "output_type": "stream",
     "text": [
      "In 1842 she published the first Algorithm, the Analytical Engine, at the age of 27.\n"
     ]
    }
   ],
   "source": [
    "statement_three = (f\"In {year_of_publish} she published the first Algorithm, the Analytical Engine, at the age of 27.\")\n",
    "print(statement_three)"
   ]
  },
  {
   "cell_type": "code",
   "execution_count": 66,
   "id": "b7711844-be17-4305-9a50-452feca4a853",
   "metadata": {
    "tags": []
   },
   "outputs": [
    {
     "name": "stdout",
     "output_type": "stream",
     "text": [
      "She was a British Citizen who lived in London, England until her pasising in 1852 at the age of 37.\n"
     ]
    }
   ],
   "source": [
    "statement_four = (f\"She was a {nationality} Citizen who lived in {city_location}, {country_location} until her pasising in {death_year} at the age of {age_at_passing}.\")\n",
    "print(statement_four)"
   ]
  },
  {
   "cell_type": "code",
   "execution_count": null,
   "id": "a3c990e9-544d-4974-9250-e3263446844d",
   "metadata": {},
   "outputs": [],
   "source": []
  }
 ],
 "metadata": {
  "kernelspec": {
   "display_name": "Python 3 (ipykernel)",
   "language": "python",
   "name": "python3"
  },
  "language_info": {
   "codemirror_mode": {
    "name": "ipython",
    "version": 3
   },
   "file_extension": ".py",
   "mimetype": "text/x-python",
   "name": "python",
   "nbconvert_exporter": "python",
   "pygments_lexer": "ipython3",
   "version": "3.11.4"
  }
 },
 "nbformat": 4,
 "nbformat_minor": 5
}
