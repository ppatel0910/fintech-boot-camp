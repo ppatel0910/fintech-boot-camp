{
 "cells": [
  {
   "cell_type": "code",
   "execution_count": 7,
   "id": "9dae6b38-f40f-4c5a-9f80-05273bfbb363",
   "metadata": {
    "tags": []
   },
   "outputs": [
    {
     "name": "stdin",
     "output_type": "stream",
     "text": [
      "Welcome to the sandwich shop, what do I call you? priya\n"
     ]
    },
    {
     "name": "stdout",
     "output_type": "stream",
     "text": [
      "Hello priya\n"
     ]
    }
   ],
   "source": [
    "welcome_name = input(\"Welcome to the sandwich shop, what do I call you?\")\n",
    "print(f\"Hello {welcome_name}\")"
   ]
  },
  {
   "cell_type": "code",
   "execution_count": null,
   "id": "3d8986dc-b6e7-4b10-8bf2-e230ff4f8aa5",
   "metadata": {
    "tags": []
   },
   "outputs": [],
   "source": [
    "question_sandwich = input(\"Are you here for a sandwich? Yes or No?\")\n",
    "\n",
    "if question_sandwich == \"Yes\":\n",
    "    food_prompt = input(\"What kind of sandwich would you like?\")\n",
    "    print(f\"Please wait 10 mins for your {food_prompt}\")\n",
    "elif question_sandwich == \"No\":\n",
    "    print(f\"If you don't want a sandwich what are you here for?!\")"
   ]
  },
  {
   "cell_type": "code",
   "execution_count": null,
   "id": "281ba1f2-cac7-42ff-a828-5b083fa02b19",
   "metadata": {},
   "outputs": [],
   "source": []
  }
 ],
 "metadata": {
  "kernelspec": {
   "display_name": "Python 3 (ipykernel)",
   "language": "python",
   "name": "python3"
  },
  "language_info": {
   "codemirror_mode": {
    "name": "ipython",
    "version": 3
   },
   "file_extension": ".py",
   "mimetype": "text/x-python",
   "name": "python",
   "nbconvert_exporter": "python",
   "pygments_lexer": "ipython3",
   "version": "3.11.4"
  }
 },
 "nbformat": 4,
 "nbformat_minor": 5
}
