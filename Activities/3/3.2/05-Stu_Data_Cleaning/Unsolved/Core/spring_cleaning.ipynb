{
 "cells": [
  {
   "cell_type": "markdown",
   "metadata": {},
   "source": [
    "# Spring Cleaning!"
   ]
  },
  {
   "cell_type": "markdown",
   "metadata": {},
   "source": [
    "Harold's stock data is a mess! Help him clean up his data before the auditors arrive!"
   ]
  },
  {
   "cell_type": "code",
   "execution_count": 1,
   "metadata": {
    "tags": []
   },
   "outputs": [],
   "source": [
    "# Import Libraries\n",
    "import pandas as pd\n",
    "from pathlib import Path"
   ]
  },
  {
   "cell_type": "markdown",
   "metadata": {},
   "source": [
    "### Load CSV data into Pandas using `read_csv`"
   ]
  },
  {
   "cell_type": "code",
   "execution_count": 2,
   "metadata": {
    "tags": []
   },
   "outputs": [],
   "source": [
    "csvpath = Path(\"../../Resources/stock_data.csv\")\n",
    "stock_data_frame = pd.read_csv(csvpath)"
   ]
  },
  {
   "cell_type": "markdown",
   "metadata": {},
   "source": [
    "### Identify the number of rows and columns (shape) in the DataFrame."
   ]
  },
  {
   "cell_type": "code",
   "execution_count": 3,
   "metadata": {
    "tags": []
   },
   "outputs": [
    {
     "data": {
      "text/plain": [
       "(504, 14)"
      ]
     },
     "execution_count": 3,
     "metadata": {},
     "output_type": "execute_result"
    }
   ],
   "source": [
    "stock_data_frame.shape"
   ]
  },
  {
   "cell_type": "markdown",
   "metadata": {},
   "source": [
    "### Generate a sample of the data to visually ensure data has been loaded in correctly."
   ]
  },
  {
   "cell_type": "code",
   "execution_count": 4,
   "metadata": {
    "tags": []
   },
   "outputs": [
    {
     "data": {
      "text/html": [
       "<div>\n",
       "<style scoped>\n",
       "    .dataframe tbody tr th:only-of-type {\n",
       "        vertical-align: middle;\n",
       "    }\n",
       "\n",
       "    .dataframe tbody tr th {\n",
       "        vertical-align: top;\n",
       "    }\n",
       "\n",
       "    .dataframe thead th {\n",
       "        text-align: right;\n",
       "    }\n",
       "</style>\n",
       "<table border=\"1\" class=\"dataframe\">\n",
       "  <thead>\n",
       "    <tr style=\"text-align: right;\">\n",
       "      <th></th>\n",
       "      <th>symbol</th>\n",
       "      <th>name</th>\n",
       "      <th>sector</th>\n",
       "      <th>price</th>\n",
       "      <th>price_per_earnings</th>\n",
       "      <th>dividend_yield</th>\n",
       "      <th>earnings_per_share</th>\n",
       "      <th>52_week_low</th>\n",
       "      <th>52_week_high</th>\n",
       "      <th>market_cap</th>\n",
       "      <th>ebitda</th>\n",
       "      <th>price_per_sales</th>\n",
       "      <th>price_per_book</th>\n",
       "      <th>sec_filings</th>\n",
       "    </tr>\n",
       "  </thead>\n",
       "  <tbody>\n",
       "    <tr>\n",
       "      <th>446</th>\n",
       "      <td>TMK</td>\n",
       "      <td>Torchmark Corp.</td>\n",
       "      <td>Financials</td>\n",
       "      <td>80.52</td>\n",
       "      <td>17.02</td>\n",
       "      <td>0.720461</td>\n",
       "      <td>4.5</td>\n",
       "      <td>93.595</td>\n",
       "      <td>73.530</td>\n",
       "      <td>9.614412e+09</td>\n",
       "      <td>0.000000e+00</td>\n",
       "      <td>3.107966</td>\n",
       "      <td>1.88</td>\n",
       "      <td>http://www.sec.gov/cgi-bin/browse-edgar?action...</td>\n",
       "    </tr>\n",
       "    <tr>\n",
       "      <th>498</th>\n",
       "      <td>XL</td>\n",
       "      <td>XL Capital</td>\n",
       "      <td>Financials</td>\n",
       "      <td>41.26</td>\n",
       "      <td>-19.93</td>\n",
       "      <td>2.095238</td>\n",
       "      <td>-2.24</td>\n",
       "      <td>47.270</td>\n",
       "      <td>33.770</td>\n",
       "      <td>1.075342e+10</td>\n",
       "      <td>0.000000e+00</td>\n",
       "      <td>0.843942</td>\n",
       "      <td>0.97</td>\n",
       "      <td>http://www.sec.gov/cgi-bin/browse-edgar?action...</td>\n",
       "    </tr>\n",
       "    <tr>\n",
       "      <th>265</th>\n",
       "      <td>K</td>\n",
       "      <td>Kellogg Co.</td>\n",
       "      <td>Consumer Staples</td>\n",
       "      <td>65.98</td>\n",
       "      <td>16.50</td>\n",
       "      <td>3.363962</td>\n",
       "      <td>1.95</td>\n",
       "      <td>76.690</td>\n",
       "      <td>58.760</td>\n",
       "      <td>2.218279e+10</td>\n",
       "      <td>1.827000e+09</td>\n",
       "      <td>2.317376</td>\n",
       "      <td>11.50</td>\n",
       "      <td>http://www.sec.gov/cgi-bin/browse-edgar?action...</td>\n",
       "    </tr>\n",
       "    <tr>\n",
       "      <th>363</th>\n",
       "      <td>PSX</td>\n",
       "      <td>Phillips 66</td>\n",
       "      <td>Energy</td>\n",
       "      <td>92.44</td>\n",
       "      <td>21.11</td>\n",
       "      <td>2.928564</td>\n",
       "      <td>9.93</td>\n",
       "      <td>107.470</td>\n",
       "      <td>75.135</td>\n",
       "      <td>4.799622e+10</td>\n",
       "      <td>5.311000e+09</td>\n",
       "      <td>0.474995</td>\n",
       "      <td>2.12</td>\n",
       "      <td>http://www.sec.gov/cgi-bin/browse-edgar?action...</td>\n",
       "    </tr>\n",
       "    <tr>\n",
       "      <th>206</th>\n",
       "      <td>IT</td>\n",
       "      <td>Gartner Inc</td>\n",
       "      <td>Information Technology</td>\n",
       "      <td>114.26</td>\n",
       "      <td>36.86</td>\n",
       "      <td>0.000000</td>\n",
       "      <td>2.31</td>\n",
       "      <td>142.160</td>\n",
       "      <td>97.960</td>\n",
       "      <td>1.082831e+10</td>\n",
       "      <td>2.349350e+08</td>\n",
       "      <td>4.894499</td>\n",
       "      <td>13.47</td>\n",
       "      <td>http://www.sec.gov/cgi-bin/browse-edgar?action...</td>\n",
       "    </tr>\n",
       "  </tbody>\n",
       "</table>\n",
       "</div>"
      ],
      "text/plain": [
       "    symbol             name                  sector   price  \\\n",
       "446    TMK  Torchmark Corp.              Financials   80.52   \n",
       "498     XL       XL Capital              Financials   41.26   \n",
       "265      K      Kellogg Co.        Consumer Staples   65.98   \n",
       "363    PSX      Phillips 66                  Energy   92.44   \n",
       "206     IT      Gartner Inc  Information Technology  114.26   \n",
       "\n",
       "     price_per_earnings  dividend_yield earnings_per_share  52_week_low  \\\n",
       "446               17.02        0.720461                4.5       93.595   \n",
       "498              -19.93        2.095238              -2.24       47.270   \n",
       "265               16.50        3.363962               1.95       76.690   \n",
       "363               21.11        2.928564               9.93      107.470   \n",
       "206               36.86        0.000000               2.31      142.160   \n",
       "\n",
       "     52_week_high    market_cap        ebitda  price_per_sales  \\\n",
       "446        73.530  9.614412e+09  0.000000e+00         3.107966   \n",
       "498        33.770  1.075342e+10  0.000000e+00         0.843942   \n",
       "265        58.760  2.218279e+10  1.827000e+09         2.317376   \n",
       "363        75.135  4.799622e+10  5.311000e+09         0.474995   \n",
       "206        97.960  1.082831e+10  2.349350e+08         4.894499   \n",
       "\n",
       "     price_per_book                                        sec_filings  \n",
       "446            1.88  http://www.sec.gov/cgi-bin/browse-edgar?action...  \n",
       "498            0.97  http://www.sec.gov/cgi-bin/browse-edgar?action...  \n",
       "265           11.50  http://www.sec.gov/cgi-bin/browse-edgar?action...  \n",
       "363            2.12  http://www.sec.gov/cgi-bin/browse-edgar?action...  \n",
       "206           13.47  http://www.sec.gov/cgi-bin/browse-edgar?action...  "
      ]
     },
     "execution_count": 4,
     "metadata": {},
     "output_type": "execute_result"
    }
   ],
   "source": [
    "stock_data_frame.sample(5)"
   ]
  },
  {
   "cell_type": "markdown",
   "metadata": {},
   "source": [
    "### Identify the number of records in the DataFrame, and compare it with the number of rows in the original file."
   ]
  },
  {
   "cell_type": "code",
   "execution_count": 5,
   "metadata": {
    "tags": []
   },
   "outputs": [
    {
     "name": "stdout",
     "output_type": "stream",
     "text": [
      "Number of records: 504\n",
      "Number of rows: 504\n"
     ]
    }
   ],
   "source": [
    "records = stock_data_frame.to_records()\n",
    "number_of_records = len(records)\n",
    "print(f\"Number of records: {number_of_records}\")\n",
    "\n",
    "# .shape() returns a tuple with shape (rows, columns), so we do .0 to get \n",
    "# just the number of rows\n",
    "number_of_rows = stock_data_frame.shape[0]\n",
    "print(f\"Number of rows: {number_of_rows}\")"
   ]
  },
  {
   "cell_type": "markdown",
   "metadata": {},
   "source": [
    "### Identify nulls records"
   ]
  },
  {
   "cell_type": "code",
   "execution_count": 6,
   "metadata": {
    "tags": []
   },
   "outputs": [
    {
     "data": {
      "text/plain": [
       "symbol                0.000000\n",
       "name                  0.396825\n",
       "sector                0.595238\n",
       "price                 0.793651\n",
       "price_per_earnings    1.388889\n",
       "dividend_yield        0.992063\n",
       "earnings_per_share    1.190476\n",
       "52_week_low           0.793651\n",
       "52_week_high          0.793651\n",
       "market_cap            0.793651\n",
       "ebitda                2.380952\n",
       "price_per_sales       0.793651\n",
       "price_per_book        2.380952\n",
       "sec_filings           0.793651\n",
       "dtype: float64"
      ]
     },
     "execution_count": 6,
     "metadata": {},
     "output_type": "execute_result"
    }
   ],
   "source": [
    "stock_data_frame.isnull().mean() * 100"
   ]
  },
  {
   "cell_type": "markdown",
   "metadata": {},
   "source": [
    "### Drop Null Records"
   ]
  },
  {
   "cell_type": "code",
   "execution_count": 17,
   "metadata": {},
   "outputs": [],
   "source": [
    "stock_data_frame.dropna(inplace = True)"
   ]
  },
  {
   "cell_type": "markdown",
   "metadata": {},
   "source": [
    "### Validate nulls have been dropped"
   ]
  },
  {
   "cell_type": "code",
   "execution_count": 18,
   "metadata": {},
   "outputs": [
    {
     "data": {
      "text/plain": [
       "symbol                0\n",
       "name                  0\n",
       "sector                0\n",
       "price                 0\n",
       "price_per_earnings    0\n",
       "dividend_yield        0\n",
       "earnings_per_share    0\n",
       "52_week_low           0\n",
       "52_week_high          0\n",
       "market_cap            0\n",
       "ebitda                0\n",
       "price_per_sales       0\n",
       "price_per_book        0\n",
       "sec_filings           0\n",
       "dtype: int64"
      ]
     },
     "execution_count": 18,
     "metadata": {},
     "output_type": "execute_result"
    }
   ],
   "source": [
    "stock_data_frame.isnull().sum()"
   ]
  },
  {
   "cell_type": "code",
   "execution_count": 19,
   "metadata": {},
   "outputs": [
    {
     "data": {
      "text/plain": [
       "(478, 14)"
      ]
     },
     "execution_count": 19,
     "metadata": {},
     "output_type": "execute_result"
    }
   ],
   "source": [
    "stock_data_frame.shape"
   ]
  },
  {
   "cell_type": "code",
   "execution_count": 20,
   "metadata": {
    "tags": []
   },
   "outputs": [
    {
     "data": {
      "text/plain": [
       "symbol                478\n",
       "name                  478\n",
       "sector                478\n",
       "price                 478\n",
       "price_per_earnings    478\n",
       "dividend_yield        478\n",
       "earnings_per_share    478\n",
       "52_week_low           478\n",
       "52_week_high          478\n",
       "market_cap            478\n",
       "ebitda                478\n",
       "price_per_sales       478\n",
       "price_per_book        478\n",
       "sec_filings           478\n",
       "dtype: int64"
      ]
     },
     "execution_count": 20,
     "metadata": {},
     "output_type": "execute_result"
    }
   ],
   "source": [
    "stock_data_frame.count()"
   ]
  },
  {
   "cell_type": "markdown",
   "metadata": {},
   "source": [
    "### Default null `ebitda` values to 0. Then, validate no records are null for ebitda."
   ]
  },
  {
   "cell_type": "code",
   "execution_count": 31,
   "metadata": {
    "tags": []
   },
   "outputs": [
    {
     "data": {
      "text/plain": [
       "0"
      ]
     },
     "execution_count": 31,
     "metadata": {},
     "output_type": "execute_result"
    }
   ],
   "source": [
    "stock_data_frame['ebitda'].isnull().sum()"
   ]
  },
  {
   "cell_type": "code",
   "execution_count": 23,
   "metadata": {
    "tags": []
   },
   "outputs": [
    {
     "data": {
      "text/plain": [
       "0      9.048000e+09\n",
       "2      5.744000e+09\n",
       "3      1.031000e+10\n",
       "5      5.878000e+08\n",
       "6      2.538040e+09\n",
       "           ...     \n",
       "499    7.220000e+08\n",
       "500    2.289000e+09\n",
       "501    2.007400e+09\n",
       "502    0.000000e+00\n",
       "503    1.734000e+09\n",
       "Name: ebitda, Length: 478, dtype: float64"
      ]
     },
     "execution_count": 23,
     "metadata": {},
     "output_type": "execute_result"
    }
   ],
   "source": [
    "stock_data_frame[\"ebitda\"].fillna(0, inplace = False)"
   ]
  },
  {
   "cell_type": "code",
   "execution_count": 32,
   "metadata": {
    "tags": []
   },
   "outputs": [
    {
     "data": {
      "text/plain": [
       "0"
      ]
     },
     "execution_count": 32,
     "metadata": {},
     "output_type": "execute_result"
    }
   ],
   "source": [
    "stock_data_frame['ebitda'].isnull().sum()"
   ]
  },
  {
   "cell_type": "markdown",
   "metadata": {
    "tags": []
   },
   "source": [
    "### Drop Duplicates"
   ]
  },
  {
   "cell_type": "code",
   "execution_count": 43,
   "metadata": {
    "tags": []
   },
   "outputs": [
    {
     "data": {
      "text/plain": [
       "0      False\n",
       "2      False\n",
       "3      False\n",
       "5      False\n",
       "6      False\n",
       "       ...  \n",
       "499    False\n",
       "500    False\n",
       "501    False\n",
       "502    False\n",
       "503    False\n",
       "Length: 478, dtype: bool"
      ]
     },
     "execution_count": 43,
     "metadata": {},
     "output_type": "execute_result"
    }
   ],
   "source": [
    "stock_data_frame.duplicated()"
   ]
  },
  {
   "cell_type": "code",
   "execution_count": 42,
   "metadata": {},
   "outputs": [
    {
     "data": {
      "text/plain": [
       "0      False\n",
       "2      False\n",
       "3      False\n",
       "5      False\n",
       "6      False\n",
       "       ...  \n",
       "499    False\n",
       "500    False\n",
       "501    False\n",
       "502    False\n",
       "503    False\n",
       "Length: 478, dtype: bool"
      ]
     },
     "execution_count": 42,
     "metadata": {},
     "output_type": "execute_result"
    }
   ],
   "source": [
    "stock_data_frame.drop_duplicates(inplace = True)\n",
    "stock_data_frame.duplicated()"
   ]
  },
  {
   "cell_type": "code",
   "execution_count": null,
   "metadata": {},
   "outputs": [],
   "source": []
  }
 ],
 "metadata": {
  "kernelspec": {
   "display_name": "Python 3 (ipykernel)",
   "language": "python",
   "name": "python3"
  },
  "language_info": {
   "codemirror_mode": {
    "name": "ipython",
    "version": 3
   },
   "file_extension": ".py",
   "mimetype": "text/x-python",
   "name": "python",
   "nbconvert_exporter": "python",
   "pygments_lexer": "ipython3",
   "version": "3.11.4"
  }
 },
 "nbformat": 4,
 "nbformat_minor": 4
}
