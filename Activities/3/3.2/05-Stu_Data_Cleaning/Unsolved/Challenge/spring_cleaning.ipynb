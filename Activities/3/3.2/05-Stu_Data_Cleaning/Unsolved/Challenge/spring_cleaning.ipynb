{
 "cells": [
  {
   "cell_type": "markdown",
   "metadata": {},
   "source": [
    "# Spring Cleaning!"
   ]
  },
  {
   "cell_type": "markdown",
   "metadata": {},
   "source": [
    "Harold's stock data is a mess! Help him clean up his data before the auditors arrive!"
   ]
  },
  {
   "cell_type": "code",
   "execution_count": 1,
   "metadata": {
    "tags": []
   },
   "outputs": [],
   "source": [
    "# Import Libraries\n",
    "import pandas as pd\n",
    "from pathlib import Path"
   ]
  },
  {
   "cell_type": "markdown",
   "metadata": {},
   "source": [
    "### Load CSV data into Pandas using `read_csv`"
   ]
  },
  {
   "cell_type": "code",
   "execution_count": 4,
   "metadata": {
    "tags": []
   },
   "outputs": [],
   "source": [
    "cvspath = Path(\"../../Resources/stock_data.csv\")\n",
    "stock_data_frame = pd.read_csv(cvspath)"
   ]
  },
  {
   "cell_type": "markdown",
   "metadata": {},
   "source": [
    "### Identify the number of rows and columns (shape) in the DataFrame."
   ]
  },
  {
   "cell_type": "code",
   "execution_count": 9,
   "metadata": {
    "tags": []
   },
   "outputs": [
    {
     "data": {
      "text/plain": [
       "<bound method DataFrame.count of     symbol                    name                  sector    price  \\\n",
       "0      MMM              3M Company             Industrials  $222.89   \n",
       "1      AOS         A.O. Smith Corp             Industrials      NaN   \n",
       "2      ABT     Abbott Laboratories             Health Care    56.27   \n",
       "3     ABBV             AbbVie Inc.             Health Care   108.48   \n",
       "4     ATVI     Activision Blizzard  Information Technology    65.83   \n",
       "..     ...                     ...                     ...      ...   \n",
       "499    XYL              Xylem Inc.             Industrials    70.24   \n",
       "500    YUM         Yum! Brands Inc  Consumer Discretionary     76.3   \n",
       "501    ZBH  Zimmer Biomet Holdings             Health Care   115.53   \n",
       "502   ZION           Zions Bancorp              Financials    50.71   \n",
       "503    ZTS                  Zoetis             Health Care    71.51   \n",
       "\n",
       "     price_per_earnings  dividend_yield earnings_per_share  52_week_low  \\\n",
       "0                 24.31        2.332862              $7.92      259.770   \n",
       "1                   NaN             NaN                NaN          NaN   \n",
       "2                 22.51        1.908982               0.26       64.600   \n",
       "3                 19.41        2.499560               3.29      125.860   \n",
       "4                   NaN        0.431903               1.28       74.945   \n",
       "..                  ...             ...                ...          ...   \n",
       "499               30.94        1.170079               1.83       76.810   \n",
       "500               27.25        1.797080               4.07       86.930   \n",
       "501               14.32        0.794834               9.01      133.490   \n",
       "502               17.73        1.480933                2.6       55.610   \n",
       "503               32.80        0.682372               1.65       80.130   \n",
       "\n",
       "     52_week_high    market_cap        ebitda  price_per_sales  \\\n",
       "0          175.49  1.387211e+11  9.048000e+09         4.390271   \n",
       "1             NaN           NaN           NaN              NaN   \n",
       "2           42.28  1.021210e+11  5.744000e+09         3.740480   \n",
       "3           60.05  1.813863e+11  1.031000e+10         6.291571   \n",
       "4           38.93  5.251867e+10  2.704000e+09        10.595120   \n",
       "..            ...           ...           ...              ...   \n",
       "499         46.86  1.291502e+10  7.220000e+08         2.726209   \n",
       "500         62.85  2.700330e+10  2.289000e+09         6.313636   \n",
       "501        108.17  2.445470e+10  2.007400e+09         3.164895   \n",
       "502         38.43  1.067068e+10  0.000000e+00         3.794579   \n",
       "503         52.00  3.599111e+10  1.734000e+09         9.280896   \n",
       "\n",
       "     price_per_book                                        sec_filings  \n",
       "0             11.34  http://www.sec.gov/cgi-bin/browse-edgar?action...  \n",
       "1               NaN                                                NaN  \n",
       "2              3.19  http://www.sec.gov/cgi-bin/browse-edgar?action...  \n",
       "3             26.14  http://www.sec.gov/cgi-bin/browse-edgar?action...  \n",
       "4              5.16  http://www.sec.gov/cgi-bin/browse-edgar?action...  \n",
       "..              ...                                                ...  \n",
       "499            5.31  http://www.sec.gov/cgi-bin/browse-edgar?action...  \n",
       "500          212.08  http://www.sec.gov/cgi-bin/browse-edgar?action...  \n",
       "501            2.39  http://www.sec.gov/cgi-bin/browse-edgar?action...  \n",
       "502            1.42  http://www.sec.gov/cgi-bin/browse-edgar?action...  \n",
       "503           18.09  http://www.sec.gov/cgi-bin/browse-edgar?action...  \n",
       "\n",
       "[504 rows x 14 columns]>"
      ]
     },
     "execution_count": 9,
     "metadata": {},
     "output_type": "execute_result"
    }
   ],
   "source": [
    "stock_data_frame.count"
   ]
  },
  {
   "cell_type": "markdown",
   "metadata": {},
   "source": [
    "### Generate a sample of the data to visually ensure data has been loaded in correctly."
   ]
  },
  {
   "cell_type": "code",
   "execution_count": null,
   "metadata": {},
   "outputs": [],
   "source": []
  },
  {
   "cell_type": "markdown",
   "metadata": {},
   "source": [
    "### Identify the number of records in the DataFrame, and compare it with the number of rows in the original file."
   ]
  },
  {
   "cell_type": "code",
   "execution_count": null,
   "metadata": {},
   "outputs": [],
   "source": []
  },
  {
   "cell_type": "markdown",
   "metadata": {},
   "source": [
    "### Identify nulls records"
   ]
  },
  {
   "cell_type": "code",
   "execution_count": null,
   "metadata": {},
   "outputs": [],
   "source": []
  },
  {
   "cell_type": "markdown",
   "metadata": {},
   "source": [
    "### Drop Null Records"
   ]
  },
  {
   "cell_type": "code",
   "execution_count": null,
   "metadata": {},
   "outputs": [],
   "source": []
  },
  {
   "cell_type": "markdown",
   "metadata": {},
   "source": [
    "### Validate nulls have been dropped"
   ]
  },
  {
   "cell_type": "code",
   "execution_count": null,
   "metadata": {},
   "outputs": [],
   "source": []
  },
  {
   "cell_type": "markdown",
   "metadata": {},
   "source": [
    "### Default null `ebitda` values to 0. Then, validate no records are null for ebitda."
   ]
  },
  {
   "cell_type": "code",
   "execution_count": null,
   "metadata": {},
   "outputs": [],
   "source": []
  },
  {
   "cell_type": "markdown",
   "metadata": {},
   "source": [
    "### Drop Duplicates"
   ]
  },
  {
   "cell_type": "code",
   "execution_count": null,
   "metadata": {},
   "outputs": [],
   "source": []
  },
  {
   "cell_type": "markdown",
   "metadata": {},
   "source": [
    "### Sample `price` field"
   ]
  },
  {
   "cell_type": "code",
   "execution_count": null,
   "metadata": {},
   "outputs": [],
   "source": []
  },
  {
   "cell_type": "markdown",
   "metadata": {},
   "source": [
    "### Clean `price` Series by replacing `$`"
   ]
  },
  {
   "cell_type": "code",
   "execution_count": null,
   "metadata": {},
   "outputs": [],
   "source": []
  },
  {
   "cell_type": "markdown",
   "metadata": {},
   "source": [
    "### Confirm data type of `price`"
   ]
  },
  {
   "cell_type": "code",
   "execution_count": null,
   "metadata": {},
   "outputs": [],
   "source": []
  },
  {
   "cell_type": "markdown",
   "metadata": {},
   "source": [
    "### Cast `price` Series as float and then validate using `dtype`"
   ]
  },
  {
   "cell_type": "code",
   "execution_count": null,
   "metadata": {},
   "outputs": [],
   "source": []
  }
 ],
 "metadata": {
  "kernelspec": {
   "display_name": "Python 3 (ipykernel)",
   "language": "python",
   "name": "python3"
  },
  "language_info": {
   "codemirror_mode": {
    "name": "ipython",
    "version": 3
   },
   "file_extension": ".py",
   "mimetype": "text/x-python",
   "name": "python",
   "nbconvert_exporter": "python",
   "pygments_lexer": "ipython3",
   "version": "3.11.4"
  }
 },
 "nbformat": 4,
 "nbformat_minor": 4
}
