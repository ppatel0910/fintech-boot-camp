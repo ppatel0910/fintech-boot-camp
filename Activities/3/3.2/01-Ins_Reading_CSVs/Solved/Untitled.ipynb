{
 "cells": [
  {
   "cell_type": "code",
   "execution_count": 1,
   "id": "2a8b3f0a-2602-4730-8fd4-06a6b7943885",
   "metadata": {},
   "outputs": [],
   "source": [
    "import pandas as pd\n",
    "from pathlib import Path "
   ]
  },
  {
   "cell_type": "code",
   "execution_count": 2,
   "id": "a2616406-8332-4c27-a70d-ee804705605b",
   "metadata": {},
   "outputs": [
    {
     "data": {
      "text/html": [
       "<div>\n",
       "<style scoped>\n",
       "    .dataframe tbody tr th:only-of-type {\n",
       "        vertical-align: middle;\n",
       "    }\n",
       "\n",
       "    .dataframe tbody tr th {\n",
       "        vertical-align: top;\n",
       "    }\n",
       "\n",
       "    .dataframe thead th {\n",
       "        text-align: right;\n",
       "    }\n",
       "</style>\n",
       "<table border=\"1\" class=\"dataframe\">\n",
       "  <thead>\n",
       "    <tr style=\"text-align: right;\">\n",
       "      <th></th>\n",
       "      <th>Full Name</th>\n",
       "      <th>Email</th>\n",
       "      <th>Primary Address</th>\n",
       "      <th>Zip Code</th>\n",
       "      <th>Credit Card Number</th>\n",
       "      <th>Sale Price</th>\n",
       "    </tr>\n",
       "  </thead>\n",
       "  <tbody>\n",
       "    <tr>\n",
       "      <th>0</th>\n",
       "      <td>FullName</td>\n",
       "      <td>Email</td>\n",
       "      <td>Address</td>\n",
       "      <td>Zip</td>\n",
       "      <td>CreditCard</td>\n",
       "      <td>SalePrice</td>\n",
       "    </tr>\n",
       "    <tr>\n",
       "      <th>1</th>\n",
       "      <td>Elwanda White</td>\n",
       "      <td>alyre2036@live.com</td>\n",
       "      <td>352 Lakeshore Mall</td>\n",
       "      <td>9236</td>\n",
       "      <td>5327 0855 9720 7055</td>\n",
       "      <td>84.33</td>\n",
       "    </tr>\n",
       "    <tr>\n",
       "      <th>2</th>\n",
       "      <td>Lyndon Elliott</td>\n",
       "      <td>arrowy1873@outlook.com</td>\n",
       "      <td>1234 Avery Plaza</td>\n",
       "      <td>1330</td>\n",
       "      <td>3717 498777 19636</td>\n",
       "      <td>879.95</td>\n",
       "    </tr>\n",
       "    <tr>\n",
       "      <th>3</th>\n",
       "      <td>Daisey Sellers</td>\n",
       "      <td>toucan2024@outlook.com</td>\n",
       "      <td>469 Elwood Street</td>\n",
       "      <td>7631</td>\n",
       "      <td>3758 579477 35734</td>\n",
       "      <td>907.58</td>\n",
       "    </tr>\n",
       "    <tr>\n",
       "      <th>4</th>\n",
       "      <td>Issac Reeves</td>\n",
       "      <td>asarin1958@gmail.com</td>\n",
       "      <td>565 Phelps Field</td>\n",
       "      <td>81168</td>\n",
       "      <td>4400 0380 4162 1622</td>\n",
       "      <td>545.88</td>\n",
       "    </tr>\n",
       "  </tbody>\n",
       "</table>\n",
       "</div>"
      ],
      "text/plain": [
       "        Full Name                   Email     Primary Address Zip Code  \\\n",
       "0        FullName                   Email             Address      Zip   \n",
       "1   Elwanda White      alyre2036@live.com  352 Lakeshore Mall     9236   \n",
       "2  Lyndon Elliott  arrowy1873@outlook.com    1234 Avery Plaza     1330   \n",
       "3  Daisey Sellers  toucan2024@outlook.com   469 Elwood Street     7631   \n",
       "4    Issac Reeves    asarin1958@gmail.com    565 Phelps Field    81168   \n",
       "\n",
       "    Credit Card Number Sale Price  \n",
       "0           CreditCard  SalePrice  \n",
       "1  5327 0855 9720 7055      84.33  \n",
       "2    3717 498777 19636     879.95  \n",
       "3    3758 579477 35734     907.58  \n",
       "4  4400 0380 4162 1622     545.88  "
      ]
     },
     "execution_count": 2,
     "metadata": {},
     "output_type": "execute_result"
    }
   ],
   "source": [
    "csvpath = Path(\"../Resources/sales.csv\")\n",
    "sales_dataframe = pd.read_csv(csvpath, header = None)\n",
    "columns = [\"Full Name\", \"Email\", \"Primary Address\", \"Zip Code\", \"Credit Card Number\", \"Sale Price\"]\n",
    "sales_dataframe.columns = columns\n",
    "sales_dataframe.head()"
   ]
  },
  {
   "cell_type": "code",
   "execution_count": 3,
   "id": "61996743-916f-4603-b441-7ae5343c27f3",
   "metadata": {
    "tags": []
   },
   "outputs": [
    {
     "data": {
      "text/html": [
       "<div>\n",
       "<style scoped>\n",
       "    .dataframe tbody tr th:only-of-type {\n",
       "        vertical-align: middle;\n",
       "    }\n",
       "\n",
       "    .dataframe tbody tr th {\n",
       "        vertical-align: top;\n",
       "    }\n",
       "\n",
       "    .dataframe thead th {\n",
       "        text-align: right;\n",
       "    }\n",
       "</style>\n",
       "<table border=\"1\" class=\"dataframe\">\n",
       "  <thead>\n",
       "    <tr style=\"text-align: right;\">\n",
       "      <th></th>\n",
       "      <th>Full Name</th>\n",
       "      <th>Email</th>\n",
       "      <th>Primary Address</th>\n",
       "      <th>Zip Code</th>\n",
       "      <th>Credit Card Number</th>\n",
       "      <th>Sale Price</th>\n",
       "    </tr>\n",
       "  </thead>\n",
       "  <tbody>\n",
       "    <tr>\n",
       "      <th>count</th>\n",
       "      <td>101</td>\n",
       "      <td>101</td>\n",
       "      <td>101</td>\n",
       "      <td>101</td>\n",
       "      <td>101</td>\n",
       "      <td>101</td>\n",
       "    </tr>\n",
       "    <tr>\n",
       "      <th>unique</th>\n",
       "      <td>101</td>\n",
       "      <td>101</td>\n",
       "      <td>101</td>\n",
       "      <td>101</td>\n",
       "      <td>101</td>\n",
       "      <td>101</td>\n",
       "    </tr>\n",
       "    <tr>\n",
       "      <th>top</th>\n",
       "      <td>FullName</td>\n",
       "      <td>Email</td>\n",
       "      <td>Address</td>\n",
       "      <td>Zip</td>\n",
       "      <td>CreditCard</td>\n",
       "      <td>SalePrice</td>\n",
       "    </tr>\n",
       "    <tr>\n",
       "      <th>freq</th>\n",
       "      <td>1</td>\n",
       "      <td>1</td>\n",
       "      <td>1</td>\n",
       "      <td>1</td>\n",
       "      <td>1</td>\n",
       "      <td>1</td>\n",
       "    </tr>\n",
       "  </tbody>\n",
       "</table>\n",
       "</div>"
      ],
      "text/plain": [
       "       Full Name  Email Primary Address Zip Code Credit Card Number Sale Price\n",
       "count        101    101             101      101                101        101\n",
       "unique       101    101             101      101                101        101\n",
       "top     FullName  Email         Address      Zip         CreditCard  SalePrice\n",
       "freq           1      1               1        1                  1          1"
      ]
     },
     "execution_count": 3,
     "metadata": {},
     "output_type": "execute_result"
    }
   ],
   "source": [
    "sales_dataframe.describe()"
   ]
  },
  {
   "cell_type": "code",
   "execution_count": 4,
   "id": "e2dde1a7-daf3-4022-85a1-8f6cf0f3534b",
   "metadata": {
    "tags": []
   },
   "outputs": [
    {
     "name": "stdout",
     "output_type": "stream",
     "text": [
      "<bound method NDFrame.describe of              Full Name                      Email          Primary Address  \\\n",
      "0             FullName                      Email                  Address   \n",
      "1        Elwanda White         alyre2036@live.com       352 Lakeshore Mall   \n",
      "2       Lyndon Elliott     arrowy1873@outlook.com         1234 Avery Plaza   \n",
      "3       Daisey Sellers     toucan2024@outlook.com        469 Elwood Street   \n",
      "4         Issac Reeves       asarin1958@gmail.com         565 Phelps Field   \n",
      "..                 ...                        ...                      ...   \n",
      "96          Basil Rios       holloo1814@yahoo.com        605 Sloat Terrace   \n",
      "97       Hipolito Rios  calefacient2049@gmail.com  1248 Fountain Boulevard   \n",
      "98   Clayton Robertson         coner2015@live.com        230 Paper Parkway   \n",
      "99       Tony Chandler     sexillion2061@live.com     118 Flood Plantation   \n",
      "100        Cuc Mcgowan   dispatched1820@gmail.com       87 Louisiana Grove   \n",
      "\n",
      "    Zip Code   Credit Card Number Sale Price  \n",
      "0        Zip           CreditCard  SalePrice  \n",
      "1       9236  5327 0855 9720 7055      84.33  \n",
      "2       1330    3717 498777 19636     879.95  \n",
      "3       7631    3758 579477 35734     907.58  \n",
      "4      81168  4400 0380 4162 1622     545.88  \n",
      "..       ...                  ...        ...  \n",
      "96      8108  5581 7245 8451 9384     937.14  \n",
      "97     37077  2333 0264 5343 2022     645.82  \n",
      "98     57242  2414 3939 6501 2607     128.73  \n",
      "99     70135  5581 8059 1883 1841        820  \n",
      "100    70959  2678 4140 5531 3894     764.69  \n",
      "\n",
      "[101 rows x 6 columns]>\n"
     ]
    }
   ],
   "source": []
  },
  {
   "cell_type": "code",
   "execution_count": null,
   "id": "63057c8b-4c47-4db7-9ff9-4a1c9d37c470",
   "metadata": {},
   "outputs": [],
   "source": []
  },
  {
   "cell_type": "code",
   "execution_count": 5,
   "id": "c055d210-c7f8-40de-a6d6-d0ff32d55885",
   "metadata": {
    "tags": []
   },
   "outputs": [
    {
     "name": "stdout",
     "output_type": "stream",
     "text": [
      "xddgsChl\n"
     ]
    }
   ],
   "source": [
    "input_string = \"CxowdwidnfgcisswCgohojlk\"\n",
    "\n",
    "hidden_message = input_string[1::3]\n",
    "\n",
    "print(hidden_message)\n",
    "\n"
   ]
  }
 ],
 "metadata": {
  "kernelspec": {
   "display_name": "Python 3 (ipykernel)",
   "language": "python",
   "name": "python3"
  },
  "language_info": {
   "codemirror_mode": {
    "name": "ipython",
    "version": 3
   },
   "file_extension": ".py",
   "mimetype": "text/x-python",
   "name": "python",
   "nbconvert_exporter": "python",
   "pygments_lexer": "ipython3",
   "version": "3.11.4"
  }
 },
 "nbformat": 4,
 "nbformat_minor": 5
}
