{
 "cells": [
  {
   "cell_type": "code",
   "execution_count": null,
   "id": "f260989b-c430-4129-9066-4eabcb3db6bd",
   "metadata": {},
   "outputs": [],
   "source": [
    "first = [1, 2 ,3]\n",
    "second = [3, 2, 1]"
   ]
  },
  {
   "cell_type": "code",
   "execution_count": null,
   "id": "f10a5529-9ef6-4c47-8330-a8c8a7a8656c",
   "metadata": {},
   "outputs": [],
   "source": [
    "list first = [1, 2, 3]\n",
    "list second = [3, 2, 1]"
   ]
  },
  {
   "cell_type": "code",
   "execution_count": null,
   "id": "71b9aa20-ab40-48b2-9218-a2e91e6264cb",
   "metadata": {},
   "outputs": [],
   "source": [
    "if "
   ]
  },
  {
   "cell_type": "code",
   "execution_count": null,
   "id": "324b9140-7e5c-41e6-8828-7246b70dcdc6",
   "metadata": {},
   "outputs": [],
   "source": []
  }
 ],
 "metadata": {
  "kernelspec": {
   "display_name": "Python 3 (ipykernel)",
   "language": "python",
   "name": "python3"
  },
  "language_info": {
   "codemirror_mode": {
    "name": "ipython",
    "version": 3
   },
   "file_extension": ".py",
   "mimetype": "text/x-python",
   "name": "python",
   "nbconvert_exporter": "python",
   "pygments_lexer": "ipython3",
   "version": "3.11.4"
  }
 },
 "nbformat": 4,
 "nbformat_minor": 5
}
